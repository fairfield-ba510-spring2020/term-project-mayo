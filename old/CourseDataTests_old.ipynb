{
 "cells": [
  {
   "cell_type": "code",
   "execution_count": 1,
   "metadata": {},
   "outputs": [],
   "source": [
    "import sqlite3\n",
    "import pandas as pd\n",
    "from sqlalchemy import create_engine\n",
    "engine = create_engine(\"sqlite:///TestDB.db\")"
   ]
  },
  {
   "cell_type": "code",
   "execution_count": null,
   "metadata": {},
   "outputs": [],
   "source": [
    "print('---------------------------------------------')\n",
    "print(\"             instructor lookup\")\n",
    "print('---------------------------------------------')\n",
    "\n",
    "input_instructor = input(\"Enter the instructor's last name\")\n",
    "\n",
    "input_year = input(\"Enter the year you wish to see or type in No to see all the years:\").lower()\n",
    "if input_year == \"no\" or  input_year == \"n\" or  input_year == \"nah\" :\n",
    "    \n",
    "    quiry = '''SELECT FACULTY.instructor_fname,FACULTY.instructor_lname,Title,Catalog_id,Section,Semester,Year\n",
    "        FROM FACULTY\n",
    "        JOIN COURSE_OFFERING USING(FID)\n",
    "        WHERE FACULTY.instructor_lname like '%{}'\n",
    "        ORDER BY Year, Semester\n",
    "        LIMIT 20'''.format(input_instructor)\n",
    "    tables = pd.read_sql_query(quiry,engine)\n",
    "\n",
    "else :\n",
    "    input_semester = input(\"Enter the semseter you wish to see or type in No to see all the courses that the instructor is teaching in {0} :\".format(input_year)).capitalize()\n",
    "    if input_semester == \"no\" or  input_semester == \"n\" or  input_semester == \"nah\" :\n",
    "        quiry = '''SELECT FACULTY.instructor_fname,FACULTY.instructor_lname,Title,Catalog_id,Section,Semester,Year\n",
    "        FROM FACULTY\n",
    "        JOIN COURSE_OFFERING USING(FID)\n",
    "        WHERE FACULTY.instructor_lname like '%{0}' and year = {1}\n",
    "        ORDER BY Year, Semester\n",
    "        LIMIT 20'''.format(input_instructor , input_year )\n",
    "        tables = pd.read_sql_query(quiry,engine)\n",
    "    else:\n",
    "        quiry = '''SELECT FACULTY.instructor_fname,FACULTY.instructor_lname,Title,Catalog_id,Section,Semester,Year\n",
    "        FROM FACULTY\n",
    "        JOIN COURSE_OFFERING USING(FID)\n",
    "        WHERE FACULTY.instructor_lname like '%{0}' \n",
    "        AND year = {1}\n",
    "        AND SEMESTER == '{2}'\n",
    "        ORDER BY Year, Semester\n",
    "        LIMIT 20'''.format(input_instructor ,\n",
    "                           input_year , \n",
    "                           input_semester )\n",
    "        tables = pd.read_sql_query(quiry,engine)\n",
    "    \n",
    "\n",
    "\n",
    "    \n",
    "\n",
    "tables    \n"
   ]
  },
  {
   "cell_type": "code",
   "execution_count": null,
   "metadata": {},
   "outputs": [],
   "source": []
  }
 ],
 "metadata": {
  "kernelspec": {
   "display_name": "Python 3",
   "language": "python",
   "name": "python3"
  },
  "language_info": {
   "codemirror_mode": {
    "name": "ipython",
    "version": 3
   },
   "file_extension": ".py",
   "mimetype": "text/x-python",
   "name": "python",
   "nbconvert_exporter": "python",
   "pygments_lexer": "ipython3",
   "version": "3.6.7"
  }
 },
 "nbformat": 4,
 "nbformat_minor": 4
}
