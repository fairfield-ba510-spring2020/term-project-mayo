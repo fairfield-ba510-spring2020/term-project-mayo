{
 "cells": [
  {
   "cell_type": "markdown",
   "metadata": {},
   "source": [
    "1. **Create / Reset a SQLite database.** "
   ]
  },
  {
   "cell_type": "code",
   "execution_count": 1,
   "metadata": {},
   "outputs": [
    {
     "data": {
      "text/plain": [
       "'Connected: @TestCourseDataWarehouse.db'"
      ]
     },
     "execution_count": 1,
     "metadata": {},
     "output_type": "execute_result"
    }
   ],
   "source": [
    "# load %sql magic extension\n",
    "%load_ext sql\n",
    "\n",
    "# initialize a database connection; may have to adjust username and password \n",
    "%sql sqlite:///TestCourseDataWarehouse.db"
   ]
  },
  {
   "cell_type": "markdown",
   "metadata": {},
   "source": [
    "2. **Use SQL Create Table commands to implement the table designs from the ERD of the STAR SCHEMA DESIGN**"
   ]
  },
  {
   "cell_type": "code",
   "execution_count": 2,
   "metadata": {},
   "outputs": [
    {
     "name": "stdout",
     "output_type": "stream",
     "text": [
      " * sqlite:///TestCourseDataWarehouse.db\n",
      "Done.\n",
      "Done.\n",
      "Done.\n",
      "Done.\n",
      "Done.\n",
      "Done.\n",
      "Done.\n",
      "Done.\n",
      "Done.\n",
      "Done.\n",
      "Done.\n",
      "Done.\n",
      "Done.\n",
      "Done.\n",
      "Done.\n",
      "Done.\n",
      "Done.\n",
      "Done.\n"
     ]
    },
    {
     "data": {
      "text/plain": [
       "[]"
      ]
     },
     "execution_count": 2,
     "metadata": {},
     "output_type": "execute_result"
    }
   ],
   "source": [
    "%%sql \n",
    "\n",
    "/* CREATE TABLE: DIMENSION_DESCRIPTION */\n",
    "DROP TABLE IF EXISTS DIMENSION_DESCRIPTION;\n",
    "CREATE TABLE DIMENSION_DESCRIPTION (\n",
    "    DID INTEGER PRIMARY KEY NOT NULL,\n",
    "    CourseTitle TEXT,\n",
    "    Title TEXT,\n",
    "    Attributes TEXT,\n",
    "    Description TEXT\n",
    ");\n",
    "\n",
    "/* CREATE TABLE: DIMENSION_PROGRAM */\n",
    "DROP TABLE IF EXISTS DIMENSION_PROGRAM;\n",
    "CREATE TABLE DIMENSION_PROGRAM (\n",
    "    PID INTEGER PRIMARY KEY NOT NULL,\n",
    "    ProgramCode TEXT,\n",
    "    ProgramName TEXT\n",
    ");\n",
    "\n",
    "/* CREATE TABLE: DIMENSION_CREDITS */\n",
    "DROP TABLE IF EXISTS DIMENSION_CREDITS;\n",
    "CREATE TABLE DIMENSION_CREDITS (\n",
    "    CID INTEGER PRIMARY KEY NOT NULL,\n",
    "    Credits TEXT\n",
    ");\n",
    "\n",
    "/* CREATE TABLE: DIMENSION_FEES */\n",
    "DROP TABLE IF EXISTS DIMENSION_FEES;\n",
    "CREATE TABLE DIMENSION_FEES (\n",
    "    FID INTEGER PRIMARY KEY NOT NULL,\n",
    "    Fees TEXT\n",
    ");\n",
    "\n",
    "/* CREATE TABLE: DIMENSION_REQUIREMENTS */\n",
    "DROP TABLE IF EXISTS DIMENSION_REQUIREMENTS;\n",
    "CREATE TABLE DIMENSION_REQUIREMENTS (\n",
    "    RID INTEGER PRIMARY KEY NOT NULL,\n",
    "    Prereqs TEXT,\n",
    "    Coreqs TEXT\n",
    ");\n",
    "\n",
    "/* CREATE TABLE: DIMENSION_TIMEINTERVAL */\n",
    "DROP TABLE IF EXISTS DIMENSION_TIMEINTERVAL;\n",
    "CREATE TABLE DIMENSION_TIMEINTERVAL (\n",
    "    TID INTEGER PRIMARY KEY NOT NULL,\n",
    "    CatalogYear TEXT,\n",
    "    Semester TEXT\n",
    ");\n",
    "\n",
    "/* CREATE TABLE: DIMENSION_MEETINGS */\n",
    "DROP TABLE IF EXISTS DIMENSION_MEETINGS;\n",
    "CREATE TABLE DIMENSION_MEETINGS (\n",
    "    MID INTEGER PRIMARY KEY NOT NULL,\n",
    "    Meetings TEXT,\n",
    "    Day TEXT,\n",
    "    Start TEXT,\n",
    "    End TEXT,\n",
    "    Timecodes TEXT,\n",
    "    Section TEXT,\n",
    "    BuildingRoom TEXT,\n",
    "    BuildingName TEXT\n",
    ");\n",
    "\n",
    "/* CREATE TABLE: DIMENSION_INSTRUCTOR */\n",
    "DROP TABLE IF EXISTS DIMENSION_INSTRUCTOR;\n",
    "CREATE TABLE DIMENSION_INSTRUCTOR (\n",
    "    IID INTEGER PRIMARY KEY NOT NULL,\n",
    "    Instructor_fname TEXT,\n",
    "    Instructor_lname TEXT\n",
    ");\n",
    "\n",
    "/* CREATE TABLE: FACT_COURSE */\n",
    "DROP TABLE IF EXISTS FACT_COURSE;\n",
    "CREATE TABLE FACT_COURSE (\n",
    "    CatalogID INTEGER NOT NULL,\n",
    "    RID INTEGER NULL,\n",
    "    DID INTEGER NULL,\n",
    "    FID INTEGER NULL,\n",
    "    CID INTEGER NULL,\n",
    "    TID INTEGER NULL,\n",
    "    MID INTEGER NULL,\n",
    "    PID INTEGER NULL,\n",
    "    IID INTEGER NULL,\n",
    "    FOREIGN KEY (RID) REFERENCES DIMENSION_REQUIREMENTS (RID),\n",
    "    FOREIGN KEY (DID) REFERENCES DIMENSION_DESCRIPTION (DID),\n",
    "    FOREIGN KEY (FID) REFERENCES DIMENSION_FEES (FID),\n",
    "    FOREIGN KEY (CID) REFERENCES DIMENSION_CREDITS (CID),\n",
    "    FOREIGN KEY (TID) REFERENCES DIMENSION_TIMEINTERVAL (TID),\n",
    "    FOREIGN KEY (MID) REFERENCES DIMENSION_MEETINGS (MID),\n",
    "    FOREIGN KEY (PID) REFERENCES DIMENSION_PROGRAM (PID),\n",
    "    FOREIGN KEY (IID) REFERENCES DIMENSION_INSTRUCTOR (IID)\n",
    ");"
   ]
  },
  {
   "cell_type": "code",
   "execution_count": 3,
   "metadata": {},
   "outputs": [
    {
     "name": "stdout",
     "output_type": "stream",
     "text": [
      " * sqlite:///TestCourseDataWarehouse.db\n",
      "Done.\n"
     ]
    },
    {
     "data": {
      "text/html": [
       "<table>\n",
       "    <tr>\n",
       "        <th>CatalogID</th>\n",
       "        <th>Year</th>\n",
       "        <th>CRN</th>\n",
       "        <th>RID</th>\n",
       "        <th>DID</th>\n",
       "        <th>FID</th>\n",
       "        <th>CID</th>\n",
       "        <th>TID</th>\n",
       "        <th>MID</th>\n",
       "        <th>PID</th>\n",
       "        <th>IID</th>\n",
       "    </tr>\n",
       "</table>"
      ],
      "text/plain": [
       "[]"
      ]
     },
     "execution_count": 3,
     "metadata": {},
     "output_type": "execute_result"
    }
   ],
   "source": [
    "%%sql\n",
    "SELECT *\n",
    "FROM FACT_COURSE"
   ]
  },
  {
   "cell_type": "markdown",
   "metadata": {},
   "source": [
    "3. **Use SQL ALTER TABLE statements to add the foreign key constraints from your ERD.**  \n",
    "Take care that each constraint has to have a unique name."
   ]
  },
  {
   "cell_type": "code",
   "execution_count": 30,
   "metadata": {},
   "outputs": [
    {
     "name": "stdout",
     "output_type": "stream",
     "text": [
      " * sqlite:///TestCourseDataWarehouse.db\n",
      "   sqlite:///TestDB.db\n",
      "Done.\n",
      "Done.\n"
     ]
    },
    {
     "data": {
      "text/plain": [
       "[]"
      ]
     },
     "execution_count": 30,
     "metadata": {},
     "output_type": "execute_result"
    }
   ],
   "source": [
    "%%sql\n",
    "/* source: https://www.sqlitetutorial.net/sqlite-foreign-key/ */\n",
    "/* check wether program supports foreign keys */\n",
    "PRAGMA foreign_keys;\n",
    "/* To enable foreign key constraint: */\n",
    "PRAGMA foreign_keys = ON;"
   ]
  },
  {
   "cell_type": "markdown",
   "metadata": {},
   "source": [
    "4. **INSERT Data from Operational Database INTO DataWareHouse**"
   ]
  },
  {
   "cell_type": "code",
   "execution_count": null,
   "metadata": {},
   "outputs": [],
   "source": [
    "%%sql\n",
    "INSERT INTO DIMENSION_DESCRIPTION (CourseTitle, Title, Attributes, Description)\n",
    "SELECT CourseTitle, Title, Attributes, Description \n",
    "FROM COURSE"
   ]
  }
 ],
 "metadata": {
  "kernelspec": {
   "display_name": "Python 3",
   "language": "python",
   "name": "python3"
  },
  "language_info": {
   "codemirror_mode": {
    "name": "ipython",
    "version": 3
   },
   "file_extension": ".py",
   "mimetype": "text/x-python",
   "name": "python",
   "nbconvert_exporter": "python",
   "pygments_lexer": "ipython3",
   "version": "3.6.7"
  }
 },
 "nbformat": 4,
 "nbformat_minor": 4
}
