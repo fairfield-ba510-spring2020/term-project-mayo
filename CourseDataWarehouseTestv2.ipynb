{
 "cells": [
  {
   "cell_type": "code",
   "execution_count": 1,
   "metadata": {},
   "outputs": [
    {
     "data": {
      "text/plain": [
       "'Connected: @CourseDataWarehouse.db'"
      ]
     },
     "execution_count": 1,
     "metadata": {},
     "output_type": "execute_result"
    }
   ],
   "source": [
    "%load_ext sql\n",
    "%sql sqlite:///CourseDataWarehouse.db"
   ]
  },
  {
   "cell_type": "code",
   "execution_count": 2,
   "metadata": {},
   "outputs": [
    {
     "name": "stdout",
     "output_type": "stream",
     "text": [
      " * sqlite:///CourseDataWarehouse.db\n",
      "Done.\n"
     ]
    },
    {
     "data": {
      "text/plain": [
       "[]"
      ]
     },
     "execution_count": 2,
     "metadata": {},
     "output_type": "execute_result"
    }
   ],
   "source": [
    "%%sql\n",
    "ATTACH 'CourseData.db' AS CDDB"
   ]
  },
  {
   "cell_type": "code",
   "execution_count": 3,
   "metadata": {},
   "outputs": [
    {
     "name": "stdout",
     "output_type": "stream",
     "text": [
      " * sqlite:///CourseDataWarehouse.db\n",
      "Done.\n"
     ]
    },
    {
     "data": {
      "text/html": [
       "<table>\n",
       "    <tr>\n",
       "        <th>PID</th>\n",
       "        <th>program_code</th>\n",
       "        <th>program_name</th>\n",
       "    </tr>\n",
       "    <tr>\n",
       "        <td>1</td>\n",
       "        <td>AN</td>\n",
       "        <td>Asian Studies</td>\n",
       "    </tr>\n",
       "</table>"
      ],
      "text/plain": [
       "[(1, 'AN', 'Asian Studies')]"
      ]
     },
     "execution_count": 3,
     "metadata": {},
     "output_type": "execute_result"
    }
   ],
   "source": [
    "%%sql\n",
    "select * from CDDB.PROGRAMS LIMIT 1"
   ]
  },
  {
   "cell_type": "code",
   "execution_count": 204,
   "metadata": {},
   "outputs": [
    {
     "name": "stdout",
     "output_type": "stream",
     "text": [
      " * sqlite:///CourseDataWarehouse.db\n",
      "Done.\n",
      "Done.\n",
      "Done.\n",
      "Done.\n",
      "Done.\n",
      "Done.\n",
      "Done.\n",
      "Done.\n",
      "Done.\n",
      "Done.\n",
      "Done.\n"
     ]
    },
    {
     "data": {
      "text/plain": [
       "[]"
      ]
     },
     "execution_count": 204,
     "metadata": {},
     "output_type": "execute_result"
    }
   ],
   "source": [
    "%%sql \n",
    "DROP TABLE IF EXISTS PROGRAMS_DIM;\n",
    "DROP TABLE IF EXISTS LOCATIONS_DIM;\n",
    "DROP TABLE IF EXISTS TIMES_DIM;\n",
    "DROP TABLE IF EXISTS FACULTY_DIM;\n",
    "DROP TABLE IF EXISTS COURSE_CATALOGS_DIM;\n",
    "DROP TABLE IF EXISTS COURSES_FACT;\n",
    "\n",
    "CREATE TABLE PROGRAMS_DIM (\n",
    "    PID INTEGER NOT NULL PRIMARY KEY,\n",
    "    program_code TEXT NOT NULL,\n",
    "    program_name TEXT NOT NULL\n",
    ");\n",
    "\n",
    "\n",
    "CREATE TABLE LOCATIONS_DIM (\n",
    "    LID INTEGER PRIMARY KEY,\n",
    "    location TEXT ,\n",
    "    BuildingName TEXT\n",
    "\n",
    ");\n",
    "\n",
    "\n",
    "CREATE TABLE FACULTY_DIM (\n",
    "    FID  INTEGER NOT NULL PRIMARY KEY,\n",
    "    instructor_fname TEXT NOT NULL,\n",
    "    instructor_lname TEXT NOT NULL\n",
    ");\n",
    "\n",
    "\n",
    "CREATE TABLE COURSE_CATALOGS_DIM (\n",
    "    CID INTEGER PRIMARY KEY,\n",
    "    Catalog_ID TEXT NOT NULL,\n",
    "    Credits TEXT NOT NULL,\n",
    "    Prereqs TEXT,\n",
    "    Coreqs TEXT,\n",
    "    Fees INTEGER,\n",
    "    Description TEXT,\n",
    "    Attributes TEXT\n",
    ");\n",
    "\n",
    "\n",
    "\n",
    "CREATE TABLE COURSES_FACT (\n",
    "    CID INTEGER NULL ,\n",
    "    CRN INTEGER NOT NULL,\n",
    "    SEMESTER TEXT NOT NULL ,\n",
    "    YEAR INTEGER NOT NULL,\n",
    "    Title TEXT NOT NULL,\n",
    "    SECTION TEXT NOT NULL,\n",
    "    Act INTEGER,\n",
    "    Cap INTEGER,\n",
    "    Rem INTEGER, \n",
    "    timecodes TEXT,\n",
    "    PID INTEGER NOT NULL,\n",
    "    LID INTEGER NOT NULL,\n",
    "    FID INTEGER NOT NULL,\n",
    "    catalog_ID INTEGER  NULL,\n",
    "    FOREIGN KEY (PID) REFERENCES PROGRAMS_DIM (PID),\n",
    "    FOREIGN KEY (LID) REFERENCES LOCATIONS_DIM (LID),\n",
    "    FOREIGN KEY (FID) REFERENCES FACULTY_DIM (FID),\n",
    "    FOREIGN KEY (CID) REFERENCES COURSE_CATALOGS_DIM (CID)\n",
    ");"
   ]
  },
  {
   "cell_type": "code",
   "execution_count": 205,
   "metadata": {},
   "outputs": [
    {
     "name": "stdout",
     "output_type": "stream",
     "text": [
      " * sqlite:///CourseDataWarehouse.db\n",
      "Done.\n"
     ]
    },
    {
     "data": {
      "text/html": [
       "<table>\n",
       "    <tr>\n",
       "        <th>CID</th>\n",
       "        <th>CRN</th>\n",
       "        <th>SEMESTER</th>\n",
       "        <th>YEAR</th>\n",
       "        <th>Title</th>\n",
       "        <th>SECTION</th>\n",
       "        <th>Act</th>\n",
       "        <th>Cap</th>\n",
       "        <th>Rem</th>\n",
       "        <th>timecodes</th>\n",
       "        <th>PID</th>\n",
       "        <th>LID</th>\n",
       "        <th>FID</th>\n",
       "        <th>catalog_ID</th>\n",
       "    </tr>\n",
       "</table>"
      ],
      "text/plain": [
       "[]"
      ]
     },
     "execution_count": 205,
     "metadata": {},
     "output_type": "execute_result"
    }
   ],
   "source": [
    "%%sql\n",
    "SELECT * FROM  COURSES_FACT"
   ]
  },
  {
   "cell_type": "code",
   "execution_count": 206,
   "metadata": {},
   "outputs": [
    {
     "name": "stdout",
     "output_type": "stream",
     "text": [
      " * sqlite:///CourseDataWarehouse.db\n",
      "83 rows affected.\n",
      "207 rows affected.\n",
      "1104 rows affected.\n",
      "2220 rows affected.\n",
      "2700 rows affected.\n"
     ]
    },
    {
     "data": {
      "text/plain": [
       "[]"
      ]
     },
     "execution_count": 206,
     "metadata": {},
     "output_type": "execute_result"
    }
   ],
   "source": [
    "%%sql \n",
    "\n",
    "\n",
    "INSERT INTO PROGRAMS_DIM (program_name, program_code)\n",
    "SELECT DISTINCT program_name, program_code\n",
    "FROM CDDB.PROGRAMS;\n",
    "\n",
    "\n",
    "INSERT INTO LOCATIONS_DIM (location ,BuildingName )\n",
    "SELECT DISTINCT location , BuildingName\n",
    "FROM CDDB.LOCATION;\n",
    "\n",
    "\n",
    "INSERT INTO FACULTY_DIM (instructor_fname , instructor_lname)\n",
    "SELECT DISTINCT instructor_fname , instructor_lname\n",
    "FROM CDDB.FACULTY;\n",
    "\n",
    "\n",
    "INSERT INTO COURSE_CATALOGS_DIM (Catalog_ID, credits, Prereqs, Coreqs, Fees, Description, Attributes)\n",
    "SELECT DISTINCT catalog_ID, credits, prereqs, coreqs, fees, description, attributes\n",
    "FROM CDDB.COURSE;\n",
    "\n",
    "\n",
    "\n",
    "INSERT INTO COURSES_FACT (CRN, SEMESTER , YEAR , TITLE, SECTION, ACT, CAP,REM, TIMECODES, PID, LID, FID, CID)\n",
    "SELECT DISTINCT CDDB.CLASS_MEETINGS.CRN, CDDB.CLASS_MEETINGS.SEMESTER , CDDB.CLASS_MEETINGS.YEAR, CDDB.COURSE.course_title, CDDB.COURSE_OFFERING.SECTION, act, cap, rem, timecodes, PID, LOCATIONS_DIM.LID, FID,CDDB.COURSE.CID\n",
    "FROM CDDB.COURSE_OFFERING\n",
    "     JOIN CDDB.CLASS_MEETINGS USING  (COID)\n",
    "    left JOIN LOCATIONS_DIM USING (LID)\n",
    "    left JOIN CDDB.COURSE USING (CID)\n",
    "    left JOIN PROGRAMS_DIM USING (PID)\n",
    "    left JOIN FACULTY_DIM USING (FID)\n",
    "    JOIN COURSE_CATALOGS_DIM USING (CID);\n",
    "    \n",
    "    \n",
    "\n",
    "    \n",
    "   "
   ]
  },
  {
   "cell_type": "code",
   "execution_count": 207,
   "metadata": {},
   "outputs": [
    {
     "name": "stdout",
     "output_type": "stream",
     "text": [
      " * sqlite:///CourseDataWarehouse.db\n",
      "Done.\n"
     ]
    },
    {
     "data": {
      "text/html": [
       "<table>\n",
       "    <tr>\n",
       "        <th>FID</th>\n",
       "        <th>instructor_lname</th>\n",
       "        <th>instructor_fname</th>\n",
       "        <th>Catalog_ID</th>\n",
       "        <th>program_name</th>\n",
       "        <th>Title</th>\n",
       "        <th>sum(act)</th>\n",
       "        <th>sum(cap)</th>\n",
       "        <th>sum(rem)</th>\n",
       "        <th>YEAR</th>\n",
       "        <th>SEMESTER</th>\n",
       "        <th>COURSESTaught</th>\n",
       "    </tr>\n",
       "    <tr>\n",
       "        <td>275</td>\n",
       "        <td>Huntley</td>\n",
       "        <td>Christopher L.</td>\n",
       "        <td>IS 0240</td>\n",
       "        <td>Information Systems</td>\n",
       "        <td>Systems Analysis and Logical Design</td>\n",
       "        <td>45</td>\n",
       "        <td>50</td>\n",
       "        <td>5</td>\n",
       "        <td>2017</td>\n",
       "        <td>Fall</td>\n",
       "        <td>2</td>\n",
       "    </tr>\n",
       "    <tr>\n",
       "        <td>275</td>\n",
       "        <td>Huntley</td>\n",
       "        <td>Christopher L.</td>\n",
       "        <td>IS 0260</td>\n",
       "        <td>Information Systems</td>\n",
       "        <td>Database Systems</td>\n",
       "        <td>24</td>\n",
       "        <td>25</td>\n",
       "        <td>1</td>\n",
       "        <td>2018</td>\n",
       "        <td>Spring</td>\n",
       "        <td>1</td>\n",
       "    </tr>\n",
       "    <tr>\n",
       "        <td>275</td>\n",
       "        <td>Huntley</td>\n",
       "        <td>Christopher L.</td>\n",
       "        <td>IS 0510</td>\n",
       "        <td>Information Systems</td>\n",
       "        <td>Databases for Business Analytics</td>\n",
       "        <td>18</td>\n",
       "        <td>20</td>\n",
       "        <td>2</td>\n",
       "        <td>2017</td>\n",
       "        <td>Fall</td>\n",
       "        <td>1</td>\n",
       "    </tr>\n",
       "    <tr>\n",
       "        <td>275</td>\n",
       "        <td>Huntley</td>\n",
       "        <td>Christopher L.</td>\n",
       "        <td>IS 0505</td>\n",
       "        <td>Information Systems</td>\n",
       "        <td>Python for Business Analytics</td>\n",
       "        <td>28</td>\n",
       "        <td>20</td>\n",
       "        <td>-8</td>\n",
       "        <td>2017</td>\n",
       "        <td>Fall</td>\n",
       "        <td>1</td>\n",
       "    </tr>\n",
       "    <tr>\n",
       "        <td>275</td>\n",
       "        <td>Huntley</td>\n",
       "        <td>Christopher L.</td>\n",
       "        <td>IS 0320</td>\n",
       "        <td>Information Systems</td>\n",
       "        <td>Systems Design and Implementation</td>\n",
       "        <td>20</td>\n",
       "        <td>25</td>\n",
       "        <td>5</td>\n",
       "        <td>2018</td>\n",
       "        <td>Spring</td>\n",
       "        <td>1</td>\n",
       "    </tr>\n",
       "</table>"
      ],
      "text/plain": [
       "[(275, 'Huntley', 'Christopher L.', 'IS 0240', 'Information Systems', 'Systems Analysis and Logical Design', 45, 50, 5, 2017, 'Fall', 2),\n",
       " (275, 'Huntley', 'Christopher L.', 'IS 0260', 'Information Systems', 'Database Systems', 24, 25, 1, 2018, 'Spring', 1),\n",
       " (275, 'Huntley', 'Christopher L.', 'IS 0510', 'Information Systems', 'Databases for Business Analytics', 18, 20, 2, 2017, 'Fall', 1),\n",
       " (275, 'Huntley', 'Christopher L.', 'IS 0505', 'Information Systems', 'Python for Business Analytics', 28, 20, -8, 2017, 'Fall', 1),\n",
       " (275, 'Huntley', 'Christopher L.', 'IS 0320', 'Information Systems', 'Systems Design and Implementation', 20, 25, 5, 2018, 'Spring', 1)]"
      ]
     },
     "execution_count": 207,
     "metadata": {},
     "output_type": "execute_result"
    }
   ],
   "source": [
    "%%sql\n",
    "SELECT FID, instructor_lname,instructor_fname,COURSE_CATALOGS_DIM.Catalog_ID,program_name, Title ,sum(act), sum(cap), sum(rem) , YEAR,SEMESTER , COUNT(CRN) as COURSESTaught\n",
    "FROM FACULTY_DIM\n",
    "    JOIN COURSES_FACT USING (FID)\n",
    "    JOIN COURSE_CATALOGS_DIM USING (CID)\n",
    "    JOIN PROGRAMS_DIM USING (PID)\n",
    "WHERE (instructor_lname like '%Huntley%')\n",
    "GROUP BY title\n",
    "ORDER BY COURSESTaught DESC\n"
   ]
  },
  {
   "cell_type": "code",
   "execution_count": 172,
   "metadata": {},
   "outputs": [
    {
     "name": "stdout",
     "output_type": "stream",
     "text": [
      " * sqlite:///CourseDataWarehouse.db\n",
      "Done.\n"
     ]
    },
    {
     "data": {
      "text/html": [
       "<table>\n",
       "    <tr>\n",
       "        <th>COUNT(CRN)</th>\n",
       "        <th>COUNT(CID)</th>\n",
       "        <th>COUNT(CRN)_1</th>\n",
       "    </tr>\n",
       "    <tr>\n",
       "        <td>2700</td>\n",
       "        <td>2700</td>\n",
       "        <td>2700</td>\n",
       "    </tr>\n",
       "</table>"
      ],
      "text/plain": [
       "[(2700, 2700, 2700)]"
      ]
     },
     "execution_count": 172,
     "metadata": {},
     "output_type": "execute_result"
    }
   ],
   "source": [
    "%%sql\n",
    "SELECT DISTINCT COUNT(CRN), COUNT(CID), COUNT(CRN)\n",
    "FROM COURSES_FACT;"
   ]
  },
  {
   "cell_type": "code",
   "execution_count": 208,
   "metadata": {},
   "outputs": [
    {
     "name": "stdout",
     "output_type": "stream",
     "text": [
      " * sqlite:///CourseDataWarehouse.db\n",
      "Done.\n"
     ]
    },
    {
     "data": {
      "text/html": [
       "<table>\n",
       "    <tr>\n",
       "        <th>CRN</th>\n",
       "        <th>Catalog_ID</th>\n",
       "        <th>program_name</th>\n",
       "        <th>instructor_lname</th>\n",
       "        <th>instructor_fname</th>\n",
       "        <th>YEAR</th>\n",
       "        <th>location</th>\n",
       "        <th>BuildingName</th>\n",
       "    </tr>\n",
       "    <tr>\n",
       "        <td>11834</td>\n",
       "        <td>IS 0500</td>\n",
       "        <td>Information Systems</td>\n",
       "        <td> Ozcelik</td>\n",
       "        <td>Yasin</td>\n",
       "        <td>2018</td>\n",
       "        <td>DSB 106</td>\n",
       "        <td>Dolan School of Business</td>\n",
       "    </tr>\n",
       "    <tr>\n",
       "        <td>34147</td>\n",
       "        <td>IS 0100</td>\n",
       "        <td>Information Systems</td>\n",
       "        <td>Vinekar</td>\n",
       "        <td>Vishnu V.</td>\n",
       "        <td>2018</td>\n",
       "        <td>DSB 106</td>\n",
       "        <td>Dolan School of Business</td>\n",
       "    </tr>\n",
       "    <tr>\n",
       "        <td>34148</td>\n",
       "        <td>IS 0100</td>\n",
       "        <td>Information Systems</td>\n",
       "        <td>Vinekar</td>\n",
       "        <td>Vishnu V.</td>\n",
       "        <td>2018</td>\n",
       "        <td>DSB 106</td>\n",
       "        <td>Dolan School of Business</td>\n",
       "    </tr>\n",
       "    <tr>\n",
       "        <td>34149</td>\n",
       "        <td>IS 0100</td>\n",
       "        <td>Information Systems</td>\n",
       "        <td> Ozcelik</td>\n",
       "        <td>Yasin</td>\n",
       "        <td>2018</td>\n",
       "        <td>DSB 110B</td>\n",
       "        <td>Dolan School of Business</td>\n",
       "    </tr>\n",
       "    <tr>\n",
       "        <td>34150</td>\n",
       "        <td>IS 0100</td>\n",
       "        <td>Information Systems</td>\n",
       "        <td> Ozcelik</td>\n",
       "        <td>Yasin</td>\n",
       "        <td>2018</td>\n",
       "        <td>DSB 110B</td>\n",
       "        <td>Dolan School of Business</td>\n",
       "    </tr>\n",
       "    <tr>\n",
       "        <td>34151</td>\n",
       "        <td>IS 0100</td>\n",
       "        <td>Information Systems</td>\n",
       "        <td> Wang</td>\n",
       "        <td>Kanlun</td>\n",
       "        <td>2018</td>\n",
       "        <td>DSB 110A</td>\n",
       "        <td>Dolan School of Business</td>\n",
       "    </tr>\n",
       "    <tr>\n",
       "        <td>34641</td>\n",
       "        <td>IS 0100</td>\n",
       "        <td>Information Systems</td>\n",
       "        <td> Tao</td>\n",
       "        <td>Jie</td>\n",
       "        <td>2018</td>\n",
       "        <td>DSB 114</td>\n",
       "        <td>Dolan School of Business</td>\n",
       "    </tr>\n",
       "    <tr>\n",
       "        <td>34642</td>\n",
       "        <td>IS 0135</td>\n",
       "        <td>Information Systems</td>\n",
       "        <td>Vinekar</td>\n",
       "        <td>Vishnu V.</td>\n",
       "        <td>2018</td>\n",
       "        <td>DSB 106</td>\n",
       "        <td>Dolan School of Business</td>\n",
       "    </tr>\n",
       "    <tr>\n",
       "        <td>34643</td>\n",
       "        <td>IS 0210</td>\n",
       "        <td>Information Systems</td>\n",
       "        <td>Lee</td>\n",
       "        <td>Patrick S.</td>\n",
       "        <td>2018</td>\n",
       "        <td>DSB 114</td>\n",
       "        <td>Dolan School of Business</td>\n",
       "    </tr>\n",
       "    <tr>\n",
       "        <td>34644</td>\n",
       "        <td>IS 0240</td>\n",
       "        <td>Information Systems</td>\n",
       "        <td>Huntley</td>\n",
       "        <td>Christopher L.</td>\n",
       "        <td>2018</td>\n",
       "        <td>DSB 112</td>\n",
       "        <td>Dolan School of Business</td>\n",
       "    </tr>\n",
       "    <tr>\n",
       "        <td>34645</td>\n",
       "        <td>IS 0260</td>\n",
       "        <td>Information Systems</td>\n",
       "        <td>Huntley</td>\n",
       "        <td>Christopher L.</td>\n",
       "        <td>2018</td>\n",
       "        <td>DSB 110B</td>\n",
       "        <td>Dolan School of Business</td>\n",
       "    </tr>\n",
       "    <tr>\n",
       "        <td>34934</td>\n",
       "        <td>IS 0540</td>\n",
       "        <td>Information Systems</td>\n",
       "        <td> Tao</td>\n",
       "        <td>Jie</td>\n",
       "        <td>2018</td>\n",
       "        <td>DSB 115</td>\n",
       "        <td>Dolan School of Business</td>\n",
       "    </tr>\n",
       "    <tr>\n",
       "        <td>35141</td>\n",
       "        <td>IS 0320</td>\n",
       "        <td>Information Systems</td>\n",
       "        <td>Huntley</td>\n",
       "        <td>Christopher L.</td>\n",
       "        <td>2018</td>\n",
       "        <td>DSB 104</td>\n",
       "        <td>Dolan School of Business</td>\n",
       "    </tr>\n",
       "    <tr>\n",
       "        <td>35142</td>\n",
       "        <td>IS 0520</td>\n",
       "        <td>Information Systems</td>\n",
       "        <td>McCabe</td>\n",
       "        <td>Thomas F.</td>\n",
       "        <td>2018</td>\n",
       "        <td>DSB 115</td>\n",
       "        <td>Dolan School of Business</td>\n",
       "    </tr>\n",
       "    <tr>\n",
       "        <td>35146</td>\n",
       "        <td>IS 0500</td>\n",
       "        <td>Information Systems</td>\n",
       "        <td>Socci</td>\n",
       "        <td>Nicholas F.</td>\n",
       "        <td>2018</td>\n",
       "        <td>DSB 111</td>\n",
       "        <td>Dolan School of Business</td>\n",
       "    </tr>\n",
       "    <tr>\n",
       "        <td>35912</td>\n",
       "        <td>IS 0100</td>\n",
       "        <td>Information Systems</td>\n",
       "        <td> Wang</td>\n",
       "        <td>Kanlun</td>\n",
       "        <td>2018</td>\n",
       "        <td>DSB 108</td>\n",
       "        <td>Dolan School of Business</td>\n",
       "    </tr>\n",
       "    <tr>\n",
       "        <td>35913</td>\n",
       "        <td>IS 0100</td>\n",
       "        <td>Information Systems</td>\n",
       "        <td> Tao</td>\n",
       "        <td>Jie</td>\n",
       "        <td>2018</td>\n",
       "        <td>DSB 114</td>\n",
       "        <td>Dolan School of Business</td>\n",
       "    </tr>\n",
       "    <tr>\n",
       "        <td>35914</td>\n",
       "        <td>IS 0210</td>\n",
       "        <td>Information Systems</td>\n",
       "        <td>Lee</td>\n",
       "        <td>Patrick S.</td>\n",
       "        <td>2018</td>\n",
       "        <td>DSB 107</td>\n",
       "        <td>Dolan School of Business</td>\n",
       "    </tr>\n",
       "    <tr>\n",
       "        <td>35915</td>\n",
       "        <td>IS 0315</td>\n",
       "        <td>Information Systems</td>\n",
       "        <td> Ozcelik</td>\n",
       "        <td>Yasin</td>\n",
       "        <td>2018</td>\n",
       "        <td>DSB 104</td>\n",
       "        <td>Dolan School of Business</td>\n",
       "    </tr>\n",
       "    <tr>\n",
       "        <td>58441</td>\n",
       "        <td>IS 0550</td>\n",
       "        <td>Information Systems</td>\n",
       "        <td> Tao</td>\n",
       "        <td>Jie</td>\n",
       "        <td>2018</td>\n",
       "        <td>DSB 108</td>\n",
       "        <td>Dolan School of Business</td>\n",
       "    </tr>\n",
       "</table>"
      ],
      "text/plain": [
       "[(11834, 'IS 0500', 'Information Systems', ' Ozcelik', 'Yasin', 2018, 'DSB 106', 'Dolan School of Business'),\n",
       " (34147, 'IS 0100', 'Information Systems', 'Vinekar', 'Vishnu V.', 2018, 'DSB 106', 'Dolan School of Business'),\n",
       " (34148, 'IS 0100', 'Information Systems', 'Vinekar', 'Vishnu V.', 2018, 'DSB 106', 'Dolan School of Business'),\n",
       " (34149, 'IS 0100', 'Information Systems', ' Ozcelik', 'Yasin', 2018, 'DSB 110B', 'Dolan School of Business'),\n",
       " (34150, 'IS 0100', 'Information Systems', ' Ozcelik', 'Yasin', 2018, 'DSB 110B', 'Dolan School of Business'),\n",
       " (34151, 'IS 0100', 'Information Systems', ' Wang', 'Kanlun', 2018, 'DSB 110A', 'Dolan School of Business'),\n",
       " (34641, 'IS 0100', 'Information Systems', ' Tao', 'Jie', 2018, 'DSB 114', 'Dolan School of Business'),\n",
       " (34642, 'IS 0135', 'Information Systems', 'Vinekar', 'Vishnu V.', 2018, 'DSB 106', 'Dolan School of Business'),\n",
       " (34643, 'IS 0210', 'Information Systems', 'Lee', 'Patrick S.', 2018, 'DSB 114', 'Dolan School of Business'),\n",
       " (34644, 'IS 0240', 'Information Systems', 'Huntley', 'Christopher L.', 2018, 'DSB 112', 'Dolan School of Business'),\n",
       " (34645, 'IS 0260', 'Information Systems', 'Huntley', 'Christopher L.', 2018, 'DSB 110B', 'Dolan School of Business'),\n",
       " (34934, 'IS 0540', 'Information Systems', ' Tao', 'Jie', 2018, 'DSB 115', 'Dolan School of Business'),\n",
       " (35141, 'IS 0320', 'Information Systems', 'Huntley', 'Christopher L.', 2018, 'DSB 104', 'Dolan School of Business'),\n",
       " (35142, 'IS 0520', 'Information Systems', 'McCabe', 'Thomas F.', 2018, 'DSB 115', 'Dolan School of Business'),\n",
       " (35146, 'IS 0500', 'Information Systems', 'Socci', 'Nicholas F.', 2018, 'DSB 111', 'Dolan School of Business'),\n",
       " (35912, 'IS 0100', 'Information Systems', ' Wang', 'Kanlun', 2018, 'DSB 108', 'Dolan School of Business'),\n",
       " (35913, 'IS 0100', 'Information Systems', ' Tao', 'Jie', 2018, 'DSB 114', 'Dolan School of Business'),\n",
       " (35914, 'IS 0210', 'Information Systems', 'Lee', 'Patrick S.', 2018, 'DSB 107', 'Dolan School of Business'),\n",
       " (35915, 'IS 0315', 'Information Systems', ' Ozcelik', 'Yasin', 2018, 'DSB 104', 'Dolan School of Business'),\n",
       " (58441, 'IS 0550', 'Information Systems', ' Tao', 'Jie', 2018, 'DSB 108', 'Dolan School of Business')]"
      ]
     },
     "execution_count": 208,
     "metadata": {},
     "output_type": "execute_result"
    }
   ],
   "source": [
    "%%sql\n",
    "\n",
    "SELECT CRN,COURSE_CATALOGS_DIM.Catalog_ID, program_name,  instructor_lname,instructor_fname, YEAR,location ,BuildingName\n",
    "FROM COURSES_FACT\n",
    "    JOIN PROGRAMS_DIM USING (PID)\n",
    "    JOIN COURSE_CATALOGS_DIM USING (CID)\n",
    "    JOIN FACULTY_DIM USING (FID)\n",
    "    JOIN LOCATIONS_DIM USING (LID)\n",
    "WHERE program_name like 'iNFORMATION%' AND YEAR = 2018\n",
    "GROUP BY CRN\n",
    "ORDER BY program_name DESC\n",
    "\n",
    "    "
   ]
  },
  {
   "cell_type": "code",
   "execution_count": 173,
   "metadata": {},
   "outputs": [
    {
     "name": "stdout",
     "output_type": "stream",
     "text": [
      " * sqlite:///CourseDataWarehouse.db\n",
      "Done.\n"
     ]
    },
    {
     "data": {
      "text/plain": [
       "[]"
      ]
     },
     "execution_count": 173,
     "metadata": {},
     "output_type": "execute_result"
    }
   ],
   "source": [
    "%%sql\n",
    "vacuum; "
   ]
  },
  {
   "cell_type": "code",
   "execution_count": null,
   "metadata": {},
   "outputs": [],
   "source": []
  }
 ],
 "metadata": {
  "kernelspec": {
   "display_name": "Python 3",
   "language": "python",
   "name": "python3"
  },
  "language_info": {
   "codemirror_mode": {
    "name": "ipython",
    "version": 3
   },
   "file_extension": ".py",
   "mimetype": "text/x-python",
   "name": "python",
   "nbconvert_exporter": "python",
   "pygments_lexer": "ipython3",
   "version": "3.6.7"
  }
 },
 "nbformat": 4,
 "nbformat_minor": 4
}
