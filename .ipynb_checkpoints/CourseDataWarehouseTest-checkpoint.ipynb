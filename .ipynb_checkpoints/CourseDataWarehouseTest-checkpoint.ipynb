{
 "cells": [
  {
   "cell_type": "markdown",
   "metadata": {},
   "source": [
    "<img src=\"https://i.imgur.com/SsfgzAq.png\" width=\"50%\"/>"
   ]
  },
  {
   "cell_type": "markdown",
   "metadata": {},
   "source": [
    "## Building the CourseDataWarehouse:"
   ]
  },
  {
   "cell_type": "markdown",
   "metadata": {},
   "source": [
    "__Creating CourseDataWarehouse.db__"
   ]
  },
  {
   "cell_type": "code",
   "execution_count": 11,
   "metadata": {},
   "outputs": [
    {
     "data": {
      "text/plain": [
       "'Connected: @CourseDataWarehouse.db'"
      ]
     },
     "execution_count": 11,
     "metadata": {},
     "output_type": "execute_result"
    }
   ],
   "source": [
    "\n",
    "%load_ext sql\n",
    "\n",
    "%sql sqlite:///CourseDataWarehouse.db"
   ]
  },
  {
   "cell_type": "code",
   "execution_count": 22,
   "metadata": {},
   "outputs": [
    {
     "name": "stdout",
     "output_type": "stream",
     "text": [
      " * sqlite:///CourseDataWarehouse.db\n",
      "Done.\n"
     ]
    },
    {
     "data": {
      "text/plain": [
       "[]"
      ]
     },
     "execution_count": 22,
     "metadata": {},
     "output_type": "execute_result"
    }
   ],
   "source": [
    "\n",
    "%%sql\n",
    "/* Attaching  CourseData.db to CourseDataWarehouse.db */\n",
    "ATTACH 'CourseData.db' AS CDDB"
   ]
  },
  {
   "cell_type": "code",
   "execution_count": 16,
   "metadata": {},
   "outputs": [
    {
     "name": "stdout",
     "output_type": "stream",
     "text": [
      " * sqlite:///CourseDataWarehouse.db\n",
      "Done.\n"
     ]
    },
    {
     "data": {
      "text/html": [
       "<table>\n",
       "    <tr>\n",
       "        <th>PID</th>\n",
       "        <th>program_code</th>\n",
       "        <th>program_name</th>\n",
       "    </tr>\n",
       "    <tr>\n",
       "        <td>1</td>\n",
       "        <td>AN</td>\n",
       "        <td>Asian Studies</td>\n",
       "    </tr>\n",
       "</table>"
      ],
      "text/plain": [
       "[(1, 'AN', 'Asian Studies')]"
      ]
     },
     "execution_count": 16,
     "metadata": {},
     "output_type": "execute_result"
    }
   ],
   "source": [
    "%%sql\n",
    "/* Execute a test query  */\n",
    "select * from CDDB.PROGRAMS LIMIT 1"
   ]
  },
  {
   "cell_type": "markdown",
   "metadata": {},
   "source": [
    "__Create CourseDataWarehouse tables based on our [fact table](./docs/fact-table-management.pdf)__"
   ]
  },
  {
   "cell_type": "code",
   "execution_count": 4,
   "metadata": {},
   "outputs": [
    {
     "name": "stdout",
     "output_type": "stream",
     "text": [
      " * sqlite:///CourseDataWarehouse.db\n",
      "Done.\n",
      "Done.\n",
      "Done.\n",
      "Done.\n",
      "Done.\n",
      "Done.\n",
      "Done.\n",
      "Done.\n",
      "Done.\n",
      "Done.\n",
      "Done.\n",
      "Done.\n"
     ]
    },
    {
     "data": {
      "text/plain": [
       "[]"
      ]
     },
     "execution_count": 4,
     "metadata": {},
     "output_type": "execute_result"
    }
   ],
   "source": [
    "%%sql\n",
    "\n",
    "DROP TABLE IF EXISTS PROGRAMS_DIM;\n",
    "DROP TABLE IF EXISTS LOCATIONS_DIM;\n",
    "DROP TABLE IF EXISTS TIMES_DIM;\n",
    "DROP TABLE IF EXISTS FACULTY_DIM;\n",
    "DROP TABLE IF EXISTS COURSE_CATALOGS_DIM;\n",
    "DROP TABLE IF EXISTS COURSES_FACT;\n",
    "\n",
    "\n",
    "\n",
    "\n",
    "\n",
    "vacuum; \n",
    "\n",
    "CREATE TABLE PROGRAMS_DIM (\n",
    "    PID INTEGER NOT NULL PRIMARY KEY,\n",
    "    program_code TEXT NOT NULL,\n",
    "    program_name TEXT NOT NULL\n",
    ");\n",
    "\n",
    "\n",
    "CREATE TABLE LOCATIONS_DIM (\n",
    "    LID INTEGER PRIMARY KEY,\n",
    "    location TEXT ,\n",
    "    BuildingName TEXT\n",
    "\n",
    ");\n",
    "\n",
    "\n",
    "CREATE TABLE FACULTY_DIM (\n",
    "    FID  INTEGER NOT NULL PRIMARY KEY,\n",
    "    instructor_fname TEXT NOT NULL,\n",
    "    instructor_lname TEXT NOT NULL\n",
    ");\n",
    "\n",
    "\n",
    "CREATE TABLE COURSE_CATALOGS_DIM (\n",
    "    CID INTEGER PRIMARY KEY,\n",
    "\n",
    "    CatalogYear TEXT NULL,\n",
    "    Credits TEXT  NULL,\n",
    "    Prereqs TEXT,\n",
    "    Coreqs TEXT,\n",
    "    Fees INTEGER,\n",
    "    Description TEXT,\n",
    "    Attributes TEXT\n",
    ");\n",
    "\n",
    "\n",
    "\n",
    "CREATE TABLE COURSES_FACT (\n",
    "    CID INTEGER NULL ,\n",
    "    CRN INTEGER NOT NULL,\n",
    "    SEMESTER TEXT NOT NULL ,\n",
    "    YEAR INTEGER NOT NULL,\n",
    "    Title TEXT  NULL,\n",
    "    SECTION TEXT NOT NULL,\n",
    "    Act INTEGER,\n",
    "    Cap INTEGER,\n",
    "    Rem INTEGER, \n",
    "    timecodes TEXT,\n",
    "    PID INTEGER  NULL,\n",
    "    LID INTEGER  NULL,\n",
    "    FID INTEGER  NULL,\n",
    "   Catalog_ID  TEXT NULL ,\n",
    "    FOREIGN KEY (PID) REFERENCES PROGRAMS_DIM (PID),\n",
    "    FOREIGN KEY (LID) REFERENCES LOCATIONS_DIM (LID),\n",
    "    FOREIGN KEY (FID) REFERENCES FACULTY_DIM (FID),\n",
    "    FOREIGN KEY (CID) REFERENCES COURSE_CATALOGS_DIM (CID)\n",
    ");"
   ]
  },
  {
   "cell_type": "markdown",
   "metadata": {},
   "source": [
    "__Populate the fact table tables from the attached database tables__"
   ]
  },
  {
   "cell_type": "code",
   "execution_count": 6,
   "metadata": {},
   "outputs": [
    {
     "name": "stdout",
     "output_type": "stream",
     "text": [
      " * sqlite:///CourseDataWarehouse.db\n",
      "92 rows affected.\n",
      "207 rows affected.\n",
      "1104 rows affected.\n",
      "6696 rows affected.\n",
      "13756 rows affected.\n"
     ]
    },
    {
     "data": {
      "text/plain": [
       "[]"
      ]
     },
     "execution_count": 6,
     "metadata": {},
     "output_type": "execute_result"
    }
   ],
   "source": [
    "%%sql \n",
    "\n",
    "\n",
    "INSERT INTO PROGRAMS_DIM ( program_name, program_code)\n",
    "SELECT DISTINCT  program_name, program_code\n",
    "FROM CDDB.PROGRAMS;\n",
    "\n",
    "\n",
    "INSERT INTO LOCATIONS_DIM (location ,BuildingName )\n",
    "SELECT  location , BuildingName\n",
    "FROM CDDB.LOCATION;\n",
    "\n",
    "\n",
    "INSERT INTO FACULTY_DIM (instructor_fname , instructor_lname)\n",
    "SELECT  DISTINCT instructor_fname , instructor_lname\n",
    "FROM CDDB.FACULTY;\n",
    "\n",
    "\n",
    "INSERT INTO COURSE_CATALOGS_DIM (CatalogYear, credits, Prereqs, Coreqs, Fees, Description, Attributes)\n",
    "SELECT CDDB.COURSE.CatalogYear , credits, prereqs, coreqs, fees, description, attributes\n",
    "FROM CDDB.COURSE;\n",
    "\n",
    "\n",
    "\n",
    "INSERT INTO COURSES_FACT (Catalog_ID , CRN, SEMESTER , YEAR , TITLE, SECTION, ACT, CAP,REM, TIMECODES, PID, LID, FID, CID)\n",
    "SELECT DISTINCT CDDB.COURSE_OFFERING.Catalog_ID, CDDB.CLASS_MEETINGS.CRN, CDDB.CLASS_MEETINGS.SEMESTER , CDDB.CLASS_MEETINGS.YEAR, CDDB.COURSE_OFFERING.title, CDDB.COURSE_OFFERING.SECTION, act, cap, rem, timecodes, PROGRAMS_DIM.PID, LOCATIONS_DIM.LID, FID,CDDB.COURSE.CID\n",
    "FROM CDDB.COURSE_OFFERING\n",
    "     JOIN CDDB.CLASS_MEETINGS USING  (COID)\n",
    "    left JOIN LOCATIONS_DIM USING (LID)\n",
    "     left JOIN CDDB.COURSE USING (CID)\n",
    "    left JOIN PROGRAMS_DIM USING (PID)\n",
    "    left JOIN FACULTY_DIM USING (FID)\n",
    "    left JOIN COURSE_CATALOGS_DIM USING (CID);\n",
    "    \n",
    "    \n",
    "\n",
    "    \n",
    "   "
   ]
  },
  {
   "cell_type": "code",
   "execution_count": 23,
   "metadata": {},
   "outputs": [
    {
     "name": "stdout",
     "output_type": "stream",
     "text": [
      " * sqlite:///CourseDataWarehouse.db\n",
      "Done.\n"
     ]
    },
    {
     "data": {
      "text/plain": [
       "[]"
      ]
     },
     "execution_count": 23,
     "metadata": {},
     "output_type": "execute_result"
    }
   ],
   "source": [
    "%%sql\n",
    "-- Detach Database --\n",
    "DETACH DATABASE 'CDDB';"
   ]
  },
  {
   "cell_type": "code",
   "execution_count": 25,
   "metadata": {},
   "outputs": [
    {
     "name": "stdout",
     "output_type": "stream",
     "text": [
      " * sqlite:///CourseDataWarehouse.db\n",
      "Done.\n"
     ]
    },
    {
     "data": {
      "text/html": [
       "<table>\n",
       "    <tr>\n",
       "        <th>CID</th>\n",
       "        <th>CRN</th>\n",
       "        <th>SEMESTER</th>\n",
       "        <th>YEAR</th>\n",
       "        <th>Title</th>\n",
       "        <th>SECTION</th>\n",
       "        <th>Act</th>\n",
       "        <th>Cap</th>\n",
       "        <th>Rem</th>\n",
       "        <th>timecodes</th>\n",
       "        <th>PID</th>\n",
       "        <th>LID</th>\n",
       "        <th>FID</th>\n",
       "        <th>Catalog_ID</th>\n",
       "    </tr>\n",
       "    <tr>\n",
       "        <td>None</td>\n",
       "        <td>70384</td>\n",
       "        <td>Fall</td>\n",
       "        <td>2014</td>\n",
       "        <td>Introduction to Financial Accounting</td>\n",
       "        <td>C01</td>\n",
       "        <td>31</td>\n",
       "        <td>0</td>\n",
       "        <td>-31</td>\n",
       "        <td>[&#x27;TF 0800am-0915am 09/02-12/08 DSB 105&#x27;]</td>\n",
       "        <td>None</td>\n",
       "        <td>1</td>\n",
       "        <td>1</td>\n",
       "        <td>AC 0011</td>\n",
       "    </tr>\n",
       "    <tr>\n",
       "        <td>None</td>\n",
       "        <td>70385</td>\n",
       "        <td>Fall</td>\n",
       "        <td>2014</td>\n",
       "        <td>Introduction to Financial Accounting</td>\n",
       "        <td>C02</td>\n",
       "        <td>31</td>\n",
       "        <td>0</td>\n",
       "        <td>-31</td>\n",
       "        <td>[&#x27;TF 0930am-1045am 09/02-12/08 DSB 105&#x27;]</td>\n",
       "        <td>None</td>\n",
       "        <td>1</td>\n",
       "        <td>1</td>\n",
       "        <td>AC 0011</td>\n",
       "    </tr>\n",
       "    <tr>\n",
       "        <td>None</td>\n",
       "        <td>70382</td>\n",
       "        <td>Fall</td>\n",
       "        <td>2014</td>\n",
       "        <td>Introduction to Financial Accounting</td>\n",
       "        <td>C03</td>\n",
       "        <td>31</td>\n",
       "        <td>0</td>\n",
       "        <td>-31</td>\n",
       "        <td>[&#x27;TF 1230pm-0145pm 09/02-12/08 DSB 105&#x27;]</td>\n",
       "        <td>None</td>\n",
       "        <td>1</td>\n",
       "        <td>1</td>\n",
       "        <td>AC 0011</td>\n",
       "    </tr>\n",
       "    <tr>\n",
       "        <td>None</td>\n",
       "        <td>71123</td>\n",
       "        <td>Fall</td>\n",
       "        <td>2014</td>\n",
       "        <td>Introduction to Financial Accounting</td>\n",
       "        <td>J</td>\n",
       "        <td>32</td>\n",
       "        <td>30</td>\n",
       "        <td>-2</td>\n",
       "        <td>[&#x27;TF 0200pm-0315pm 09/02-12/08 DSB 105&#x27;]</td>\n",
       "        <td>None</td>\n",
       "        <td>1</td>\n",
       "        <td>4</td>\n",
       "        <td>AC 0011</td>\n",
       "    </tr>\n",
       "    <tr>\n",
       "        <td>None</td>\n",
       "        <td>71208</td>\n",
       "        <td>Fall</td>\n",
       "        <td>2014</td>\n",
       "        <td>Introduction to Financial Accounting</td>\n",
       "        <td>K</td>\n",
       "        <td>34</td>\n",
       "        <td>30</td>\n",
       "        <td>-4</td>\n",
       "        <td>[&#x27;TF 0330pm-0445pm 09/02-12/08 DSB 105&#x27;]</td>\n",
       "        <td>None</td>\n",
       "        <td>1</td>\n",
       "        <td>4</td>\n",
       "        <td>AC 0011</td>\n",
       "    </tr>\n",
       "    <tr>\n",
       "        <td>None</td>\n",
       "        <td>71763</td>\n",
       "        <td>Fall</td>\n",
       "        <td>2014</td>\n",
       "        <td>Introduction to Financial Accounting</td>\n",
       "        <td>L</td>\n",
       "        <td>31</td>\n",
       "        <td>30</td>\n",
       "        <td>-1</td>\n",
       "        <td>[&#x27;MR 1100am-1215pm 09/02-12/08 DSB 105&#x27;]</td>\n",
       "        <td>None</td>\n",
       "        <td>1</td>\n",
       "        <td>5</td>\n",
       "        <td>AC 0011</td>\n",
       "    </tr>\n",
       "    <tr>\n",
       "        <td>None</td>\n",
       "        <td>72615</td>\n",
       "        <td>Fall</td>\n",
       "        <td>2014</td>\n",
       "        <td>Introduction to Financial Accounting</td>\n",
       "        <td>M</td>\n",
       "        <td>31</td>\n",
       "        <td>30</td>\n",
       "        <td>-1</td>\n",
       "        <td>[&#x27;MR 1230pm-0145pm 09/02-12/08 DSB 105&#x27;]</td>\n",
       "        <td>None</td>\n",
       "        <td>1</td>\n",
       "        <td>5</td>\n",
       "        <td>AC 0011</td>\n",
       "    </tr>\n",
       "    <tr>\n",
       "        <td>None</td>\n",
       "        <td>70387</td>\n",
       "        <td>Fall</td>\n",
       "        <td>2014</td>\n",
       "        <td>Introduction to Financial Accounting</td>\n",
       "        <td>O</td>\n",
       "        <td>31</td>\n",
       "        <td>30</td>\n",
       "        <td>-1</td>\n",
       "        <td>[&#x27;TR 0500pm-0615pm 09/02-12/08 DSB 105&#x27;]</td>\n",
       "        <td>None</td>\n",
       "        <td>1</td>\n",
       "        <td>7</td>\n",
       "        <td>AC 0011</td>\n",
       "    </tr>\n",
       "    <tr>\n",
       "        <td>None</td>\n",
       "        <td>72348</td>\n",
       "        <td>Fall</td>\n",
       "        <td>2014</td>\n",
       "        <td>Fixed Income Securities</td>\n",
       "        <td>01</td>\n",
       "        <td>13</td>\n",
       "        <td>25</td>\n",
       "        <td>12</td>\n",
       "        <td>[&#x27;W 0630pm-0930pm 09/03-12/17 DSB 105&#x27;]</td>\n",
       "        <td>None</td>\n",
       "        <td>1</td>\n",
       "        <td>244</td>\n",
       "        <td>FI 0570</td>\n",
       "    </tr>\n",
       "    <tr>\n",
       "        <td>None</td>\n",
       "        <td>70662</td>\n",
       "        <td>Fall</td>\n",
       "        <td>2014</td>\n",
       "        <td>Intro to Management</td>\n",
       "        <td>A</td>\n",
       "        <td>30</td>\n",
       "        <td>28</td>\n",
       "        <td>-2</td>\n",
       "        <td>[&#x27;MR 0930am-1045am 09/02-12/08 DSB 105&#x27;]</td>\n",
       "        <td>None</td>\n",
       "        <td>1</td>\n",
       "        <td>294</td>\n",
       "        <td>MG 0101</td>\n",
       "    </tr>\n",
       "</table>"
      ],
      "text/plain": [
       "[(None, 70384, 'Fall', 2014, 'Introduction to Financial Accounting', 'C01', 31, 0, -31, \"['TF 0800am-0915am 09/02-12/08 DSB 105']\", None, 1, 1, 'AC 0011'),\n",
       " (None, 70385, 'Fall', 2014, 'Introduction to Financial Accounting', 'C02', 31, 0, -31, \"['TF 0930am-1045am 09/02-12/08 DSB 105']\", None, 1, 1, 'AC 0011'),\n",
       " (None, 70382, 'Fall', 2014, 'Introduction to Financial Accounting', 'C03', 31, 0, -31, \"['TF 1230pm-0145pm 09/02-12/08 DSB 105']\", None, 1, 1, 'AC 0011'),\n",
       " (None, 71123, 'Fall', 2014, 'Introduction to Financial Accounting', 'J', 32, 30, -2, \"['TF 0200pm-0315pm 09/02-12/08 DSB 105']\", None, 1, 4, 'AC 0011'),\n",
       " (None, 71208, 'Fall', 2014, 'Introduction to Financial Accounting', 'K', 34, 30, -4, \"['TF 0330pm-0445pm 09/02-12/08 DSB 105']\", None, 1, 4, 'AC 0011'),\n",
       " (None, 71763, 'Fall', 2014, 'Introduction to Financial Accounting', 'L', 31, 30, -1, \"['MR 1100am-1215pm 09/02-12/08 DSB 105']\", None, 1, 5, 'AC 0011'),\n",
       " (None, 72615, 'Fall', 2014, 'Introduction to Financial Accounting', 'M', 31, 30, -1, \"['MR 1230pm-0145pm 09/02-12/08 DSB 105']\", None, 1, 5, 'AC 0011'),\n",
       " (None, 70387, 'Fall', 2014, 'Introduction to Financial Accounting', 'O', 31, 30, -1, \"['TR 0500pm-0615pm 09/02-12/08 DSB 105']\", None, 1, 7, 'AC 0011'),\n",
       " (None, 72348, 'Fall', 2014, 'Fixed Income Securities', '01', 13, 25, 12, \"['W 0630pm-0930pm 09/03-12/17 DSB 105']\", None, 1, 244, 'FI 0570'),\n",
       " (None, 70662, 'Fall', 2014, 'Intro to Management', 'A', 30, 28, -2, \"['MR 0930am-1045am 09/02-12/08 DSB 105']\", None, 1, 294, 'MG 0101')]"
      ]
     },
     "execution_count": 25,
     "metadata": {},
     "output_type": "execute_result"
    }
   ],
   "source": [
    "%%sql\n",
    "/* Execute a test query  */\n",
    "select * from COURSES_FACT LIMIT 10"
   ]
  },
  {
   "cell_type": "code",
   "execution_count": 24,
   "metadata": {},
   "outputs": [
    {
     "name": "stdout",
     "output_type": "stream",
     "text": [
      " * sqlite:///CourseDataWarehouse.db\n",
      "Done.\n"
     ]
    },
    {
     "data": {
      "text/plain": [
       "[]"
      ]
     },
     "execution_count": 24,
     "metadata": {},
     "output_type": "execute_result"
    }
   ],
   "source": [
    "%%sql\n",
    "vacuum; "
   ]
  },
  {
   "cell_type": "code",
   "execution_count": null,
   "metadata": {},
   "outputs": [],
   "source": []
  }
 ],
 "metadata": {
  "kernelspec": {
   "display_name": "Python 3",
   "language": "python",
   "name": "python3"
  },
  "language_info": {
   "codemirror_mode": {
    "name": "ipython",
    "version": 3
   },
   "file_extension": ".py",
   "mimetype": "text/x-python",
   "name": "python",
   "nbconvert_exporter": "python",
   "pygments_lexer": "ipython3",
   "version": "3.7.7"
  }
 },
 "nbformat": 4,
 "nbformat_minor": 4
}
