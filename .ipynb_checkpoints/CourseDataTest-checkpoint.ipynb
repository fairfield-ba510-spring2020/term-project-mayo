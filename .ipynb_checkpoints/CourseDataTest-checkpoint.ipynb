{
 "cells": [
  {
   "cell_type": "markdown",
   "metadata": {},
   "source": [
    "![Image ](https://i.imgur.com/SsfgzAq.png)"
   ]
  },
  {
   "cell_type": "markdown",
   "metadata": {},
   "source": [
    "# 6. Integrity Checks </h2> </a>\n",
    "___"
   ]
  },
  {
   "cell_type": "markdown",
   "metadata": {},
   "source": [
    "For a full demo you can visit the following custom website: http://mayosql.me/\n",
    "<br> created by: Faris Alenzy"
   ]
  },
  {
   "cell_type": "code",
   "execution_count": 1,
   "metadata": {},
   "outputs": [],
   "source": [
    "import sqlite3\n",
    "import pandas as pd\n",
    "from sqlalchemy import create_engine\n",
    "from IPython.display import display, Markdown, Latex\n",
    "\n",
    "engine = create_engine(\"sqlite:///CourseData.db\")"
   ]
  },
  {
   "cell_type": "code",
   "execution_count": 2,
   "metadata": {},
   "outputs": [
    {
     "data": {
      "text/plain": [
       "'Connected: @CourseData.db'"
      ]
     },
     "execution_count": 2,
     "metadata": {},
     "output_type": "execute_result"
    }
   ],
   "source": [
    "#%load_ext sql\n",
    "%reload_ext sql\n",
    "\n",
    "# initialize a database connection\n",
    "%sql sqlite:///CourseData.db"
   ]
  },
  {
   "cell_type": "markdown",
   "metadata": {},
   "source": [
    "## 6.1 Domain Integrity"
   ]
  },
  {
   "cell_type": "code",
   "execution_count": 145,
   "metadata": {},
   "outputs": [
    {
     "data": {
      "text/markdown": [
       "**Table : PROGRAMS**"
      ],
      "text/plain": [
       "<IPython.core.display.Markdown object>"
      ]
     },
     "metadata": {},
     "output_type": "display_data"
    },
    {
     "data": {
      "text/html": [
       "<div>\n",
       "<style scoped>\n",
       "    .dataframe tbody tr th:only-of-type {\n",
       "        vertical-align: middle;\n",
       "    }\n",
       "\n",
       "    .dataframe tbody tr th {\n",
       "        vertical-align: top;\n",
       "    }\n",
       "\n",
       "    .dataframe thead th {\n",
       "        text-align: right;\n",
       "    }\n",
       "</style>\n",
       "<table border=\"1\" class=\"dataframe\">\n",
       "  <thead>\n",
       "    <tr style=\"text-align: right;\">\n",
       "      <th></th>\n",
       "      <th>cid</th>\n",
       "      <th>ColumnName</th>\n",
       "      <th>DataType</th>\n",
       "      <th>notnull</th>\n",
       "      <th>default_value</th>\n",
       "      <th>primary_key</th>\n",
       "    </tr>\n",
       "  </thead>\n",
       "  <tbody>\n",
       "    <tr>\n",
       "      <th></th>\n",
       "      <td>0</td>\n",
       "      <td>PID</td>\n",
       "      <td>INTEGER</td>\n",
       "      <td>0</td>\n",
       "      <td>None</td>\n",
       "      <td>Yes</td>\n",
       "    </tr>\n",
       "    <tr>\n",
       "      <th></th>\n",
       "      <td>1</td>\n",
       "      <td>program_code</td>\n",
       "      <td>TEXT</td>\n",
       "      <td>1</td>\n",
       "      <td>None</td>\n",
       "      <td></td>\n",
       "    </tr>\n",
       "    <tr>\n",
       "      <th></th>\n",
       "      <td>2</td>\n",
       "      <td>program_name</td>\n",
       "      <td>TEXT</td>\n",
       "      <td>1</td>\n",
       "      <td>None</td>\n",
       "      <td></td>\n",
       "    </tr>\n",
       "  </tbody>\n",
       "</table>\n",
       "</div>"
      ],
      "text/plain": [
       "  cid    ColumnName DataType  notnull default_value primary_key\n",
       "    0           PID  INTEGER        0          None         Yes\n",
       "    1  program_code     TEXT        1          None            \n",
       "    2  program_name     TEXT        1          None            "
      ]
     },
     "metadata": {},
     "output_type": "display_data"
    },
    {
     "data": {
      "text/markdown": [
       "**Table : FACULTY**"
      ],
      "text/plain": [
       "<IPython.core.display.Markdown object>"
      ]
     },
     "metadata": {},
     "output_type": "display_data"
    },
    {
     "data": {
      "text/html": [
       "<div>\n",
       "<style scoped>\n",
       "    .dataframe tbody tr th:only-of-type {\n",
       "        vertical-align: middle;\n",
       "    }\n",
       "\n",
       "    .dataframe tbody tr th {\n",
       "        vertical-align: top;\n",
       "    }\n",
       "\n",
       "    .dataframe thead th {\n",
       "        text-align: right;\n",
       "    }\n",
       "</style>\n",
       "<table border=\"1\" class=\"dataframe\">\n",
       "  <thead>\n",
       "    <tr style=\"text-align: right;\">\n",
       "      <th></th>\n",
       "      <th>cid</th>\n",
       "      <th>ColumnName</th>\n",
       "      <th>DataType</th>\n",
       "      <th>notnull</th>\n",
       "      <th>default_value</th>\n",
       "      <th>primary_key</th>\n",
       "    </tr>\n",
       "  </thead>\n",
       "  <tbody>\n",
       "    <tr>\n",
       "      <th></th>\n",
       "      <td>0</td>\n",
       "      <td>FID</td>\n",
       "      <td>INTEGER</td>\n",
       "      <td>0</td>\n",
       "      <td>None</td>\n",
       "      <td>Yes</td>\n",
       "    </tr>\n",
       "    <tr>\n",
       "      <th></th>\n",
       "      <td>1</td>\n",
       "      <td>instructor_fname</td>\n",
       "      <td>TEXT</td>\n",
       "      <td>1</td>\n",
       "      <td>None</td>\n",
       "      <td></td>\n",
       "    </tr>\n",
       "    <tr>\n",
       "      <th></th>\n",
       "      <td>2</td>\n",
       "      <td>instructor_lname</td>\n",
       "      <td>TEXT</td>\n",
       "      <td>1</td>\n",
       "      <td>None</td>\n",
       "      <td></td>\n",
       "    </tr>\n",
       "  </tbody>\n",
       "</table>\n",
       "</div>"
      ],
      "text/plain": [
       "  cid        ColumnName DataType  notnull default_value primary_key\n",
       "    0               FID  INTEGER        0          None         Yes\n",
       "    1  instructor_fname     TEXT        1          None            \n",
       "    2  instructor_lname     TEXT        1          None            "
      ]
     },
     "metadata": {},
     "output_type": "display_data"
    },
    {
     "data": {
      "text/markdown": [
       "**Table : LOCATION**"
      ],
      "text/plain": [
       "<IPython.core.display.Markdown object>"
      ]
     },
     "metadata": {},
     "output_type": "display_data"
    },
    {
     "data": {
      "text/html": [
       "<div>\n",
       "<style scoped>\n",
       "    .dataframe tbody tr th:only-of-type {\n",
       "        vertical-align: middle;\n",
       "    }\n",
       "\n",
       "    .dataframe tbody tr th {\n",
       "        vertical-align: top;\n",
       "    }\n",
       "\n",
       "    .dataframe thead th {\n",
       "        text-align: right;\n",
       "    }\n",
       "</style>\n",
       "<table border=\"1\" class=\"dataframe\">\n",
       "  <thead>\n",
       "    <tr style=\"text-align: right;\">\n",
       "      <th></th>\n",
       "      <th>cid</th>\n",
       "      <th>ColumnName</th>\n",
       "      <th>DataType</th>\n",
       "      <th>notnull</th>\n",
       "      <th>default_value</th>\n",
       "      <th>primary_key</th>\n",
       "    </tr>\n",
       "  </thead>\n",
       "  <tbody>\n",
       "    <tr>\n",
       "      <th></th>\n",
       "      <td>0</td>\n",
       "      <td>LID</td>\n",
       "      <td>INTEGER</td>\n",
       "      <td>0</td>\n",
       "      <td>None</td>\n",
       "      <td>Yes</td>\n",
       "    </tr>\n",
       "    <tr>\n",
       "      <th></th>\n",
       "      <td>1</td>\n",
       "      <td>BuildingName</td>\n",
       "      <td>TEXT</td>\n",
       "      <td>0</td>\n",
       "      <td>None</td>\n",
       "      <td></td>\n",
       "    </tr>\n",
       "    <tr>\n",
       "      <th></th>\n",
       "      <td>2</td>\n",
       "      <td>BuildingCode</td>\n",
       "      <td>TEXT</td>\n",
       "      <td>0</td>\n",
       "      <td>None</td>\n",
       "      <td></td>\n",
       "    </tr>\n",
       "    <tr>\n",
       "      <th></th>\n",
       "      <td>3</td>\n",
       "      <td>location</td>\n",
       "      <td>TEXT</td>\n",
       "      <td>0</td>\n",
       "      <td>None</td>\n",
       "      <td></td>\n",
       "    </tr>\n",
       "  </tbody>\n",
       "</table>\n",
       "</div>"
      ],
      "text/plain": [
       "  cid    ColumnName DataType  notnull default_value primary_key\n",
       "    0           LID  INTEGER        0          None         Yes\n",
       "    1  BuildingName     TEXT        0          None            \n",
       "    2  BuildingCode     TEXT        0          None            \n",
       "    3      location     TEXT        0          None            "
      ]
     },
     "metadata": {},
     "output_type": "display_data"
    },
    {
     "data": {
      "text/markdown": [
       "**Table : COURSE**"
      ],
      "text/plain": [
       "<IPython.core.display.Markdown object>"
      ]
     },
     "metadata": {},
     "output_type": "display_data"
    },
    {
     "data": {
      "text/html": [
       "<div>\n",
       "<style scoped>\n",
       "    .dataframe tbody tr th:only-of-type {\n",
       "        vertical-align: middle;\n",
       "    }\n",
       "\n",
       "    .dataframe tbody tr th {\n",
       "        vertical-align: top;\n",
       "    }\n",
       "\n",
       "    .dataframe thead th {\n",
       "        text-align: right;\n",
       "    }\n",
       "</style>\n",
       "<table border=\"1\" class=\"dataframe\">\n",
       "  <thead>\n",
       "    <tr style=\"text-align: right;\">\n",
       "      <th></th>\n",
       "      <th>cid</th>\n",
       "      <th>ColumnName</th>\n",
       "      <th>DataType</th>\n",
       "      <th>notnull</th>\n",
       "      <th>default_value</th>\n",
       "      <th>primary_key</th>\n",
       "    </tr>\n",
       "  </thead>\n",
       "  <tbody>\n",
       "    <tr>\n",
       "      <th></th>\n",
       "      <td>0</td>\n",
       "      <td>CID</td>\n",
       "      <td>INTEGER</td>\n",
       "      <td>0</td>\n",
       "      <td>None</td>\n",
       "      <td>Yes</td>\n",
       "    </tr>\n",
       "    <tr>\n",
       "      <th></th>\n",
       "      <td>1</td>\n",
       "      <td>PID</td>\n",
       "      <td>INTEGER</td>\n",
       "      <td>1</td>\n",
       "      <td>None</td>\n",
       "      <td></td>\n",
       "    </tr>\n",
       "    <tr>\n",
       "      <th></th>\n",
       "      <td>2</td>\n",
       "      <td>CatalogYear</td>\n",
       "      <td>TEXT</td>\n",
       "      <td>1</td>\n",
       "      <td>None</td>\n",
       "      <td></td>\n",
       "    </tr>\n",
       "    <tr>\n",
       "      <th></th>\n",
       "      <td>3</td>\n",
       "      <td>catalog_ID</td>\n",
       "      <td>TEXT</td>\n",
       "      <td>1</td>\n",
       "      <td>None</td>\n",
       "      <td></td>\n",
       "    </tr>\n",
       "    <tr>\n",
       "      <th></th>\n",
       "      <td>4</td>\n",
       "      <td>course_title</td>\n",
       "      <td>TEXT</td>\n",
       "      <td>1</td>\n",
       "      <td>None</td>\n",
       "      <td></td>\n",
       "    </tr>\n",
       "    <tr>\n",
       "      <th></th>\n",
       "      <td>5</td>\n",
       "      <td>credits</td>\n",
       "      <td>TEXT</td>\n",
       "      <td>1</td>\n",
       "      <td>None</td>\n",
       "      <td></td>\n",
       "    </tr>\n",
       "    <tr>\n",
       "      <th></th>\n",
       "      <td>6</td>\n",
       "      <td>prereqs</td>\n",
       "      <td>TEXT</td>\n",
       "      <td>0</td>\n",
       "      <td>None</td>\n",
       "      <td></td>\n",
       "    </tr>\n",
       "    <tr>\n",
       "      <th></th>\n",
       "      <td>7</td>\n",
       "      <td>coreqs</td>\n",
       "      <td>TEXT</td>\n",
       "      <td>0</td>\n",
       "      <td>None</td>\n",
       "      <td></td>\n",
       "    </tr>\n",
       "    <tr>\n",
       "      <th></th>\n",
       "      <td>8</td>\n",
       "      <td>fees</td>\n",
       "      <td>TEXT</td>\n",
       "      <td>0</td>\n",
       "      <td>None</td>\n",
       "      <td></td>\n",
       "    </tr>\n",
       "    <tr>\n",
       "      <th></th>\n",
       "      <td>9</td>\n",
       "      <td>attributes</td>\n",
       "      <td>TEXT</td>\n",
       "      <td>0</td>\n",
       "      <td>None</td>\n",
       "      <td></td>\n",
       "    </tr>\n",
       "    <tr>\n",
       "      <th></th>\n",
       "      <td>10</td>\n",
       "      <td>description</td>\n",
       "      <td>TEXT</td>\n",
       "      <td>0</td>\n",
       "      <td>None</td>\n",
       "      <td></td>\n",
       "    </tr>\n",
       "  </tbody>\n",
       "</table>\n",
       "</div>"
      ],
      "text/plain": [
       "  cid    ColumnName DataType  notnull default_value primary_key\n",
       "    0           CID  INTEGER        0          None         Yes\n",
       "    1           PID  INTEGER        1          None            \n",
       "    2   CatalogYear     TEXT        1          None            \n",
       "    3    catalog_ID     TEXT        1          None            \n",
       "    4  course_title     TEXT        1          None            \n",
       "    5       credits     TEXT        1          None            \n",
       "    6       prereqs     TEXT        0          None            \n",
       "    7        coreqs     TEXT        0          None            \n",
       "    8          fees     TEXT        0          None            \n",
       "    9    attributes     TEXT        0          None            \n",
       "   10   description     TEXT        0          None            "
      ]
     },
     "metadata": {},
     "output_type": "display_data"
    },
    {
     "data": {
      "text/markdown": [
       "**Table : CLASS_MEETINGS**"
      ],
      "text/plain": [
       "<IPython.core.display.Markdown object>"
      ]
     },
     "metadata": {},
     "output_type": "display_data"
    },
    {
     "data": {
      "text/html": [
       "<div>\n",
       "<style scoped>\n",
       "    .dataframe tbody tr th:only-of-type {\n",
       "        vertical-align: middle;\n",
       "    }\n",
       "\n",
       "    .dataframe tbody tr th {\n",
       "        vertical-align: top;\n",
       "    }\n",
       "\n",
       "    .dataframe thead th {\n",
       "        text-align: right;\n",
       "    }\n",
       "</style>\n",
       "<table border=\"1\" class=\"dataframe\">\n",
       "  <thead>\n",
       "    <tr style=\"text-align: right;\">\n",
       "      <th></th>\n",
       "      <th>cid</th>\n",
       "      <th>ColumnName</th>\n",
       "      <th>DataType</th>\n",
       "      <th>notnull</th>\n",
       "      <th>default_value</th>\n",
       "      <th>primary_key</th>\n",
       "    </tr>\n",
       "  </thead>\n",
       "  <tbody>\n",
       "    <tr>\n",
       "      <th></th>\n",
       "      <td>0</td>\n",
       "      <td>CMID</td>\n",
       "      <td>INTEGER</td>\n",
       "      <td>0</td>\n",
       "      <td>None</td>\n",
       "      <td>Yes</td>\n",
       "    </tr>\n",
       "    <tr>\n",
       "      <th></th>\n",
       "      <td>1</td>\n",
       "      <td>COID</td>\n",
       "      <td>INTEGER</td>\n",
       "      <td>0</td>\n",
       "      <td>None</td>\n",
       "      <td></td>\n",
       "    </tr>\n",
       "    <tr>\n",
       "      <th></th>\n",
       "      <td>2</td>\n",
       "      <td>LID</td>\n",
       "      <td>INTEGER</td>\n",
       "      <td>0</td>\n",
       "      <td>None</td>\n",
       "      <td></td>\n",
       "    </tr>\n",
       "    <tr>\n",
       "      <th></th>\n",
       "      <td>3</td>\n",
       "      <td>DAY</td>\n",
       "      <td>TEXT</td>\n",
       "      <td>0</td>\n",
       "      <td>None</td>\n",
       "      <td></td>\n",
       "    </tr>\n",
       "    <tr>\n",
       "      <th></th>\n",
       "      <td>4</td>\n",
       "      <td>START</td>\n",
       "      <td>TEXT</td>\n",
       "      <td>0</td>\n",
       "      <td>None</td>\n",
       "      <td></td>\n",
       "    </tr>\n",
       "    <tr>\n",
       "      <th></th>\n",
       "      <td>5</td>\n",
       "      <td>END</td>\n",
       "      <td>TEXT</td>\n",
       "      <td>0</td>\n",
       "      <td>None</td>\n",
       "      <td></td>\n",
       "    </tr>\n",
       "    <tr>\n",
       "      <th></th>\n",
       "      <td>6</td>\n",
       "      <td>CRN</td>\n",
       "      <td>TEXT</td>\n",
       "      <td>0</td>\n",
       "      <td>None</td>\n",
       "      <td></td>\n",
       "    </tr>\n",
       "    <tr>\n",
       "      <th></th>\n",
       "      <td>7</td>\n",
       "      <td>SEMESTER</td>\n",
       "      <td>TEXT</td>\n",
       "      <td>1</td>\n",
       "      <td>None</td>\n",
       "      <td></td>\n",
       "    </tr>\n",
       "    <tr>\n",
       "      <th></th>\n",
       "      <td>8</td>\n",
       "      <td>YEAR</td>\n",
       "      <td>INTEGER</td>\n",
       "      <td>1</td>\n",
       "      <td>None</td>\n",
       "      <td></td>\n",
       "    </tr>\n",
       "  </tbody>\n",
       "</table>\n",
       "</div>"
      ],
      "text/plain": [
       "  cid ColumnName DataType  notnull default_value primary_key\n",
       "    0       CMID  INTEGER        0          None         Yes\n",
       "    1       COID  INTEGER        0          None            \n",
       "    2        LID  INTEGER        0          None            \n",
       "    3        DAY     TEXT        0          None            \n",
       "    4      START     TEXT        0          None            \n",
       "    5        END     TEXT        0          None            \n",
       "    6        CRN     TEXT        0          None            \n",
       "    7   SEMESTER     TEXT        1          None            \n",
       "    8       YEAR  INTEGER        1          None            "
      ]
     },
     "metadata": {},
     "output_type": "display_data"
    },
    {
     "data": {
      "text/markdown": [
       "**Table : CATALOG_YEAR**"
      ],
      "text/plain": [
       "<IPython.core.display.Markdown object>"
      ]
     },
     "metadata": {},
     "output_type": "display_data"
    },
    {
     "data": {
      "text/html": [
       "<div>\n",
       "<style scoped>\n",
       "    .dataframe tbody tr th:only-of-type {\n",
       "        vertical-align: middle;\n",
       "    }\n",
       "\n",
       "    .dataframe tbody tr th {\n",
       "        vertical-align: top;\n",
       "    }\n",
       "\n",
       "    .dataframe thead th {\n",
       "        text-align: right;\n",
       "    }\n",
       "</style>\n",
       "<table border=\"1\" class=\"dataframe\">\n",
       "  <thead>\n",
       "    <tr style=\"text-align: right;\">\n",
       "      <th></th>\n",
       "      <th>cid</th>\n",
       "      <th>ColumnName</th>\n",
       "      <th>DataType</th>\n",
       "      <th>notnull</th>\n",
       "      <th>default_value</th>\n",
       "      <th>primary_key</th>\n",
       "    </tr>\n",
       "  </thead>\n",
       "  <tbody>\n",
       "    <tr>\n",
       "      <th></th>\n",
       "      <td>0</td>\n",
       "      <td>CatalogYear</td>\n",
       "      <td>TEXT</td>\n",
       "      <td>0</td>\n",
       "      <td>None</td>\n",
       "      <td></td>\n",
       "    </tr>\n",
       "    <tr>\n",
       "      <th></th>\n",
       "      <td>1</td>\n",
       "      <td>YEAR</td>\n",
       "      <td>INTERGER</td>\n",
       "      <td>0</td>\n",
       "      <td>None</td>\n",
       "      <td></td>\n",
       "    </tr>\n",
       "    <tr>\n",
       "      <th></th>\n",
       "      <td>2</td>\n",
       "      <td>SEMESTER</td>\n",
       "      <td>TEXT</td>\n",
       "      <td>0</td>\n",
       "      <td>None</td>\n",
       "      <td></td>\n",
       "    </tr>\n",
       "  </tbody>\n",
       "</table>\n",
       "</div>"
      ],
      "text/plain": [
       "  cid   ColumnName  DataType  notnull default_value primary_key\n",
       "    0  CatalogYear      TEXT        0          None            \n",
       "    1         YEAR  INTERGER        0          None            \n",
       "    2     SEMESTER      TEXT        0          None            "
      ]
     },
     "metadata": {},
     "output_type": "display_data"
    },
    {
     "data": {
      "text/markdown": [
       "**Table : COURSE_OFFERING**"
      ],
      "text/plain": [
       "<IPython.core.display.Markdown object>"
      ]
     },
     "metadata": {},
     "output_type": "display_data"
    },
    {
     "data": {
      "text/html": [
       "<div>\n",
       "<style scoped>\n",
       "    .dataframe tbody tr th:only-of-type {\n",
       "        vertical-align: middle;\n",
       "    }\n",
       "\n",
       "    .dataframe tbody tr th {\n",
       "        vertical-align: top;\n",
       "    }\n",
       "\n",
       "    .dataframe thead th {\n",
       "        text-align: right;\n",
       "    }\n",
       "</style>\n",
       "<table border=\"1\" class=\"dataframe\">\n",
       "  <thead>\n",
       "    <tr style=\"text-align: right;\">\n",
       "      <th></th>\n",
       "      <th>cid</th>\n",
       "      <th>ColumnName</th>\n",
       "      <th>DataType</th>\n",
       "      <th>notnull</th>\n",
       "      <th>default_value</th>\n",
       "      <th>primary_key</th>\n",
       "    </tr>\n",
       "  </thead>\n",
       "  <tbody>\n",
       "    <tr>\n",
       "      <th></th>\n",
       "      <td>0</td>\n",
       "      <td>COID</td>\n",
       "      <td>INTEGER</td>\n",
       "      <td>0</td>\n",
       "      <td>None</td>\n",
       "      <td>Yes</td>\n",
       "    </tr>\n",
       "    <tr>\n",
       "      <th></th>\n",
       "      <td>1</td>\n",
       "      <td>CID</td>\n",
       "      <td>INTEGER</td>\n",
       "      <td>0</td>\n",
       "      <td>None</td>\n",
       "      <td></td>\n",
       "    </tr>\n",
       "    <tr>\n",
       "      <th></th>\n",
       "      <td>2</td>\n",
       "      <td>FID</td>\n",
       "      <td>INTEGER</td>\n",
       "      <td>1</td>\n",
       "      <td>None</td>\n",
       "      <td></td>\n",
       "    </tr>\n",
       "    <tr>\n",
       "      <th></th>\n",
       "      <td>3</td>\n",
       "      <td>CRN</td>\n",
       "      <td>TEXT</td>\n",
       "      <td>1</td>\n",
       "      <td>None</td>\n",
       "      <td></td>\n",
       "    </tr>\n",
       "    <tr>\n",
       "      <th></th>\n",
       "      <td>4</td>\n",
       "      <td>SEMESTER</td>\n",
       "      <td>TEXT</td>\n",
       "      <td>1</td>\n",
       "      <td>None</td>\n",
       "      <td></td>\n",
       "    </tr>\n",
       "    <tr>\n",
       "      <th></th>\n",
       "      <td>5</td>\n",
       "      <td>YEAR</td>\n",
       "      <td>INTEGER</td>\n",
       "      <td>1</td>\n",
       "      <td>None</td>\n",
       "      <td></td>\n",
       "    </tr>\n",
       "    <tr>\n",
       "      <th></th>\n",
       "      <td>6</td>\n",
       "      <td>TITLE</td>\n",
       "      <td>TEXT</td>\n",
       "      <td>1</td>\n",
       "      <td>None</td>\n",
       "      <td></td>\n",
       "    </tr>\n",
       "    <tr>\n",
       "      <th></th>\n",
       "      <td>7</td>\n",
       "      <td>CATALOG_ID</td>\n",
       "      <td>TEXT</td>\n",
       "      <td>0</td>\n",
       "      <td>None</td>\n",
       "      <td></td>\n",
       "    </tr>\n",
       "    <tr>\n",
       "      <th></th>\n",
       "      <td>8</td>\n",
       "      <td>CatalogYear</td>\n",
       "      <td>TEXT</td>\n",
       "      <td>0</td>\n",
       "      <td>None</td>\n",
       "      <td></td>\n",
       "    </tr>\n",
       "    <tr>\n",
       "      <th></th>\n",
       "      <td>9</td>\n",
       "      <td>MEETINGS</td>\n",
       "      <td>TEXT</td>\n",
       "      <td>0</td>\n",
       "      <td>None</td>\n",
       "      <td></td>\n",
       "    </tr>\n",
       "    <tr>\n",
       "      <th></th>\n",
       "      <td>10</td>\n",
       "      <td>TIMECODES</td>\n",
       "      <td>TEXT</td>\n",
       "      <td>0</td>\n",
       "      <td>None</td>\n",
       "      <td></td>\n",
       "    </tr>\n",
       "    <tr>\n",
       "      <th></th>\n",
       "      <td>11</td>\n",
       "      <td>SECTION</td>\n",
       "      <td>TEXT</td>\n",
       "      <td>1</td>\n",
       "      <td>None</td>\n",
       "      <td></td>\n",
       "    </tr>\n",
       "    <tr>\n",
       "      <th></th>\n",
       "      <td>12</td>\n",
       "      <td>CAP</td>\n",
       "      <td>INTEGER</td>\n",
       "      <td>1</td>\n",
       "      <td>None</td>\n",
       "      <td></td>\n",
       "    </tr>\n",
       "    <tr>\n",
       "      <th></th>\n",
       "      <td>13</td>\n",
       "      <td>ACT</td>\n",
       "      <td>INTEGER</td>\n",
       "      <td>1</td>\n",
       "      <td>None</td>\n",
       "      <td></td>\n",
       "    </tr>\n",
       "    <tr>\n",
       "      <th></th>\n",
       "      <td>14</td>\n",
       "      <td>REM</td>\n",
       "      <td>INTEGER</td>\n",
       "      <td>1</td>\n",
       "      <td>None</td>\n",
       "      <td></td>\n",
       "    </tr>\n",
       "    <tr>\n",
       "      <th></th>\n",
       "      <td>15</td>\n",
       "      <td>instructor_lname</td>\n",
       "      <td>TEXT</td>\n",
       "      <td>0</td>\n",
       "      <td>None</td>\n",
       "      <td></td>\n",
       "    </tr>\n",
       "    <tr>\n",
       "      <th></th>\n",
       "      <td>16</td>\n",
       "      <td>instructor_fname</td>\n",
       "      <td>TEXT</td>\n",
       "      <td>0</td>\n",
       "      <td>None</td>\n",
       "      <td></td>\n",
       "    </tr>\n",
       "  </tbody>\n",
       "</table>\n",
       "</div>"
      ],
      "text/plain": [
       "  cid        ColumnName DataType  notnull default_value primary_key\n",
       "    0              COID  INTEGER        0          None         Yes\n",
       "    1               CID  INTEGER        0          None            \n",
       "    2               FID  INTEGER        1          None            \n",
       "    3               CRN     TEXT        1          None            \n",
       "    4          SEMESTER     TEXT        1          None            \n",
       "    5              YEAR  INTEGER        1          None            \n",
       "    6             TITLE     TEXT        1          None            \n",
       "    7        CATALOG_ID     TEXT        0          None            \n",
       "    8       CatalogYear     TEXT        0          None            \n",
       "    9          MEETINGS     TEXT        0          None            \n",
       "   10         TIMECODES     TEXT        0          None            \n",
       "   11           SECTION     TEXT        1          None            \n",
       "   12               CAP  INTEGER        1          None            \n",
       "   13               ACT  INTEGER        1          None            \n",
       "   14               REM  INTEGER        1          None            \n",
       "   15  instructor_lname     TEXT        0          None            \n",
       "   16  instructor_fname     TEXT        0          None            "
      ]
     },
     "metadata": {},
     "output_type": "display_data"
    }
   ],
   "source": [
    "import pandas as pd\n",
    "from sqlalchemy import create_engine\n",
    "\n",
    "dbtable = ['PROGRAMS','FACULTY' , 'LOCATION' , 'COURSE' ,\n",
    "            'CLASS_MEETINGS', 'CATALOG_YEAR' ,'COURSE_OFFERING']\n",
    "\n",
    "for i in dbtable:\n",
    "    query = \"PRAGMA TABLE_INFO ({}) \".format (i)\n",
    "\n",
    "    table_info = pd.read_sql_query(query,engine)\n",
    "    table_info = table_info.rename(columns={\"name\": \"ColumnName\" ,\"type\": \"DataType\" , 'dflt_value':'default_value',\"pk\": 'primary_key'})\n",
    "    table_info.primary_key = table_info.primary_key.map({1:\"Yes\" , 0: \"\"})\n",
    "    display(Markdown('**Table : {}**'.format(i)))\n",
    "    blankIndex=[''] * len(table_info)\n",
    "    table_info.index=blankIndex\n",
    "    display(table_info)"
   ]
  },
  {
   "cell_type": "markdown",
   "metadata": {},
   "source": [
    "## 6.2 Entity Integrity"
   ]
  },
  {
   "cell_type": "code",
   "execution_count": 4,
   "metadata": {},
   "outputs": [
    {
     "name": "stdout",
     "output_type": "stream",
     "text": [
      " * sqlite:///CourseData.db\n",
      "Done.\n"
     ]
    },
    {
     "data": {
      "text/html": [
       "<table>\n",
       "    <tr>\n",
       "        <th>CatalogCourses</th>\n",
       "        <th>CourseOfferings</th>\n",
       "        <th>CourseMeetings</th>\n",
       "    </tr>\n",
       "    <tr>\n",
       "        <td>6696</td>\n",
       "        <td>15937</td>\n",
       "        <td>284847</td>\n",
       "    </tr>\n",
       "</table>"
      ],
      "text/plain": [
       "[(6696, 15937, 284847)]"
      ]
     },
     "execution_count": 4,
     "metadata": {},
     "output_type": "execute_result"
    }
   ],
   "source": [
    "%%sql\n",
    "-- There should be 4440 Catalog Entries, 15937 Course Offerings, and 284847 Course Meetings\n",
    "SELECT \n",
    "    (SELECT Count(*) FROM COURSE) as CatalogCourses,\n",
    "    (SELECT Count(*) FROM COURSE_OFFERING) as CourseOfferings,\n",
    "    (SELECT Count(*) FROM CLASS_MEETINGS) as CourseMeetings;"
   ]
  },
  {
   "cell_type": "markdown",
   "metadata": {},
   "source": [
    "_Check that each row of a table has a unique and non-null primary key value_"
   ]
  },
  {
   "cell_type": "code",
   "execution_count": 31,
   "metadata": {},
   "outputs": [
    {
     "data": {
      "text/markdown": [
       "**Table : PROGRAMS**"
      ],
      "text/plain": [
       "<IPython.core.display.Markdown object>"
      ]
     },
     "metadata": {},
     "output_type": "display_data"
    },
    {
     "data": {
      "text/html": [
       "<div>\n",
       "<style scoped>\n",
       "    .dataframe tbody tr th:only-of-type {\n",
       "        vertical-align: middle;\n",
       "    }\n",
       "\n",
       "    .dataframe tbody tr th {\n",
       "        vertical-align: top;\n",
       "    }\n",
       "\n",
       "    .dataframe thead th {\n",
       "        text-align: right;\n",
       "    }\n",
       "</style>\n",
       "<table border=\"1\" class=\"dataframe\">\n",
       "  <thead>\n",
       "    <tr style=\"text-align: right;\">\n",
       "      <th></th>\n",
       "      <th>PID</th>\n",
       "      <th>program_code</th>\n",
       "      <th>program_name</th>\n",
       "    </tr>\n",
       "  </thead>\n",
       "  <tbody>\n",
       "    <tr>\n",
       "      <th></th>\n",
       "      <td>1</td>\n",
       "      <td>AN</td>\n",
       "      <td>Asian Studies</td>\n",
       "    </tr>\n",
       "    <tr>\n",
       "      <th></th>\n",
       "      <td>2</td>\n",
       "      <td>BU</td>\n",
       "      <td>Business</td>\n",
       "    </tr>\n",
       "    <tr>\n",
       "      <th></th>\n",
       "      <td>3</td>\n",
       "      <td>BL</td>\n",
       "      <td>Black Studies</td>\n",
       "    </tr>\n",
       "    <tr>\n",
       "      <th></th>\n",
       "      <td>4</td>\n",
       "      <td>BEN</td>\n",
       "      <td>Bioengineering</td>\n",
       "    </tr>\n",
       "    <tr>\n",
       "      <th></th>\n",
       "      <td>5</td>\n",
       "      <td>AR</td>\n",
       "      <td>Arabic</td>\n",
       "    </tr>\n",
       "  </tbody>\n",
       "</table>\n",
       "</div>"
      ],
      "text/plain": [
       "  PID program_code    program_name\n",
       "    1           AN   Asian Studies\n",
       "    2           BU        Business\n",
       "    3           BL   Black Studies\n",
       "    4          BEN  Bioengineering\n",
       "    5           AR          Arabic"
      ]
     },
     "metadata": {},
     "output_type": "display_data"
    },
    {
     "data": {
      "text/markdown": [
       " "
      ],
      "text/plain": [
       "<IPython.core.display.Markdown object>"
      ]
     },
     "metadata": {},
     "output_type": "display_data"
    },
    {
     "data": {
      "text/markdown": [
       " "
      ],
      "text/plain": [
       "<IPython.core.display.Markdown object>"
      ]
     },
     "metadata": {},
     "output_type": "display_data"
    },
    {
     "data": {
      "text/markdown": [
       "**Missing If Any :**"
      ],
      "text/plain": [
       "<IPython.core.display.Markdown object>"
      ]
     },
     "metadata": {},
     "output_type": "display_data"
    },
    {
     "data": {
      "text/markdown": [
       "+ PID Number of Missing: 0"
      ],
      "text/plain": [
       "<IPython.core.display.Markdown object>"
      ]
     },
     "metadata": {},
     "output_type": "display_data"
    },
    {
     "data": {
      "text/markdown": [
       " "
      ],
      "text/plain": [
       "<IPython.core.display.Markdown object>"
      ]
     },
     "metadata": {},
     "output_type": "display_data"
    },
    {
     "data": {
      "text/markdown": [
       "+ program_code Number of Missing: 0"
      ],
      "text/plain": [
       "<IPython.core.display.Markdown object>"
      ]
     },
     "metadata": {},
     "output_type": "display_data"
    },
    {
     "data": {
      "text/markdown": [
       " "
      ],
      "text/plain": [
       "<IPython.core.display.Markdown object>"
      ]
     },
     "metadata": {},
     "output_type": "display_data"
    },
    {
     "data": {
      "text/markdown": [
       "+ program_name Number of Missing: 0"
      ],
      "text/plain": [
       "<IPython.core.display.Markdown object>"
      ]
     },
     "metadata": {},
     "output_type": "display_data"
    },
    {
     "data": {
      "text/markdown": [
       " "
      ],
      "text/plain": [
       "<IPython.core.display.Markdown object>"
      ]
     },
     "metadata": {},
     "output_type": "display_data"
    },
    {
     "data": {
      "text/markdown": [
       " The Number of Rows: 92 <br> The Number of Columns: 3"
      ],
      "text/plain": [
       "<IPython.core.display.Markdown object>"
      ]
     },
     "metadata": {},
     "output_type": "display_data"
    },
    {
     "data": {
      "text/markdown": [
       "---"
      ],
      "text/plain": [
       "<IPython.core.display.Markdown object>"
      ]
     },
     "metadata": {},
     "output_type": "display_data"
    },
    {
     "data": {
      "text/markdown": [
       "**Table : FACULTY**"
      ],
      "text/plain": [
       "<IPython.core.display.Markdown object>"
      ]
     },
     "metadata": {},
     "output_type": "display_data"
    },
    {
     "data": {
      "text/html": [
       "<div>\n",
       "<style scoped>\n",
       "    .dataframe tbody tr th:only-of-type {\n",
       "        vertical-align: middle;\n",
       "    }\n",
       "\n",
       "    .dataframe tbody tr th {\n",
       "        vertical-align: top;\n",
       "    }\n",
       "\n",
       "    .dataframe thead th {\n",
       "        text-align: right;\n",
       "    }\n",
       "</style>\n",
       "<table border=\"1\" class=\"dataframe\">\n",
       "  <thead>\n",
       "    <tr style=\"text-align: right;\">\n",
       "      <th></th>\n",
       "      <th>FID</th>\n",
       "      <th>instructor_fname</th>\n",
       "      <th>instructor_lname</th>\n",
       "    </tr>\n",
       "  </thead>\n",
       "  <tbody>\n",
       "    <tr>\n",
       "      <th></th>\n",
       "      <td>1</td>\n",
       "      <td>Michael P.</td>\n",
       "      <td>Coyne</td>\n",
       "    </tr>\n",
       "    <tr>\n",
       "      <th></th>\n",
       "      <td>2</td>\n",
       "      <td>Rebecca I.</td>\n",
       "      <td>Bloch</td>\n",
       "    </tr>\n",
       "    <tr>\n",
       "      <th></th>\n",
       "      <td>3</td>\n",
       "      <td>Paul</td>\n",
       "      <td>Caster</td>\n",
       "    </tr>\n",
       "    <tr>\n",
       "      <th></th>\n",
       "      <td>4</td>\n",
       "      <td>Jo Ann</td>\n",
       "      <td>Drusbosky</td>\n",
       "    </tr>\n",
       "    <tr>\n",
       "      <th></th>\n",
       "      <td>5</td>\n",
       "      <td>Arleen N.</td>\n",
       "      <td>Kardos</td>\n",
       "    </tr>\n",
       "  </tbody>\n",
       "</table>\n",
       "</div>"
      ],
      "text/plain": [
       "  FID instructor_fname instructor_lname\n",
       "    1       Michael P.            Coyne\n",
       "    2       Rebecca I.            Bloch\n",
       "    3             Paul           Caster\n",
       "    4           Jo Ann        Drusbosky\n",
       "    5        Arleen N.           Kardos"
      ]
     },
     "metadata": {},
     "output_type": "display_data"
    },
    {
     "data": {
      "text/markdown": [
       " "
      ],
      "text/plain": [
       "<IPython.core.display.Markdown object>"
      ]
     },
     "metadata": {},
     "output_type": "display_data"
    },
    {
     "data": {
      "text/markdown": [
       " "
      ],
      "text/plain": [
       "<IPython.core.display.Markdown object>"
      ]
     },
     "metadata": {},
     "output_type": "display_data"
    },
    {
     "data": {
      "text/markdown": [
       "**Missing If Any :**"
      ],
      "text/plain": [
       "<IPython.core.display.Markdown object>"
      ]
     },
     "metadata": {},
     "output_type": "display_data"
    },
    {
     "data": {
      "text/markdown": [
       "+ FID Number of Missing: 0"
      ],
      "text/plain": [
       "<IPython.core.display.Markdown object>"
      ]
     },
     "metadata": {},
     "output_type": "display_data"
    },
    {
     "data": {
      "text/markdown": [
       " "
      ],
      "text/plain": [
       "<IPython.core.display.Markdown object>"
      ]
     },
     "metadata": {},
     "output_type": "display_data"
    },
    {
     "data": {
      "text/markdown": [
       "+ instructor_fname Number of Missing: 0"
      ],
      "text/plain": [
       "<IPython.core.display.Markdown object>"
      ]
     },
     "metadata": {},
     "output_type": "display_data"
    },
    {
     "data": {
      "text/markdown": [
       " "
      ],
      "text/plain": [
       "<IPython.core.display.Markdown object>"
      ]
     },
     "metadata": {},
     "output_type": "display_data"
    },
    {
     "data": {
      "text/markdown": [
       "+ instructor_lname Number of Missing: 0"
      ],
      "text/plain": [
       "<IPython.core.display.Markdown object>"
      ]
     },
     "metadata": {},
     "output_type": "display_data"
    },
    {
     "data": {
      "text/markdown": [
       " "
      ],
      "text/plain": [
       "<IPython.core.display.Markdown object>"
      ]
     },
     "metadata": {},
     "output_type": "display_data"
    },
    {
     "data": {
      "text/markdown": [
       " The Number of Rows: 1104 <br> The Number of Columns: 3"
      ],
      "text/plain": [
       "<IPython.core.display.Markdown object>"
      ]
     },
     "metadata": {},
     "output_type": "display_data"
    },
    {
     "data": {
      "text/markdown": [
       "---"
      ],
      "text/plain": [
       "<IPython.core.display.Markdown object>"
      ]
     },
     "metadata": {},
     "output_type": "display_data"
    },
    {
     "data": {
      "text/markdown": [
       "**Table : LOCATION**"
      ],
      "text/plain": [
       "<IPython.core.display.Markdown object>"
      ]
     },
     "metadata": {},
     "output_type": "display_data"
    },
    {
     "data": {
      "text/html": [
       "<div>\n",
       "<style scoped>\n",
       "    .dataframe tbody tr th:only-of-type {\n",
       "        vertical-align: middle;\n",
       "    }\n",
       "\n",
       "    .dataframe tbody tr th {\n",
       "        vertical-align: top;\n",
       "    }\n",
       "\n",
       "    .dataframe thead th {\n",
       "        text-align: right;\n",
       "    }\n",
       "</style>\n",
       "<table border=\"1\" class=\"dataframe\">\n",
       "  <thead>\n",
       "    <tr style=\"text-align: right;\">\n",
       "      <th></th>\n",
       "      <th>LID</th>\n",
       "      <th>BuildingName</th>\n",
       "      <th>BuildingCode</th>\n",
       "      <th>location</th>\n",
       "    </tr>\n",
       "  </thead>\n",
       "  <tbody>\n",
       "    <tr>\n",
       "      <th></th>\n",
       "      <td>1</td>\n",
       "      <td>Dolan School of Business</td>\n",
       "      <td>DSB</td>\n",
       "      <td>DSB 105</td>\n",
       "    </tr>\n",
       "    <tr>\n",
       "      <th></th>\n",
       "      <td>2</td>\n",
       "      <td>Dolan School of Business</td>\n",
       "      <td>DSB</td>\n",
       "      <td>DSB 111</td>\n",
       "    </tr>\n",
       "    <tr>\n",
       "      <th></th>\n",
       "      <td>3</td>\n",
       "      <td>Dolan School of Business</td>\n",
       "      <td>DSB</td>\n",
       "      <td>DSB 110A</td>\n",
       "    </tr>\n",
       "    <tr>\n",
       "      <th></th>\n",
       "      <td>4</td>\n",
       "      <td>Dolan School of Business</td>\n",
       "      <td>DSB</td>\n",
       "      <td>DSB 108</td>\n",
       "    </tr>\n",
       "    <tr>\n",
       "      <th></th>\n",
       "      <td>5</td>\n",
       "      <td>Dolan School of Business</td>\n",
       "      <td>DSB</td>\n",
       "      <td>DSB 110B</td>\n",
       "    </tr>\n",
       "  </tbody>\n",
       "</table>\n",
       "</div>"
      ],
      "text/plain": [
       "  LID              BuildingName BuildingCode  location\n",
       "    1  Dolan School of Business          DSB   DSB 105\n",
       "    2  Dolan School of Business          DSB   DSB 111\n",
       "    3  Dolan School of Business          DSB  DSB 110A\n",
       "    4  Dolan School of Business          DSB   DSB 108\n",
       "    5  Dolan School of Business          DSB  DSB 110B"
      ]
     },
     "metadata": {},
     "output_type": "display_data"
    },
    {
     "data": {
      "text/markdown": [
       " "
      ],
      "text/plain": [
       "<IPython.core.display.Markdown object>"
      ]
     },
     "metadata": {},
     "output_type": "display_data"
    },
    {
     "data": {
      "text/markdown": [
       " "
      ],
      "text/plain": [
       "<IPython.core.display.Markdown object>"
      ]
     },
     "metadata": {},
     "output_type": "display_data"
    },
    {
     "data": {
      "text/markdown": [
       "**Missing If Any :**"
      ],
      "text/plain": [
       "<IPython.core.display.Markdown object>"
      ]
     },
     "metadata": {},
     "output_type": "display_data"
    },
    {
     "data": {
      "text/markdown": [
       "+ LID Number of Missing: 0"
      ],
      "text/plain": [
       "<IPython.core.display.Markdown object>"
      ]
     },
     "metadata": {},
     "output_type": "display_data"
    },
    {
     "data": {
      "text/markdown": [
       " "
      ],
      "text/plain": [
       "<IPython.core.display.Markdown object>"
      ]
     },
     "metadata": {},
     "output_type": "display_data"
    },
    {
     "data": {
      "text/markdown": [
       "+ BuildingName Number of Missing: 0"
      ],
      "text/plain": [
       "<IPython.core.display.Markdown object>"
      ]
     },
     "metadata": {},
     "output_type": "display_data"
    },
    {
     "data": {
      "text/markdown": [
       " "
      ],
      "text/plain": [
       "<IPython.core.display.Markdown object>"
      ]
     },
     "metadata": {},
     "output_type": "display_data"
    },
    {
     "data": {
      "text/markdown": [
       "+ BuildingCode Number of Missing: 0"
      ],
      "text/plain": [
       "<IPython.core.display.Markdown object>"
      ]
     },
     "metadata": {},
     "output_type": "display_data"
    },
    {
     "data": {
      "text/markdown": [
       " "
      ],
      "text/plain": [
       "<IPython.core.display.Markdown object>"
      ]
     },
     "metadata": {},
     "output_type": "display_data"
    },
    {
     "data": {
      "text/markdown": [
       "+ location Number of Missing: 0"
      ],
      "text/plain": [
       "<IPython.core.display.Markdown object>"
      ]
     },
     "metadata": {},
     "output_type": "display_data"
    },
    {
     "data": {
      "text/markdown": [
       " "
      ],
      "text/plain": [
       "<IPython.core.display.Markdown object>"
      ]
     },
     "metadata": {},
     "output_type": "display_data"
    },
    {
     "data": {
      "text/markdown": [
       " The Number of Rows: 207 <br> The Number of Columns: 4"
      ],
      "text/plain": [
       "<IPython.core.display.Markdown object>"
      ]
     },
     "metadata": {},
     "output_type": "display_data"
    },
    {
     "data": {
      "text/markdown": [
       "---"
      ],
      "text/plain": [
       "<IPython.core.display.Markdown object>"
      ]
     },
     "metadata": {},
     "output_type": "display_data"
    },
    {
     "data": {
      "text/markdown": [
       "**Table : COURSE**"
      ],
      "text/plain": [
       "<IPython.core.display.Markdown object>"
      ]
     },
     "metadata": {},
     "output_type": "display_data"
    },
    {
     "data": {
      "text/html": [
       "<div>\n",
       "<style scoped>\n",
       "    .dataframe tbody tr th:only-of-type {\n",
       "        vertical-align: middle;\n",
       "    }\n",
       "\n",
       "    .dataframe tbody tr th {\n",
       "        vertical-align: top;\n",
       "    }\n",
       "\n",
       "    .dataframe thead th {\n",
       "        text-align: right;\n",
       "    }\n",
       "</style>\n",
       "<table border=\"1\" class=\"dataframe\">\n",
       "  <thead>\n",
       "    <tr style=\"text-align: right;\">\n",
       "      <th></th>\n",
       "      <th>CID</th>\n",
       "      <th>PID</th>\n",
       "      <th>CatalogYear</th>\n",
       "      <th>catalog_ID</th>\n",
       "      <th>course_title</th>\n",
       "      <th>credits</th>\n",
       "      <th>prereqs</th>\n",
       "      <th>coreqs</th>\n",
       "      <th>fees</th>\n",
       "      <th>attributes</th>\n",
       "      <th>description</th>\n",
       "    </tr>\n",
       "  </thead>\n",
       "  <tbody>\n",
       "    <tr>\n",
       "      <th></th>\n",
       "      <td>1</td>\n",
       "      <td>1</td>\n",
       "      <td>2017_2018</td>\n",
       "      <td>AN 0301</td>\n",
       "      <td>Independent Study</td>\n",
       "      <td>1-3 Credits</td>\n",
       "      <td>None</td>\n",
       "      <td>None</td>\n",
       "      <td>None</td>\n",
       "      <td>None</td>\n",
       "      <td>Students undertake an individualized program o...</td>\n",
       "    </tr>\n",
       "    <tr>\n",
       "      <th></th>\n",
       "      <td>2</td>\n",
       "      <td>1</td>\n",
       "      <td>2017_2018</td>\n",
       "      <td>AN 0310</td>\n",
       "      <td>Asian Studies Seminar</td>\n",
       "      <td>3 Credits</td>\n",
       "      <td>None</td>\n",
       "      <td>None</td>\n",
       "      <td>None</td>\n",
       "      <td>None</td>\n",
       "      <td>This seminar examines selected topics concerni...</td>\n",
       "    </tr>\n",
       "    <tr>\n",
       "      <th></th>\n",
       "      <td>3</td>\n",
       "      <td>2</td>\n",
       "      <td>2017_2018</td>\n",
       "      <td>BU 0211</td>\n",
       "      <td>Legal Environment of Business</td>\n",
       "      <td>3 Credits</td>\n",
       "      <td>Junior standing.</td>\n",
       "      <td>None</td>\n",
       "      <td>None</td>\n",
       "      <td>None</td>\n",
       "      <td>This course examines the broad philosophical a...</td>\n",
       "    </tr>\n",
       "    <tr>\n",
       "      <th></th>\n",
       "      <td>4</td>\n",
       "      <td>2</td>\n",
       "      <td>2017_2018</td>\n",
       "      <td>BU 0220</td>\n",
       "      <td>Environmental Law and Policy</td>\n",
       "      <td>3 Credits</td>\n",
       "      <td>None</td>\n",
       "      <td>None</td>\n",
       "      <td>None</td>\n",
       "      <td>EVME Environmental Studies Major Elective, EVP...</td>\n",
       "      <td>This course surveys issues arising out of fede...</td>\n",
       "    </tr>\n",
       "    <tr>\n",
       "      <th></th>\n",
       "      <td>5</td>\n",
       "      <td>2</td>\n",
       "      <td>2017_2018</td>\n",
       "      <td>BU 0311</td>\n",
       "      <td>The Law of Contracts, Sales, and Property</td>\n",
       "      <td>3 Credits</td>\n",
       "      <td>BU 0211.</td>\n",
       "      <td>None</td>\n",
       "      <td>None</td>\n",
       "      <td>None</td>\n",
       "      <td>This course examines the components of common ...</td>\n",
       "    </tr>\n",
       "  </tbody>\n",
       "</table>\n",
       "</div>"
      ],
      "text/plain": [
       "  CID  PID CatalogYear catalog_ID                               course_title  \\\n",
       "    1    1   2017_2018    AN 0301                          Independent Study   \n",
       "    2    1   2017_2018    AN 0310                      Asian Studies Seminar   \n",
       "    3    2   2017_2018    BU 0211              Legal Environment of Business   \n",
       "    4    2   2017_2018    BU 0220               Environmental Law and Policy   \n",
       "    5    2   2017_2018    BU 0311  The Law of Contracts, Sales, and Property   \n",
       "\n",
       "      credits           prereqs coreqs  fees  \\\n",
       "  1-3 Credits              None   None  None   \n",
       "    3 Credits              None   None  None   \n",
       "    3 Credits  Junior standing.   None  None   \n",
       "    3 Credits              None   None  None   \n",
       "    3 Credits          BU 0211.   None  None   \n",
       "\n",
       "                                         attributes  \\\n",
       "                                               None   \n",
       "                                               None   \n",
       "                                               None   \n",
       "  EVME Environmental Studies Major Elective, EVP...   \n",
       "                                               None   \n",
       "\n",
       "                                        description  \n",
       "  Students undertake an individualized program o...  \n",
       "  This seminar examines selected topics concerni...  \n",
       "  This course examines the broad philosophical a...  \n",
       "  This course surveys issues arising out of fede...  \n",
       "  This course examines the components of common ...  "
      ]
     },
     "metadata": {},
     "output_type": "display_data"
    },
    {
     "data": {
      "text/markdown": [
       " "
      ],
      "text/plain": [
       "<IPython.core.display.Markdown object>"
      ]
     },
     "metadata": {},
     "output_type": "display_data"
    },
    {
     "data": {
      "text/markdown": [
       " "
      ],
      "text/plain": [
       "<IPython.core.display.Markdown object>"
      ]
     },
     "metadata": {},
     "output_type": "display_data"
    },
    {
     "data": {
      "text/markdown": [
       "**Missing If Any :**"
      ],
      "text/plain": [
       "<IPython.core.display.Markdown object>"
      ]
     },
     "metadata": {},
     "output_type": "display_data"
    },
    {
     "data": {
      "text/markdown": [
       "+ CID Number of Missing: 0"
      ],
      "text/plain": [
       "<IPython.core.display.Markdown object>"
      ]
     },
     "metadata": {},
     "output_type": "display_data"
    },
    {
     "data": {
      "text/markdown": [
       " "
      ],
      "text/plain": [
       "<IPython.core.display.Markdown object>"
      ]
     },
     "metadata": {},
     "output_type": "display_data"
    },
    {
     "data": {
      "text/markdown": [
       "+ PID Number of Missing: 0"
      ],
      "text/plain": [
       "<IPython.core.display.Markdown object>"
      ]
     },
     "metadata": {},
     "output_type": "display_data"
    },
    {
     "data": {
      "text/markdown": [
       " "
      ],
      "text/plain": [
       "<IPython.core.display.Markdown object>"
      ]
     },
     "metadata": {},
     "output_type": "display_data"
    },
    {
     "data": {
      "text/markdown": [
       "+ CatalogYear Number of Missing: 0"
      ],
      "text/plain": [
       "<IPython.core.display.Markdown object>"
      ]
     },
     "metadata": {},
     "output_type": "display_data"
    },
    {
     "data": {
      "text/markdown": [
       " "
      ],
      "text/plain": [
       "<IPython.core.display.Markdown object>"
      ]
     },
     "metadata": {},
     "output_type": "display_data"
    },
    {
     "data": {
      "text/markdown": [
       "+ catalog_ID Number of Missing: 0"
      ],
      "text/plain": [
       "<IPython.core.display.Markdown object>"
      ]
     },
     "metadata": {},
     "output_type": "display_data"
    },
    {
     "data": {
      "text/markdown": [
       " "
      ],
      "text/plain": [
       "<IPython.core.display.Markdown object>"
      ]
     },
     "metadata": {},
     "output_type": "display_data"
    },
    {
     "data": {
      "text/markdown": [
       "+ course_title Number of Missing: 0"
      ],
      "text/plain": [
       "<IPython.core.display.Markdown object>"
      ]
     },
     "metadata": {},
     "output_type": "display_data"
    },
    {
     "data": {
      "text/markdown": [
       " "
      ],
      "text/plain": [
       "<IPython.core.display.Markdown object>"
      ]
     },
     "metadata": {},
     "output_type": "display_data"
    },
    {
     "data": {
      "text/markdown": [
       "+ credits Number of Missing: 0"
      ],
      "text/plain": [
       "<IPython.core.display.Markdown object>"
      ]
     },
     "metadata": {},
     "output_type": "display_data"
    },
    {
     "data": {
      "text/markdown": [
       " "
      ],
      "text/plain": [
       "<IPython.core.display.Markdown object>"
      ]
     },
     "metadata": {},
     "output_type": "display_data"
    },
    {
     "data": {
      "text/markdown": [
       "+ prereqs Number of Missing: 3306"
      ],
      "text/plain": [
       "<IPython.core.display.Markdown object>"
      ]
     },
     "metadata": {},
     "output_type": "display_data"
    },
    {
     "data": {
      "text/markdown": [
       " "
      ],
      "text/plain": [
       "<IPython.core.display.Markdown object>"
      ]
     },
     "metadata": {},
     "output_type": "display_data"
    },
    {
     "data": {
      "text/markdown": [
       "+ coreqs Number of Missing: 6354"
      ],
      "text/plain": [
       "<IPython.core.display.Markdown object>"
      ]
     },
     "metadata": {},
     "output_type": "display_data"
    },
    {
     "data": {
      "text/markdown": [
       " "
      ],
      "text/plain": [
       "<IPython.core.display.Markdown object>"
      ]
     },
     "metadata": {},
     "output_type": "display_data"
    },
    {
     "data": {
      "text/markdown": [
       "+ fees Number of Missing: 6306"
      ],
      "text/plain": [
       "<IPython.core.display.Markdown object>"
      ]
     },
     "metadata": {},
     "output_type": "display_data"
    },
    {
     "data": {
      "text/markdown": [
       " "
      ],
      "text/plain": [
       "<IPython.core.display.Markdown object>"
      ]
     },
     "metadata": {},
     "output_type": "display_data"
    },
    {
     "data": {
      "text/markdown": [
       "+ attributes Number of Missing: 4452"
      ],
      "text/plain": [
       "<IPython.core.display.Markdown object>"
      ]
     },
     "metadata": {},
     "output_type": "display_data"
    },
    {
     "data": {
      "text/markdown": [
       " "
      ],
      "text/plain": [
       "<IPython.core.display.Markdown object>"
      ]
     },
     "metadata": {},
     "output_type": "display_data"
    },
    {
     "data": {
      "text/markdown": [
       "+ description Number of Missing: 259"
      ],
      "text/plain": [
       "<IPython.core.display.Markdown object>"
      ]
     },
     "metadata": {},
     "output_type": "display_data"
    },
    {
     "data": {
      "text/markdown": [
       " "
      ],
      "text/plain": [
       "<IPython.core.display.Markdown object>"
      ]
     },
     "metadata": {},
     "output_type": "display_data"
    },
    {
     "data": {
      "text/markdown": [
       " The Number of Rows: 6696 <br> The Number of Columns: 11"
      ],
      "text/plain": [
       "<IPython.core.display.Markdown object>"
      ]
     },
     "metadata": {},
     "output_type": "display_data"
    },
    {
     "data": {
      "text/markdown": [
       "---"
      ],
      "text/plain": [
       "<IPython.core.display.Markdown object>"
      ]
     },
     "metadata": {},
     "output_type": "display_data"
    },
    {
     "data": {
      "text/markdown": [
       "**Table : CLASS_MEETINGS**"
      ],
      "text/plain": [
       "<IPython.core.display.Markdown object>"
      ]
     },
     "metadata": {},
     "output_type": "display_data"
    },
    {
     "data": {
      "text/html": [
       "<div>\n",
       "<style scoped>\n",
       "    .dataframe tbody tr th:only-of-type {\n",
       "        vertical-align: middle;\n",
       "    }\n",
       "\n",
       "    .dataframe tbody tr th {\n",
       "        vertical-align: top;\n",
       "    }\n",
       "\n",
       "    .dataframe thead th {\n",
       "        text-align: right;\n",
       "    }\n",
       "</style>\n",
       "<table border=\"1\" class=\"dataframe\">\n",
       "  <thead>\n",
       "    <tr style=\"text-align: right;\">\n",
       "      <th></th>\n",
       "      <th>CMID</th>\n",
       "      <th>COID</th>\n",
       "      <th>LID</th>\n",
       "      <th>DAY</th>\n",
       "      <th>START</th>\n",
       "      <th>END</th>\n",
       "      <th>CRN</th>\n",
       "      <th>SEMESTER</th>\n",
       "      <th>YEAR</th>\n",
       "    </tr>\n",
       "  </thead>\n",
       "  <tbody>\n",
       "    <tr>\n",
       "      <th></th>\n",
       "      <td>1</td>\n",
       "      <td>1</td>\n",
       "      <td>1</td>\n",
       "      <td>T</td>\n",
       "      <td>2014-09-02T08:00:00</td>\n",
       "      <td>2014-09-02T09:15:00</td>\n",
       "      <td>70384</td>\n",
       "      <td>Fall</td>\n",
       "      <td>2014</td>\n",
       "    </tr>\n",
       "    <tr>\n",
       "      <th></th>\n",
       "      <td>2</td>\n",
       "      <td>1</td>\n",
       "      <td>1</td>\n",
       "      <td>F</td>\n",
       "      <td>2014-09-05T08:00:00</td>\n",
       "      <td>2014-09-05T09:15:00</td>\n",
       "      <td>70384</td>\n",
       "      <td>Fall</td>\n",
       "      <td>2014</td>\n",
       "    </tr>\n",
       "    <tr>\n",
       "      <th></th>\n",
       "      <td>3</td>\n",
       "      <td>1</td>\n",
       "      <td>1</td>\n",
       "      <td>T</td>\n",
       "      <td>2014-09-09T08:00:00</td>\n",
       "      <td>2014-09-09T09:15:00</td>\n",
       "      <td>70384</td>\n",
       "      <td>Fall</td>\n",
       "      <td>2014</td>\n",
       "    </tr>\n",
       "    <tr>\n",
       "      <th></th>\n",
       "      <td>4</td>\n",
       "      <td>1</td>\n",
       "      <td>1</td>\n",
       "      <td>F</td>\n",
       "      <td>2014-09-12T08:00:00</td>\n",
       "      <td>2014-09-12T09:15:00</td>\n",
       "      <td>70384</td>\n",
       "      <td>Fall</td>\n",
       "      <td>2014</td>\n",
       "    </tr>\n",
       "    <tr>\n",
       "      <th></th>\n",
       "      <td>5</td>\n",
       "      <td>1</td>\n",
       "      <td>1</td>\n",
       "      <td>T</td>\n",
       "      <td>2014-09-16T08:00:00</td>\n",
       "      <td>2014-09-16T09:15:00</td>\n",
       "      <td>70384</td>\n",
       "      <td>Fall</td>\n",
       "      <td>2014</td>\n",
       "    </tr>\n",
       "  </tbody>\n",
       "</table>\n",
       "</div>"
      ],
      "text/plain": [
       "  CMID  COID  LID DAY                START                  END    CRN  \\\n",
       "     1     1    1   T  2014-09-02T08:00:00  2014-09-02T09:15:00  70384   \n",
       "     2     1    1   F  2014-09-05T08:00:00  2014-09-05T09:15:00  70384   \n",
       "     3     1    1   T  2014-09-09T08:00:00  2014-09-09T09:15:00  70384   \n",
       "     4     1    1   F  2014-09-12T08:00:00  2014-09-12T09:15:00  70384   \n",
       "     5     1    1   T  2014-09-16T08:00:00  2014-09-16T09:15:00  70384   \n",
       "\n",
       " SEMESTER  YEAR  \n",
       "     Fall  2014  \n",
       "     Fall  2014  \n",
       "     Fall  2014  \n",
       "     Fall  2014  \n",
       "     Fall  2014  "
      ]
     },
     "metadata": {},
     "output_type": "display_data"
    },
    {
     "data": {
      "text/markdown": [
       " "
      ],
      "text/plain": [
       "<IPython.core.display.Markdown object>"
      ]
     },
     "metadata": {},
     "output_type": "display_data"
    },
    {
     "data": {
      "text/markdown": [
       " "
      ],
      "text/plain": [
       "<IPython.core.display.Markdown object>"
      ]
     },
     "metadata": {},
     "output_type": "display_data"
    },
    {
     "data": {
      "text/markdown": [
       "**Missing If Any :**"
      ],
      "text/plain": [
       "<IPython.core.display.Markdown object>"
      ]
     },
     "metadata": {},
     "output_type": "display_data"
    },
    {
     "data": {
      "text/markdown": [
       "+ CMID Number of Missing: 0"
      ],
      "text/plain": [
       "<IPython.core.display.Markdown object>"
      ]
     },
     "metadata": {},
     "output_type": "display_data"
    },
    {
     "data": {
      "text/markdown": [
       " "
      ],
      "text/plain": [
       "<IPython.core.display.Markdown object>"
      ]
     },
     "metadata": {},
     "output_type": "display_data"
    },
    {
     "data": {
      "text/markdown": [
       "+ COID Number of Missing: 0"
      ],
      "text/plain": [
       "<IPython.core.display.Markdown object>"
      ]
     },
     "metadata": {},
     "output_type": "display_data"
    },
    {
     "data": {
      "text/markdown": [
       " "
      ],
      "text/plain": [
       "<IPython.core.display.Markdown object>"
      ]
     },
     "metadata": {},
     "output_type": "display_data"
    },
    {
     "data": {
      "text/markdown": [
       "+ LID Number of Missing: 0"
      ],
      "text/plain": [
       "<IPython.core.display.Markdown object>"
      ]
     },
     "metadata": {},
     "output_type": "display_data"
    },
    {
     "data": {
      "text/markdown": [
       " "
      ],
      "text/plain": [
       "<IPython.core.display.Markdown object>"
      ]
     },
     "metadata": {},
     "output_type": "display_data"
    },
    {
     "data": {
      "text/markdown": [
       "+ DAY Number of Missing: 0"
      ],
      "text/plain": [
       "<IPython.core.display.Markdown object>"
      ]
     },
     "metadata": {},
     "output_type": "display_data"
    },
    {
     "data": {
      "text/markdown": [
       " "
      ],
      "text/plain": [
       "<IPython.core.display.Markdown object>"
      ]
     },
     "metadata": {},
     "output_type": "display_data"
    },
    {
     "data": {
      "text/markdown": [
       "+ START Number of Missing: 0"
      ],
      "text/plain": [
       "<IPython.core.display.Markdown object>"
      ]
     },
     "metadata": {},
     "output_type": "display_data"
    },
    {
     "data": {
      "text/markdown": [
       " "
      ],
      "text/plain": [
       "<IPython.core.display.Markdown object>"
      ]
     },
     "metadata": {},
     "output_type": "display_data"
    },
    {
     "data": {
      "text/markdown": [
       "+ END Number of Missing: 0"
      ],
      "text/plain": [
       "<IPython.core.display.Markdown object>"
      ]
     },
     "metadata": {},
     "output_type": "display_data"
    },
    {
     "data": {
      "text/markdown": [
       " "
      ],
      "text/plain": [
       "<IPython.core.display.Markdown object>"
      ]
     },
     "metadata": {},
     "output_type": "display_data"
    },
    {
     "data": {
      "text/markdown": [
       "+ CRN Number of Missing: 0"
      ],
      "text/plain": [
       "<IPython.core.display.Markdown object>"
      ]
     },
     "metadata": {},
     "output_type": "display_data"
    },
    {
     "data": {
      "text/markdown": [
       " "
      ],
      "text/plain": [
       "<IPython.core.display.Markdown object>"
      ]
     },
     "metadata": {},
     "output_type": "display_data"
    },
    {
     "data": {
      "text/markdown": [
       "+ SEMESTER Number of Missing: 0"
      ],
      "text/plain": [
       "<IPython.core.display.Markdown object>"
      ]
     },
     "metadata": {},
     "output_type": "display_data"
    },
    {
     "data": {
      "text/markdown": [
       " "
      ],
      "text/plain": [
       "<IPython.core.display.Markdown object>"
      ]
     },
     "metadata": {},
     "output_type": "display_data"
    },
    {
     "data": {
      "text/markdown": [
       "+ YEAR Number of Missing: 0"
      ],
      "text/plain": [
       "<IPython.core.display.Markdown object>"
      ]
     },
     "metadata": {},
     "output_type": "display_data"
    },
    {
     "data": {
      "text/markdown": [
       " "
      ],
      "text/plain": [
       "<IPython.core.display.Markdown object>"
      ]
     },
     "metadata": {},
     "output_type": "display_data"
    },
    {
     "data": {
      "text/markdown": [
       " The Number of Rows: 284847 <br> The Number of Columns: 9"
      ],
      "text/plain": [
       "<IPython.core.display.Markdown object>"
      ]
     },
     "metadata": {},
     "output_type": "display_data"
    },
    {
     "data": {
      "text/markdown": [
       "---"
      ],
      "text/plain": [
       "<IPython.core.display.Markdown object>"
      ]
     },
     "metadata": {},
     "output_type": "display_data"
    },
    {
     "data": {
      "text/markdown": [
       "**Table : CATALOG_YEAR**"
      ],
      "text/plain": [
       "<IPython.core.display.Markdown object>"
      ]
     },
     "metadata": {},
     "output_type": "display_data"
    },
    {
     "data": {
      "text/html": [
       "<div>\n",
       "<style scoped>\n",
       "    .dataframe tbody tr th:only-of-type {\n",
       "        vertical-align: middle;\n",
       "    }\n",
       "\n",
       "    .dataframe tbody tr th {\n",
       "        vertical-align: top;\n",
       "    }\n",
       "\n",
       "    .dataframe thead th {\n",
       "        text-align: right;\n",
       "    }\n",
       "</style>\n",
       "<table border=\"1\" class=\"dataframe\">\n",
       "  <thead>\n",
       "    <tr style=\"text-align: right;\">\n",
       "      <th></th>\n",
       "      <th>CatalogYear</th>\n",
       "      <th>YEAR</th>\n",
       "      <th>SEMESTER</th>\n",
       "    </tr>\n",
       "  </thead>\n",
       "  <tbody>\n",
       "    <tr>\n",
       "      <th></th>\n",
       "      <td>2014_2015</td>\n",
       "      <td>2014</td>\n",
       "      <td>Fall</td>\n",
       "    </tr>\n",
       "    <tr>\n",
       "      <th></th>\n",
       "      <td>2014_2015</td>\n",
       "      <td>2015</td>\n",
       "      <td>Winter</td>\n",
       "    </tr>\n",
       "    <tr>\n",
       "      <th></th>\n",
       "      <td>2014_2015</td>\n",
       "      <td>2015</td>\n",
       "      <td>Spring</td>\n",
       "    </tr>\n",
       "    <tr>\n",
       "      <th></th>\n",
       "      <td>2014_2015</td>\n",
       "      <td>2015</td>\n",
       "      <td>Summer</td>\n",
       "    </tr>\n",
       "    <tr>\n",
       "      <th></th>\n",
       "      <td>2015_2016</td>\n",
       "      <td>2015</td>\n",
       "      <td>Fall</td>\n",
       "    </tr>\n",
       "  </tbody>\n",
       "</table>\n",
       "</div>"
      ],
      "text/plain": [
       " CatalogYear  YEAR SEMESTER\n",
       "   2014_2015  2014     Fall\n",
       "   2014_2015  2015   Winter\n",
       "   2014_2015  2015   Spring\n",
       "   2014_2015  2015   Summer\n",
       "   2015_2016  2015     Fall"
      ]
     },
     "metadata": {},
     "output_type": "display_data"
    },
    {
     "data": {
      "text/markdown": [
       " "
      ],
      "text/plain": [
       "<IPython.core.display.Markdown object>"
      ]
     },
     "metadata": {},
     "output_type": "display_data"
    },
    {
     "data": {
      "text/markdown": [
       " "
      ],
      "text/plain": [
       "<IPython.core.display.Markdown object>"
      ]
     },
     "metadata": {},
     "output_type": "display_data"
    },
    {
     "data": {
      "text/markdown": [
       "**Missing If Any :**"
      ],
      "text/plain": [
       "<IPython.core.display.Markdown object>"
      ]
     },
     "metadata": {},
     "output_type": "display_data"
    },
    {
     "data": {
      "text/markdown": [
       "+ CatalogYear Number of Missing: 0"
      ],
      "text/plain": [
       "<IPython.core.display.Markdown object>"
      ]
     },
     "metadata": {},
     "output_type": "display_data"
    },
    {
     "data": {
      "text/markdown": [
       " "
      ],
      "text/plain": [
       "<IPython.core.display.Markdown object>"
      ]
     },
     "metadata": {},
     "output_type": "display_data"
    },
    {
     "data": {
      "text/markdown": [
       "+ YEAR Number of Missing: 0"
      ],
      "text/plain": [
       "<IPython.core.display.Markdown object>"
      ]
     },
     "metadata": {},
     "output_type": "display_data"
    },
    {
     "data": {
      "text/markdown": [
       " "
      ],
      "text/plain": [
       "<IPython.core.display.Markdown object>"
      ]
     },
     "metadata": {},
     "output_type": "display_data"
    },
    {
     "data": {
      "text/markdown": [
       "+ SEMESTER Number of Missing: 0"
      ],
      "text/plain": [
       "<IPython.core.display.Markdown object>"
      ]
     },
     "metadata": {},
     "output_type": "display_data"
    },
    {
     "data": {
      "text/markdown": [
       " "
      ],
      "text/plain": [
       "<IPython.core.display.Markdown object>"
      ]
     },
     "metadata": {},
     "output_type": "display_data"
    },
    {
     "data": {
      "text/markdown": [
       " The Number of Rows: 20 <br> The Number of Columns: 3"
      ],
      "text/plain": [
       "<IPython.core.display.Markdown object>"
      ]
     },
     "metadata": {},
     "output_type": "display_data"
    },
    {
     "data": {
      "text/markdown": [
       "---"
      ],
      "text/plain": [
       "<IPython.core.display.Markdown object>"
      ]
     },
     "metadata": {},
     "output_type": "display_data"
    },
    {
     "data": {
      "text/markdown": [
       "**Table : COURSE_OFFERING**"
      ],
      "text/plain": [
       "<IPython.core.display.Markdown object>"
      ]
     },
     "metadata": {},
     "output_type": "display_data"
    },
    {
     "data": {
      "text/html": [
       "<div>\n",
       "<style scoped>\n",
       "    .dataframe tbody tr th:only-of-type {\n",
       "        vertical-align: middle;\n",
       "    }\n",
       "\n",
       "    .dataframe tbody tr th {\n",
       "        vertical-align: top;\n",
       "    }\n",
       "\n",
       "    .dataframe thead th {\n",
       "        text-align: right;\n",
       "    }\n",
       "</style>\n",
       "<table border=\"1\" class=\"dataframe\">\n",
       "  <thead>\n",
       "    <tr style=\"text-align: right;\">\n",
       "      <th></th>\n",
       "      <th>COID</th>\n",
       "      <th>CID</th>\n",
       "      <th>FID</th>\n",
       "      <th>CRN</th>\n",
       "      <th>SEMESTER</th>\n",
       "      <th>YEAR</th>\n",
       "      <th>TITLE</th>\n",
       "      <th>CATALOG_ID</th>\n",
       "      <th>CatalogYear</th>\n",
       "      <th>MEETINGS</th>\n",
       "      <th>TIMECODES</th>\n",
       "      <th>SECTION</th>\n",
       "      <th>CAP</th>\n",
       "      <th>ACT</th>\n",
       "      <th>REM</th>\n",
       "      <th>instructor_lname</th>\n",
       "      <th>instructor_fname</th>\n",
       "    </tr>\n",
       "  </thead>\n",
       "  <tbody>\n",
       "    <tr>\n",
       "      <th></th>\n",
       "      <td>1</td>\n",
       "      <td>NaN</td>\n",
       "      <td>1</td>\n",
       "      <td>70384</td>\n",
       "      <td>Fall</td>\n",
       "      <td>2014</td>\n",
       "      <td>Introduction to Financial Accounting</td>\n",
       "      <td>AC 0011</td>\n",
       "      <td>2014_2015</td>\n",
       "      <td>[{'days': 'TF', 'times': '0800am-0915am', 'dat...</td>\n",
       "      <td>['TF 0800am-0915am 09/02-12/08 DSB 105']</td>\n",
       "      <td>C01</td>\n",
       "      <td>0</td>\n",
       "      <td>31</td>\n",
       "      <td>-31</td>\n",
       "      <td>Coyne</td>\n",
       "      <td>Michael P.</td>\n",
       "    </tr>\n",
       "    <tr>\n",
       "      <th></th>\n",
       "      <td>2</td>\n",
       "      <td>NaN</td>\n",
       "      <td>1</td>\n",
       "      <td>70385</td>\n",
       "      <td>Fall</td>\n",
       "      <td>2014</td>\n",
       "      <td>Introduction to Financial Accounting</td>\n",
       "      <td>AC 0011</td>\n",
       "      <td>2014_2015</td>\n",
       "      <td>[{'days': 'TF', 'times': '0930am-1045am', 'dat...</td>\n",
       "      <td>['TF 0930am-1045am 09/02-12/08 DSB 105']</td>\n",
       "      <td>C02</td>\n",
       "      <td>0</td>\n",
       "      <td>31</td>\n",
       "      <td>-31</td>\n",
       "      <td>Coyne</td>\n",
       "      <td>Michael P.</td>\n",
       "    </tr>\n",
       "    <tr>\n",
       "      <th></th>\n",
       "      <td>3</td>\n",
       "      <td>NaN</td>\n",
       "      <td>1</td>\n",
       "      <td>70382</td>\n",
       "      <td>Fall</td>\n",
       "      <td>2014</td>\n",
       "      <td>Introduction to Financial Accounting</td>\n",
       "      <td>AC 0011</td>\n",
       "      <td>2014_2015</td>\n",
       "      <td>[{'days': 'TF', 'times': '1230pm-0145pm', 'dat...</td>\n",
       "      <td>['TF 1230pm-0145pm 09/02-12/08 DSB 105']</td>\n",
       "      <td>C03</td>\n",
       "      <td>0</td>\n",
       "      <td>31</td>\n",
       "      <td>-31</td>\n",
       "      <td>Coyne</td>\n",
       "      <td>Michael P.</td>\n",
       "    </tr>\n",
       "    <tr>\n",
       "      <th></th>\n",
       "      <td>4</td>\n",
       "      <td>NaN</td>\n",
       "      <td>2</td>\n",
       "      <td>70291</td>\n",
       "      <td>Fall</td>\n",
       "      <td>2014</td>\n",
       "      <td>Introduction to Financial Accounting</td>\n",
       "      <td>AC 0011</td>\n",
       "      <td>2014_2015</td>\n",
       "      <td>[{'days': 'MR', 'times': '1100am-1215pm', 'dat...</td>\n",
       "      <td>['MR 1100am-1215pm 09/02-12/08 DSB 111']</td>\n",
       "      <td>C04</td>\n",
       "      <td>0</td>\n",
       "      <td>29</td>\n",
       "      <td>-29</td>\n",
       "      <td>Bloch</td>\n",
       "      <td>Rebecca I.</td>\n",
       "    </tr>\n",
       "    <tr>\n",
       "      <th></th>\n",
       "      <td>5</td>\n",
       "      <td>NaN</td>\n",
       "      <td>2</td>\n",
       "      <td>70350</td>\n",
       "      <td>Fall</td>\n",
       "      <td>2014</td>\n",
       "      <td>Introduction to Financial Accounting</td>\n",
       "      <td>AC 0011</td>\n",
       "      <td>2014_2015</td>\n",
       "      <td>[{'days': 'MR', 'times': '1230pm-0145pm', 'dat...</td>\n",
       "      <td>['MR 1230pm-0145pm 09/02-12/08 DSB 111']</td>\n",
       "      <td>C05</td>\n",
       "      <td>0</td>\n",
       "      <td>30</td>\n",
       "      <td>-30</td>\n",
       "      <td>Bloch</td>\n",
       "      <td>Rebecca I.</td>\n",
       "    </tr>\n",
       "  </tbody>\n",
       "</table>\n",
       "</div>"
      ],
      "text/plain": [
       "  COID  CID  FID    CRN SEMESTER  YEAR                                 TITLE  \\\n",
       "     1  NaN    1  70384     Fall  2014  Introduction to Financial Accounting   \n",
       "     2  NaN    1  70385     Fall  2014  Introduction to Financial Accounting   \n",
       "     3  NaN    1  70382     Fall  2014  Introduction to Financial Accounting   \n",
       "     4  NaN    2  70291     Fall  2014  Introduction to Financial Accounting   \n",
       "     5  NaN    2  70350     Fall  2014  Introduction to Financial Accounting   \n",
       "\n",
       " CATALOG_ID CatalogYear                                           MEETINGS  \\\n",
       "    AC 0011   2014_2015  [{'days': 'TF', 'times': '0800am-0915am', 'dat...   \n",
       "    AC 0011   2014_2015  [{'days': 'TF', 'times': '0930am-1045am', 'dat...   \n",
       "    AC 0011   2014_2015  [{'days': 'TF', 'times': '1230pm-0145pm', 'dat...   \n",
       "    AC 0011   2014_2015  [{'days': 'MR', 'times': '1100am-1215pm', 'dat...   \n",
       "    AC 0011   2014_2015  [{'days': 'MR', 'times': '1230pm-0145pm', 'dat...   \n",
       "\n",
       "                                 TIMECODES SECTION  CAP  ACT  REM  \\\n",
       "  ['TF 0800am-0915am 09/02-12/08 DSB 105']     C01    0   31  -31   \n",
       "  ['TF 0930am-1045am 09/02-12/08 DSB 105']     C02    0   31  -31   \n",
       "  ['TF 1230pm-0145pm 09/02-12/08 DSB 105']     C03    0   31  -31   \n",
       "  ['MR 1100am-1215pm 09/02-12/08 DSB 111']     C04    0   29  -29   \n",
       "  ['MR 1230pm-0145pm 09/02-12/08 DSB 111']     C05    0   30  -30   \n",
       "\n",
       " instructor_lname instructor_fname  \n",
       "            Coyne       Michael P.  \n",
       "            Coyne       Michael P.  \n",
       "            Coyne       Michael P.  \n",
       "            Bloch       Rebecca I.  \n",
       "            Bloch       Rebecca I.  "
      ]
     },
     "metadata": {},
     "output_type": "display_data"
    },
    {
     "data": {
      "text/markdown": [
       " "
      ],
      "text/plain": [
       "<IPython.core.display.Markdown object>"
      ]
     },
     "metadata": {},
     "output_type": "display_data"
    },
    {
     "data": {
      "text/markdown": [
       " "
      ],
      "text/plain": [
       "<IPython.core.display.Markdown object>"
      ]
     },
     "metadata": {},
     "output_type": "display_data"
    },
    {
     "data": {
      "text/markdown": [
       "**Missing If Any :**"
      ],
      "text/plain": [
       "<IPython.core.display.Markdown object>"
      ]
     },
     "metadata": {},
     "output_type": "display_data"
    },
    {
     "data": {
      "text/markdown": [
       "+ COID Number of Missing: 0"
      ],
      "text/plain": [
       "<IPython.core.display.Markdown object>"
      ]
     },
     "metadata": {},
     "output_type": "display_data"
    },
    {
     "data": {
      "text/markdown": [
       " "
      ],
      "text/plain": [
       "<IPython.core.display.Markdown object>"
      ]
     },
     "metadata": {},
     "output_type": "display_data"
    },
    {
     "data": {
      "text/markdown": [
       "+ CID Number of Missing: 4474"
      ],
      "text/plain": [
       "<IPython.core.display.Markdown object>"
      ]
     },
     "metadata": {},
     "output_type": "display_data"
    },
    {
     "data": {
      "text/markdown": [
       " "
      ],
      "text/plain": [
       "<IPython.core.display.Markdown object>"
      ]
     },
     "metadata": {},
     "output_type": "display_data"
    },
    {
     "data": {
      "text/markdown": [
       "+ FID Number of Missing: 0"
      ],
      "text/plain": [
       "<IPython.core.display.Markdown object>"
      ]
     },
     "metadata": {},
     "output_type": "display_data"
    },
    {
     "data": {
      "text/markdown": [
       " "
      ],
      "text/plain": [
       "<IPython.core.display.Markdown object>"
      ]
     },
     "metadata": {},
     "output_type": "display_data"
    },
    {
     "data": {
      "text/markdown": [
       "+ CRN Number of Missing: 0"
      ],
      "text/plain": [
       "<IPython.core.display.Markdown object>"
      ]
     },
     "metadata": {},
     "output_type": "display_data"
    },
    {
     "data": {
      "text/markdown": [
       " "
      ],
      "text/plain": [
       "<IPython.core.display.Markdown object>"
      ]
     },
     "metadata": {},
     "output_type": "display_data"
    },
    {
     "data": {
      "text/markdown": [
       "+ SEMESTER Number of Missing: 0"
      ],
      "text/plain": [
       "<IPython.core.display.Markdown object>"
      ]
     },
     "metadata": {},
     "output_type": "display_data"
    },
    {
     "data": {
      "text/markdown": [
       " "
      ],
      "text/plain": [
       "<IPython.core.display.Markdown object>"
      ]
     },
     "metadata": {},
     "output_type": "display_data"
    },
    {
     "data": {
      "text/markdown": [
       "+ YEAR Number of Missing: 0"
      ],
      "text/plain": [
       "<IPython.core.display.Markdown object>"
      ]
     },
     "metadata": {},
     "output_type": "display_data"
    },
    {
     "data": {
      "text/markdown": [
       " "
      ],
      "text/plain": [
       "<IPython.core.display.Markdown object>"
      ]
     },
     "metadata": {},
     "output_type": "display_data"
    },
    {
     "data": {
      "text/markdown": [
       "+ TITLE Number of Missing: 0"
      ],
      "text/plain": [
       "<IPython.core.display.Markdown object>"
      ]
     },
     "metadata": {},
     "output_type": "display_data"
    },
    {
     "data": {
      "text/markdown": [
       " "
      ],
      "text/plain": [
       "<IPython.core.display.Markdown object>"
      ]
     },
     "metadata": {},
     "output_type": "display_data"
    },
    {
     "data": {
      "text/markdown": [
       "+ CATALOG_ID Number of Missing: 0"
      ],
      "text/plain": [
       "<IPython.core.display.Markdown object>"
      ]
     },
     "metadata": {},
     "output_type": "display_data"
    },
    {
     "data": {
      "text/markdown": [
       " "
      ],
      "text/plain": [
       "<IPython.core.display.Markdown object>"
      ]
     },
     "metadata": {},
     "output_type": "display_data"
    },
    {
     "data": {
      "text/markdown": [
       "+ CatalogYear Number of Missing: 0"
      ],
      "text/plain": [
       "<IPython.core.display.Markdown object>"
      ]
     },
     "metadata": {},
     "output_type": "display_data"
    },
    {
     "data": {
      "text/markdown": [
       " "
      ],
      "text/plain": [
       "<IPython.core.display.Markdown object>"
      ]
     },
     "metadata": {},
     "output_type": "display_data"
    },
    {
     "data": {
      "text/markdown": [
       "+ MEETINGS Number of Missing: 0"
      ],
      "text/plain": [
       "<IPython.core.display.Markdown object>"
      ]
     },
     "metadata": {},
     "output_type": "display_data"
    },
    {
     "data": {
      "text/markdown": [
       " "
      ],
      "text/plain": [
       "<IPython.core.display.Markdown object>"
      ]
     },
     "metadata": {},
     "output_type": "display_data"
    },
    {
     "data": {
      "text/markdown": [
       "+ TIMECODES Number of Missing: 0"
      ],
      "text/plain": [
       "<IPython.core.display.Markdown object>"
      ]
     },
     "metadata": {},
     "output_type": "display_data"
    },
    {
     "data": {
      "text/markdown": [
       " "
      ],
      "text/plain": [
       "<IPython.core.display.Markdown object>"
      ]
     },
     "metadata": {},
     "output_type": "display_data"
    },
    {
     "data": {
      "text/markdown": [
       "+ SECTION Number of Missing: 0"
      ],
      "text/plain": [
       "<IPython.core.display.Markdown object>"
      ]
     },
     "metadata": {},
     "output_type": "display_data"
    },
    {
     "data": {
      "text/markdown": [
       " "
      ],
      "text/plain": [
       "<IPython.core.display.Markdown object>"
      ]
     },
     "metadata": {},
     "output_type": "display_data"
    },
    {
     "data": {
      "text/markdown": [
       "+ CAP Number of Missing: 0"
      ],
      "text/plain": [
       "<IPython.core.display.Markdown object>"
      ]
     },
     "metadata": {},
     "output_type": "display_data"
    },
    {
     "data": {
      "text/markdown": [
       " "
      ],
      "text/plain": [
       "<IPython.core.display.Markdown object>"
      ]
     },
     "metadata": {},
     "output_type": "display_data"
    },
    {
     "data": {
      "text/markdown": [
       "+ ACT Number of Missing: 0"
      ],
      "text/plain": [
       "<IPython.core.display.Markdown object>"
      ]
     },
     "metadata": {},
     "output_type": "display_data"
    },
    {
     "data": {
      "text/markdown": [
       " "
      ],
      "text/plain": [
       "<IPython.core.display.Markdown object>"
      ]
     },
     "metadata": {},
     "output_type": "display_data"
    },
    {
     "data": {
      "text/markdown": [
       "+ REM Number of Missing: 0"
      ],
      "text/plain": [
       "<IPython.core.display.Markdown object>"
      ]
     },
     "metadata": {},
     "output_type": "display_data"
    },
    {
     "data": {
      "text/markdown": [
       " "
      ],
      "text/plain": [
       "<IPython.core.display.Markdown object>"
      ]
     },
     "metadata": {},
     "output_type": "display_data"
    },
    {
     "data": {
      "text/markdown": [
       "+ instructor_lname Number of Missing: 0"
      ],
      "text/plain": [
       "<IPython.core.display.Markdown object>"
      ]
     },
     "metadata": {},
     "output_type": "display_data"
    },
    {
     "data": {
      "text/markdown": [
       " "
      ],
      "text/plain": [
       "<IPython.core.display.Markdown object>"
      ]
     },
     "metadata": {},
     "output_type": "display_data"
    },
    {
     "data": {
      "text/markdown": [
       "+ instructor_fname Number of Missing: 0"
      ],
      "text/plain": [
       "<IPython.core.display.Markdown object>"
      ]
     },
     "metadata": {},
     "output_type": "display_data"
    },
    {
     "data": {
      "text/markdown": [
       " "
      ],
      "text/plain": [
       "<IPython.core.display.Markdown object>"
      ]
     },
     "metadata": {},
     "output_type": "display_data"
    },
    {
     "data": {
      "text/markdown": [
       " The Number of Rows: 15937 <br> The Number of Columns: 17"
      ],
      "text/plain": [
       "<IPython.core.display.Markdown object>"
      ]
     },
     "metadata": {},
     "output_type": "display_data"
    },
    {
     "data": {
      "text/markdown": [
       "---"
      ],
      "text/plain": [
       "<IPython.core.display.Markdown object>"
      ]
     },
     "metadata": {},
     "output_type": "display_data"
    }
   ],
   "source": [
    "import pandas as pd\n",
    "from sqlalchemy import create_engine\n",
    "engine = create_engine(\"sqlite:///CourseData.db\")\n",
    "dbtable = ['PROGRAMS','FACULTY' , 'LOCATION' , 'COURSE' ,\n",
    "            'CLASS_MEETINGS', 'CATALOG_YEAR' ,'COURSE_OFFERING']\n",
    "for i in range(len(dbtable)) :\n",
    "    display(Markdown('**Table : {}**'.format( dbtable[i])))\n",
    "    tables = pd.read_sql_table(dbtable[i],engine)\n",
    "    blankIndex=[''] * len(tables)\n",
    "    tables.index=blankIndex\n",
    "    display(tables.head())\n",
    "    display(Markdown(\" \"))\n",
    "    display(Markdown(\" \"))\n",
    "    display(Markdown(\"**Missing If Any :**\"))\n",
    "    tables_na = tables.isna().sum().to_frame(\"NumberOfMisiing\")\n",
    "    #display(Markdown(i.tables_na[\"NumberOfMisiing\"]))\n",
    "    for index, row in tables_na.iterrows():\n",
    "        display(Markdown(\"+ {0} Number of Missing: {1}\".format(index,row[\"NumberOfMisiing\"])))\n",
    "     \n",
    "        display(Markdown(\" \"))\n",
    "    display(Markdown(\" The Number of Rows: {0} <br> The Number of Columns: {1}\".format(tables.shape[0] , tables.shape[1])))\n",
    "    display(Markdown(\"---\"))\n"
   ]
  },
  {
   "cell_type": "markdown",
   "metadata": {},
   "source": [
    "## 6.3 Relational Integrity"
   ]
  },
  {
   "cell_type": "code",
   "execution_count": 21,
   "metadata": {},
   "outputs": [
    {
     "data": {
      "text/plain": [
       "'Connected: @CourseData.db'"
      ]
     },
     "execution_count": 21,
     "metadata": {},
     "output_type": "execute_result"
    }
   ],
   "source": [
    "#%load_ext sql\n",
    "%reload_ext sql\n",
    "\n",
    "# initialize a database connection\n",
    "%sql sqlite:///CourseData.db"
   ]
  },
  {
   "cell_type": "code",
   "execution_count": 22,
   "metadata": {},
   "outputs": [
    {
     "name": "stdout",
     "output_type": "stream",
     "text": [
      " * sqlite:///CourseData.db\n",
      "Done.\n"
     ]
    },
    {
     "data": {
      "text/html": [
       "<table>\n",
       "    <tr>\n",
       "        <th>COUNT(*)</th>\n",
       "    </tr>\n",
       "    <tr>\n",
       "        <td>207</td>\n",
       "    </tr>\n",
       "</table>"
      ],
      "text/plain": [
       "[(207,)]"
      ]
     },
     "execution_count": 22,
     "metadata": {},
     "output_type": "execute_result"
    }
   ],
   "source": [
    "%%sql\n",
    "SELECT COUNT(*) FROM LOCATION;"
   ]
  },
  {
   "cell_type": "markdown",
   "metadata": {},
   "source": [
    "- Check if there is a catalog_ID starting with 'BA', to find Business Analytics courses"
   ]
  },
  {
   "cell_type": "code",
   "execution_count": 23,
   "metadata": {},
   "outputs": [
    {
     "name": "stdout",
     "output_type": "stream",
     "text": [
      " * sqlite:///CourseData.db\n",
      "Done.\n"
     ]
    },
    {
     "data": {
      "text/html": [
       "<table>\n",
       "    <tr>\n",
       "        <th>PID</th>\n",
       "        <th>catalog_ID</th>\n",
       "    </tr>\n",
       "    <tr>\n",
       "        <td>92</td>\n",
       "        <td>BA 0500</td>\n",
       "    </tr>\n",
       "    <tr>\n",
       "        <td>92</td>\n",
       "        <td>BA 0505</td>\n",
       "    </tr>\n",
       "    <tr>\n",
       "        <td>92</td>\n",
       "        <td>BA 0510</td>\n",
       "    </tr>\n",
       "    <tr>\n",
       "        <td>92</td>\n",
       "        <td>BA 0540</td>\n",
       "    </tr>\n",
       "    <tr>\n",
       "        <td>92</td>\n",
       "        <td>BA 0545</td>\n",
       "    </tr>\n",
       "</table>"
      ],
      "text/plain": [
       "[(92, 'BA 0500'),\n",
       " (92, 'BA 0505'),\n",
       " (92, 'BA 0510'),\n",
       " (92, 'BA 0540'),\n",
       " (92, 'BA 0545')]"
      ]
     },
     "execution_count": 23,
     "metadata": {},
     "output_type": "execute_result"
    }
   ],
   "source": [
    "%%sql\n",
    "SELECT PID, Catalog_ID FROM COURSE\n",
    "where Catalog_ID like \"BA%\"\n",
    "LIMIT 10;"
   ]
  },
  {
   "cell_type": "markdown",
   "metadata": {},
   "source": [
    "- Check the first 10 rows from the table: 'PROGRAMS'"
   ]
  },
  {
   "cell_type": "code",
   "execution_count": 24,
   "metadata": {},
   "outputs": [
    {
     "name": "stdout",
     "output_type": "stream",
     "text": [
      " * sqlite:///CourseData.db\n",
      "Done.\n"
     ]
    },
    {
     "data": {
      "text/html": [
       "<table>\n",
       "    <tr>\n",
       "        <th>PID</th>\n",
       "        <th>program_code</th>\n",
       "        <th>program_name</th>\n",
       "    </tr>\n",
       "    <tr>\n",
       "        <td>1</td>\n",
       "        <td>AN</td>\n",
       "        <td>Asian Studies</td>\n",
       "    </tr>\n",
       "    <tr>\n",
       "        <td>2</td>\n",
       "        <td>BU</td>\n",
       "        <td>Business</td>\n",
       "    </tr>\n",
       "    <tr>\n",
       "        <td>3</td>\n",
       "        <td>BL</td>\n",
       "        <td>Black Studies</td>\n",
       "    </tr>\n",
       "    <tr>\n",
       "        <td>4</td>\n",
       "        <td>BEN</td>\n",
       "        <td>Bioengineering</td>\n",
       "    </tr>\n",
       "    <tr>\n",
       "        <td>5</td>\n",
       "        <td>AR</td>\n",
       "        <td>Arabic</td>\n",
       "    </tr>\n",
       "    <tr>\n",
       "        <td>6</td>\n",
       "        <td>AY</td>\n",
       "        <td>Anthropology</td>\n",
       "    </tr>\n",
       "    <tr>\n",
       "        <td>7</td>\n",
       "        <td>AS</td>\n",
       "        <td>American Studies</td>\n",
       "    </tr>\n",
       "    <tr>\n",
       "        <td>8</td>\n",
       "        <td>JA</td>\n",
       "        <td>Japanese</td>\n",
       "    </tr>\n",
       "    <tr>\n",
       "        <td>9</td>\n",
       "        <td>AH</td>\n",
       "        <td>Art History</td>\n",
       "    </tr>\n",
       "    <tr>\n",
       "        <td>10</td>\n",
       "        <td>AE</td>\n",
       "        <td>Applied Ethics</td>\n",
       "    </tr>\n",
       "</table>"
      ],
      "text/plain": [
       "[(1, 'AN', 'Asian Studies'),\n",
       " (2, 'BU', 'Business'),\n",
       " (3, 'BL', 'Black Studies'),\n",
       " (4, 'BEN', 'Bioengineering'),\n",
       " (5, 'AR', 'Arabic'),\n",
       " (6, 'AY', 'Anthropology'),\n",
       " (7, 'AS', 'American Studies'),\n",
       " (8, 'JA', 'Japanese'),\n",
       " (9, 'AH', 'Art History'),\n",
       " (10, 'AE', 'Applied Ethics')]"
      ]
     },
     "execution_count": 24,
     "metadata": {},
     "output_type": "execute_result"
    }
   ],
   "source": [
    "%%sql\n",
    "SELECT * FROM PROGRAMS\n",
    "LIMIT 10;"
   ]
  },
  {
   "cell_type": "markdown",
   "metadata": {},
   "source": [
    "- Show first 20 courses taught by instructor 'Tao' (ordered ascending by year and semester) "
   ]
  },
  {
   "cell_type": "code",
   "execution_count": 25,
   "metadata": {},
   "outputs": [
    {
     "name": "stdout",
     "output_type": "stream",
     "text": [
      " * sqlite:///CourseData.db\n",
      "Done.\n"
     ]
    },
    {
     "data": {
      "text/html": [
       "<table>\n",
       "    <tr>\n",
       "        <th>instructor_fname</th>\n",
       "        <th>instructor_lname</th>\n",
       "        <th>TITLE</th>\n",
       "        <th>CATALOG_ID</th>\n",
       "        <th>SECTION</th>\n",
       "        <th>SEMESTER</th>\n",
       "        <th>YEAR</th>\n",
       "    </tr>\n",
       "    <tr>\n",
       "        <td>Jie</td>\n",
       "        <td> Tao</td>\n",
       "        <td>Intro to Information Systems</td>\n",
       "        <td>IS 0100</td>\n",
       "        <td>C</td>\n",
       "        <td>Fall</td>\n",
       "        <td>2015</td>\n",
       "    </tr>\n",
       "    <tr>\n",
       "        <td>Jie</td>\n",
       "        <td> Tao</td>\n",
       "        <td>Intro to Information Systems</td>\n",
       "        <td>IS 0100</td>\n",
       "        <td>D</td>\n",
       "        <td>Fall</td>\n",
       "        <td>2015</td>\n",
       "    </tr>\n",
       "    <tr>\n",
       "        <td>Jie</td>\n",
       "        <td> Tao</td>\n",
       "        <td>Systems Analysis and Logical Design</td>\n",
       "        <td>IS 0240</td>\n",
       "        <td>A</td>\n",
       "        <td>Fall</td>\n",
       "        <td>2015</td>\n",
       "    </tr>\n",
       "    <tr>\n",
       "        <td>Jie</td>\n",
       "        <td> Tao</td>\n",
       "        <td>Information Systems and Database Management</td>\n",
       "        <td>IS 0500</td>\n",
       "        <td>01</td>\n",
       "        <td>Summer</td>\n",
       "        <td>2015</td>\n",
       "    </tr>\n",
       "    <tr>\n",
       "        <td>Jie</td>\n",
       "        <td> Tao</td>\n",
       "        <td>Introduction to Information Systems</td>\n",
       "        <td>IS 0100</td>\n",
       "        <td>03</td>\n",
       "        <td>Fall</td>\n",
       "        <td>2016</td>\n",
       "    </tr>\n",
       "    <tr>\n",
       "        <td>Jie</td>\n",
       "        <td> Tao</td>\n",
       "        <td>Introduction to Information Systems</td>\n",
       "        <td>IS 0100</td>\n",
       "        <td>04</td>\n",
       "        <td>Fall</td>\n",
       "        <td>2016</td>\n",
       "    </tr>\n",
       "    <tr>\n",
       "        <td>Jie</td>\n",
       "        <td> Tao</td>\n",
       "        <td>Data Mining and Applications</td>\n",
       "        <td>IS 0315</td>\n",
       "        <td>01</td>\n",
       "        <td>Fall</td>\n",
       "        <td>2016</td>\n",
       "    </tr>\n",
       "    <tr>\n",
       "        <td>Jie</td>\n",
       "        <td> Tao</td>\n",
       "        <td>Information Systems and Database Management</td>\n",
       "        <td>IS 0500</td>\n",
       "        <td>01</td>\n",
       "        <td>Fall</td>\n",
       "        <td>2016</td>\n",
       "    </tr>\n",
       "    <tr>\n",
       "        <td>Jie</td>\n",
       "        <td> Tao</td>\n",
       "        <td>Independent Study in Information Systems and Operations Management</td>\n",
       "        <td>IS 0598</td>\n",
       "        <td>JT</td>\n",
       "        <td>Fall</td>\n",
       "        <td>2016</td>\n",
       "    </tr>\n",
       "    <tr>\n",
       "        <td>Jie</td>\n",
       "        <td> Tao</td>\n",
       "        <td>Intro to Information Systems</td>\n",
       "        <td>IS 0100</td>\n",
       "        <td>D</td>\n",
       "        <td>Spring</td>\n",
       "        <td>2016</td>\n",
       "    </tr>\n",
       "    <tr>\n",
       "        <td>Jie</td>\n",
       "        <td> Tao</td>\n",
       "        <td>Data Mining and Business Intelligence</td>\n",
       "        <td>IS 0540</td>\n",
       "        <td>01</td>\n",
       "        <td>Spring</td>\n",
       "        <td>2016</td>\n",
       "    </tr>\n",
       "    <tr>\n",
       "        <td>Jie</td>\n",
       "        <td> Tao</td>\n",
       "        <td>Business Analytics and Big Data Mgmt</td>\n",
       "        <td>IS 0550</td>\n",
       "        <td>01</td>\n",
       "        <td>Spring</td>\n",
       "        <td>2016</td>\n",
       "    </tr>\n",
       "    <tr>\n",
       "        <td>Jie</td>\n",
       "        <td> Tao</td>\n",
       "        <td>Contemporary Topics: Advanced Data Mining Applications</td>\n",
       "        <td>IS 0585B</td>\n",
       "        <td>01</td>\n",
       "        <td>Summer</td>\n",
       "        <td>2016</td>\n",
       "    </tr>\n",
       "    <tr>\n",
       "        <td>Jie</td>\n",
       "        <td> Tao</td>\n",
       "        <td>Independent Study</td>\n",
       "        <td>IS 0399</td>\n",
       "        <td>JT</td>\n",
       "        <td>Spring</td>\n",
       "        <td>2017</td>\n",
       "    </tr>\n",
       "    <tr>\n",
       "        <td>Jie</td>\n",
       "        <td> Tao</td>\n",
       "        <td>Information Systems and Database Management</td>\n",
       "        <td>IS 0500</td>\n",
       "        <td>01</td>\n",
       "        <td>Spring</td>\n",
       "        <td>2017</td>\n",
       "    </tr>\n",
       "    <tr>\n",
       "        <td>Jie</td>\n",
       "        <td> Tao</td>\n",
       "        <td>Data Mining and Business Intelligence</td>\n",
       "        <td>IS 0540</td>\n",
       "        <td>01</td>\n",
       "        <td>Spring</td>\n",
       "        <td>2017</td>\n",
       "    </tr>\n",
       "    <tr>\n",
       "        <td>Jie</td>\n",
       "        <td> Tao</td>\n",
       "        <td>Business Analytics and Big Data Mgmt</td>\n",
       "        <td>IS 0550</td>\n",
       "        <td>01</td>\n",
       "        <td>Spring</td>\n",
       "        <td>2017</td>\n",
       "    </tr>\n",
       "    <tr>\n",
       "        <td>Jie</td>\n",
       "        <td> Tao</td>\n",
       "        <td>Independent Study in Information Systems and Operations Management</td>\n",
       "        <td>IS 0598</td>\n",
       "        <td>JT</td>\n",
       "        <td>Spring</td>\n",
       "        <td>2017</td>\n",
       "    </tr>\n",
       "    <tr>\n",
       "        <td>Jie</td>\n",
       "        <td> Tao</td>\n",
       "        <td>Introduction to Information Systems</td>\n",
       "        <td>IS 0100</td>\n",
       "        <td>02</td>\n",
       "        <td>Fall</td>\n",
       "        <td>2018</td>\n",
       "    </tr>\n",
       "    <tr>\n",
       "        <td>Jie</td>\n",
       "        <td> Tao</td>\n",
       "        <td>Introduction to Information Systems</td>\n",
       "        <td>IS 0100</td>\n",
       "        <td>04</td>\n",
       "        <td>Fall</td>\n",
       "        <td>2018</td>\n",
       "    </tr>\n",
       "</table>"
      ],
      "text/plain": [
       "[('Jie', ' Tao', 'Intro to Information Systems', 'IS 0100', 'C', 'Fall', 2015),\n",
       " ('Jie', ' Tao', 'Intro to Information Systems', 'IS 0100', 'D', 'Fall', 2015),\n",
       " ('Jie', ' Tao', 'Systems Analysis and Logical Design', 'IS 0240', 'A', 'Fall', 2015),\n",
       " ('Jie', ' Tao', 'Information Systems and Database Management', 'IS 0500', '01', 'Summer', 2015),\n",
       " ('Jie', ' Tao', 'Introduction to Information Systems', 'IS 0100', '03', 'Fall', 2016),\n",
       " ('Jie', ' Tao', 'Introduction to Information Systems', 'IS 0100', '04', 'Fall', 2016),\n",
       " ('Jie', ' Tao', 'Data Mining and Applications', 'IS 0315', '01', 'Fall', 2016),\n",
       " ('Jie', ' Tao', 'Information Systems and Database Management', 'IS 0500', '01', 'Fall', 2016),\n",
       " ('Jie', ' Tao', 'Independent Study in Information Systems and Operations Management', 'IS 0598', 'JT', 'Fall', 2016),\n",
       " ('Jie', ' Tao', 'Intro to Information Systems', 'IS 0100', 'D', 'Spring', 2016),\n",
       " ('Jie', ' Tao', 'Data Mining and Business Intelligence', 'IS 0540', '01', 'Spring', 2016),\n",
       " ('Jie', ' Tao', 'Business Analytics and Big Data Mgmt', 'IS 0550', '01', 'Spring', 2016),\n",
       " ('Jie', ' Tao', 'Contemporary Topics: Advanced Data Mining Applications', 'IS 0585B', '01', 'Summer', 2016),\n",
       " ('Jie', ' Tao', 'Independent Study', 'IS 0399', 'JT', 'Spring', 2017),\n",
       " ('Jie', ' Tao', 'Information Systems and Database Management', 'IS 0500', '01', 'Spring', 2017),\n",
       " ('Jie', ' Tao', 'Data Mining and Business Intelligence', 'IS 0540', '01', 'Spring', 2017),\n",
       " ('Jie', ' Tao', 'Business Analytics and Big Data Mgmt', 'IS 0550', '01', 'Spring', 2017),\n",
       " ('Jie', ' Tao', 'Independent Study in Information Systems and Operations Management', 'IS 0598', 'JT', 'Spring', 2017),\n",
       " ('Jie', ' Tao', 'Introduction to Information Systems', 'IS 0100', '02', 'Fall', 2018),\n",
       " ('Jie', ' Tao', 'Introduction to Information Systems', 'IS 0100', '04', 'Fall', 2018)]"
      ]
     },
     "execution_count": 25,
     "metadata": {},
     "output_type": "execute_result"
    }
   ],
   "source": [
    "%%sql\n",
    "SELECT FACULTY.instructor_fname,FACULTY.instructor_lname,Title,Catalog_id,Section,Semester,Year\n",
    "FROM FACULTY\n",
    "    JOIN COURSE_OFFERING USING(FID)\n",
    "WHERE FACULTY.instructor_lname like '%Tao'\n",
    "ORDER BY Year, Semester\n",
    "LIMIT 20;"
   ]
  },
  {
   "cell_type": "code",
   "execution_count": 19,
   "metadata": {},
   "outputs": [
    {
     "data": {
      "text/markdown": [
       "---"
      ],
      "text/plain": [
       "<IPython.core.display.Markdown object>"
      ]
     },
     "metadata": {},
     "output_type": "display_data"
    },
    {
     "data": {
      "text/markdown": [
       "### <p style=\"text-align: center;\"><span style=\"background-color: #333333; color: #ffffff;\">Instructor Lookup</span></p>"
      ],
      "text/plain": [
       "<IPython.core.display.Markdown object>"
      ]
     },
     "metadata": {},
     "output_type": "display_data"
    },
    {
     "data": {
      "text/markdown": [
       "**Enter the instructor's last name**"
      ],
      "text/plain": [
       "<IPython.core.display.Markdown object>"
      ]
     },
     "metadata": {},
     "output_type": "display_data"
    },
    {
     "name": "stdin",
     "output_type": "stream",
     "text": [
      " tao\n"
     ]
    },
    {
     "data": {
      "text/markdown": [
       "**Enter the year you wish to see or type in No to see all the years:**"
      ],
      "text/plain": [
       "<IPython.core.display.Markdown object>"
      ]
     },
     "metadata": {},
     "output_type": "display_data"
    },
    {
     "name": "stdin",
     "output_type": "stream",
     "text": [
      " 2018\n"
     ]
    },
    {
     "data": {
      "text/markdown": [
       "**Enter the semester you wish to see or type in No to see all the courses that the instructor is teaching in 2018 :**"
      ],
      "text/plain": [
       "<IPython.core.display.Markdown object>"
      ]
     },
     "metadata": {},
     "output_type": "display_data"
    },
    {
     "name": "stdin",
     "output_type": "stream",
     "text": [
      " fall\n"
     ]
    },
    {
     "data": {
      "text/html": [
       "<div>\n",
       "<style scoped>\n",
       "    .dataframe tbody tr th:only-of-type {\n",
       "        vertical-align: middle;\n",
       "    }\n",
       "\n",
       "    .dataframe tbody tr th {\n",
       "        vertical-align: top;\n",
       "    }\n",
       "\n",
       "    .dataframe thead th {\n",
       "        text-align: right;\n",
       "    }\n",
       "</style>\n",
       "<table border=\"1\" class=\"dataframe\">\n",
       "  <thead>\n",
       "    <tr style=\"text-align: right;\">\n",
       "      <th></th>\n",
       "      <th>instructor_fname</th>\n",
       "      <th>instructor_lname</th>\n",
       "      <th>TITLE</th>\n",
       "      <th>CATALOG_ID</th>\n",
       "      <th>SECTION</th>\n",
       "      <th>SEMESTER</th>\n",
       "      <th>YEAR</th>\n",
       "    </tr>\n",
       "  </thead>\n",
       "  <tbody>\n",
       "    <tr>\n",
       "      <th>0</th>\n",
       "      <td>Jie</td>\n",
       "      <td>Tao</td>\n",
       "      <td>Introduction to Information Systems</td>\n",
       "      <td>IS 0100</td>\n",
       "      <td>02</td>\n",
       "      <td>Fall</td>\n",
       "      <td>2018</td>\n",
       "    </tr>\n",
       "    <tr>\n",
       "      <th>1</th>\n",
       "      <td>Jie</td>\n",
       "      <td>Tao</td>\n",
       "      <td>Introduction to Information Systems</td>\n",
       "      <td>IS 0100</td>\n",
       "      <td>04</td>\n",
       "      <td>Fall</td>\n",
       "      <td>2018</td>\n",
       "    </tr>\n",
       "    <tr>\n",
       "      <th>2</th>\n",
       "      <td>Jie</td>\n",
       "      <td>Tao</td>\n",
       "      <td>Introduction to Information Systems</td>\n",
       "      <td>IS 0100</td>\n",
       "      <td>05</td>\n",
       "      <td>Fall</td>\n",
       "      <td>2018</td>\n",
       "    </tr>\n",
       "    <tr>\n",
       "      <th>3</th>\n",
       "      <td>Jie</td>\n",
       "      <td>Tao</td>\n",
       "      <td>Business Analytics and Big Data Management</td>\n",
       "      <td>IS 0550</td>\n",
       "      <td>JT</td>\n",
       "      <td>Fall</td>\n",
       "      <td>2018</td>\n",
       "    </tr>\n",
       "  </tbody>\n",
       "</table>\n",
       "</div>"
      ],
      "text/plain": [
       "  instructor_fname instructor_lname  \\\n",
       "0              Jie              Tao   \n",
       "1              Jie              Tao   \n",
       "2              Jie              Tao   \n",
       "3              Jie              Tao   \n",
       "\n",
       "                                        TITLE CATALOG_ID SECTION SEMESTER  \\\n",
       "0         Introduction to Information Systems    IS 0100      02     Fall   \n",
       "1         Introduction to Information Systems    IS 0100      04     Fall   \n",
       "2         Introduction to Information Systems    IS 0100      05     Fall   \n",
       "3  Business Analytics and Big Data Management    IS 0550      JT     Fall   \n",
       "\n",
       "   YEAR  \n",
       "0  2018  \n",
       "1  2018  \n",
       "2  2018  \n",
       "3  2018  "
      ]
     },
     "metadata": {},
     "output_type": "display_data"
    }
   ],
   "source": [
    "display(Markdown(\"---\"))\n",
    "display(Markdown('### <p style=\"text-align: center;\"><span style=\"background-color: #333333; color: #ffffff;\">Instructor Lookup</span></p>'))\n",
    "#display(Markdown(\"---\"))\n",
    "\n",
    "input_instructor = display(Markdown(\"**Enter the instructor's last name**\"))\n",
    "input_instructor = input()\n",
    "input_year =display(Markdown(\"**Enter the year you wish to see or type in No to see all the years:**\"))\n",
    "input_year = input().lower()\n",
    "try:\n",
    "    if input_year == \"no\" or  input_year == \"n\" or  input_year == \"nah\" :\n",
    "    \n",
    "        query = '''SELECT FACULTY.instructor_fname,FACULTY.instructor_lname,Title,Catalog_id,Section,Semester,Year\n",
    "        FROM FACULTY\n",
    "            JOIN COURSE_OFFERING USING(FID)\n",
    "        WHERE FACULTY.instructor_lname like '%{}'\n",
    "        ORDER BY Year, Semester\n",
    "        LIMIT 20'''.format(input_instructor)\n",
    "        tables = pd.read_sql_query(query,engine)\n",
    "        display(tables  )\n",
    "\n",
    "    else :\n",
    "        input_semester = display(Markdown(\"**Enter the semester you wish to see or type in No to see all the courses that the instructor is teaching in {0} :**\".format(input_year)))\n",
    "        input_semester = input().lower()\n",
    "\n",
    "        if input_semester == \"no\" or  input_semester == \"n\" or  input_semester == \"nah\" :\n",
    "            query = '''SELECT FACULTY.instructor_fname,FACULTY.instructor_lname,Title,Catalog_id,Section,Semester,Year\n",
    "        FROM FACULTY\n",
    "        JOIN COURSE_OFFERING USING(FID)\n",
    "        WHERE FACULTY.instructor_lname like '%{0}' and year = {1}\n",
    "        ORDER BY Year, Semester\n",
    "        LIMIT 20'''.format(input_instructor , input_year )\n",
    "            tables = pd.read_sql_query(query,engine)\n",
    "            display(tables  )\n",
    "        else:\n",
    "            query = '''SELECT FACULTY.instructor_fname,FACULTY.instructor_lname,Title,Catalog_id,Section,Semester,Year\n",
    "        FROM FACULTY\n",
    "        JOIN COURSE_OFFERING USING(FID)\n",
    "        WHERE FACULTY.instructor_lname like '%{0}' \n",
    "        AND year = {1}\n",
    "        AND SEMESTER == '{2}'\n",
    "        ORDER BY Year, Semester\n",
    "        LIMIT 20'''.format(input_instructor ,\n",
    "                           input_year , \n",
    "                           input_semester.capitalize() )\n",
    "            tables = pd.read_sql_query(query,engine)\n",
    "            display(tables  )\n",
    "except:\n",
    "    display(Markdown(\"**You have entered a wrong value**\"))\n",
    "    \n",
    "  "
   ]
  },
  {
   "cell_type": "code",
   "execution_count": 26,
   "metadata": {},
   "outputs": [
    {
     "name": "stdout",
     "output_type": "stream",
     "text": [
      " * sqlite:///CourseData.db\n",
      "Done.\n"
     ]
    },
    {
     "data": {
      "text/html": [
       "<table>\n",
       "    <tr>\n",
       "        <th>COID</th>\n",
       "        <th>CMID</th>\n",
       "        <th>START</th>\n",
       "        <th>YEAR</th>\n",
       "        <th>SEMESTER</th>\n",
       "        <th>CRN</th>\n",
       "    </tr>\n",
       "    <tr>\n",
       "        <td>13345</td>\n",
       "        <td>3140</td>\n",
       "        <td>2019-01-29T18:30:00</td>\n",
       "        <td>2019</td>\n",
       "        <td>Spring</td>\n",
       "        <td>39006</td>\n",
       "    </tr>\n",
       "    <tr>\n",
       "        <td>13345</td>\n",
       "        <td>3141</td>\n",
       "        <td>2019-02-05T18:30:00</td>\n",
       "        <td>2019</td>\n",
       "        <td>Spring</td>\n",
       "        <td>39006</td>\n",
       "    </tr>\n",
       "    <tr>\n",
       "        <td>13345</td>\n",
       "        <td>3142</td>\n",
       "        <td>2019-02-12T18:30:00</td>\n",
       "        <td>2019</td>\n",
       "        <td>Spring</td>\n",
       "        <td>39006</td>\n",
       "    </tr>\n",
       "    <tr>\n",
       "        <td>13345</td>\n",
       "        <td>3143</td>\n",
       "        <td>2019-02-26T18:30:00</td>\n",
       "        <td>2019</td>\n",
       "        <td>Spring</td>\n",
       "        <td>39006</td>\n",
       "    </tr>\n",
       "    <tr>\n",
       "        <td>13345</td>\n",
       "        <td>3144</td>\n",
       "        <td>2019-03-05T18:30:00</td>\n",
       "        <td>2019</td>\n",
       "        <td>Spring</td>\n",
       "        <td>39006</td>\n",
       "    </tr>\n",
       "    <tr>\n",
       "        <td>13345</td>\n",
       "        <td>3145</td>\n",
       "        <td>2019-03-12T18:30:00</td>\n",
       "        <td>2019</td>\n",
       "        <td>Spring</td>\n",
       "        <td>39006</td>\n",
       "    </tr>\n",
       "    <tr>\n",
       "        <td>13345</td>\n",
       "        <td>30636</td>\n",
       "        <td>2019-02-02T09:00:00</td>\n",
       "        <td>2019</td>\n",
       "        <td>Spring</td>\n",
       "        <td>39006</td>\n",
       "    </tr>\n",
       "    <tr>\n",
       "        <td>13345</td>\n",
       "        <td>30637</td>\n",
       "        <td>2019-02-16T09:00:00</td>\n",
       "        <td>2019</td>\n",
       "        <td>Spring</td>\n",
       "        <td>39006</td>\n",
       "    </tr>\n",
       "    <tr>\n",
       "        <td>13345</td>\n",
       "        <td>30638</td>\n",
       "        <td>2019-03-09T09:00:00</td>\n",
       "        <td>2019</td>\n",
       "        <td>Spring</td>\n",
       "        <td>39006</td>\n",
       "    </tr>\n",
       "</table>"
      ],
      "text/plain": [
       "[(13345, 3140, '2019-01-29T18:30:00', 2019, 'Spring', '39006'),\n",
       " (13345, 3141, '2019-02-05T18:30:00', 2019, 'Spring', '39006'),\n",
       " (13345, 3142, '2019-02-12T18:30:00', 2019, 'Spring', '39006'),\n",
       " (13345, 3143, '2019-02-26T18:30:00', 2019, 'Spring', '39006'),\n",
       " (13345, 3144, '2019-03-05T18:30:00', 2019, 'Spring', '39006'),\n",
       " (13345, 3145, '2019-03-12T18:30:00', 2019, 'Spring', '39006'),\n",
       " (13345, 30636, '2019-02-02T09:00:00', 2019, 'Spring', '39006'),\n",
       " (13345, 30637, '2019-02-16T09:00:00', 2019, 'Spring', '39006'),\n",
       " (13345, 30638, '2019-03-09T09:00:00', 2019, 'Spring', '39006')]"
      ]
     },
     "execution_count": 26,
     "metadata": {},
     "output_type": "execute_result"
    }
   ],
   "source": [
    "%%sql\n",
    "SELECT COID, CMID, START, CLASS_MEETINGS.year, CLASS_MEETINGS.SEMESTER , CLASS_MEETINGS.CRN\n",
    "FROM COURSE_OFFERING\n",
    "    JOIN CLASS_MEETINGS USING (COID)\n",
    "where CLASS_MEETINGS.YEAR = 2019 and CLASS_MEETINGS.SEMESTER == \"Spring\" and CLASS_MEETINGS.CRN = 39006\n",
    "LIMIT 10;"
   ]
  },
  {
   "cell_type": "markdown",
   "metadata": {},
   "source": [
    "- <b> Check if course offering ID (COID) is unique </b> (has a count of 1)\n",
    "<br> For example in 2019, for the 'Spring' Semester for course registration number (CRN): '39006'"
   ]
  },
  {
   "cell_type": "code",
   "execution_count": 27,
   "metadata": {},
   "outputs": [
    {
     "name": "stdout",
     "output_type": "stream",
     "text": [
      " * sqlite:///CourseData.db\n",
      "Done.\n"
     ]
    },
    {
     "data": {
      "text/html": [
       "<table>\n",
       "    <tr>\n",
       "        <th>YEAR</th>\n",
       "        <th>SEMESTER</th>\n",
       "        <th>COUNT(COID)</th>\n",
       "    </tr>\n",
       "    <tr>\n",
       "        <td>2019</td>\n",
       "        <td>Spring</td>\n",
       "        <td>1</td>\n",
       "    </tr>\n",
       "    <tr>\n",
       "        <td>2019</td>\n",
       "        <td>Spring</td>\n",
       "        <td>1</td>\n",
       "    </tr>\n",
       "    <tr>\n",
       "        <td>2019</td>\n",
       "        <td>Spring</td>\n",
       "        <td>1</td>\n",
       "    </tr>\n",
       "    <tr>\n",
       "        <td>2019</td>\n",
       "        <td>Spring</td>\n",
       "        <td>1</td>\n",
       "    </tr>\n",
       "    <tr>\n",
       "        <td>2019</td>\n",
       "        <td>Spring</td>\n",
       "        <td>1</td>\n",
       "    </tr>\n",
       "    <tr>\n",
       "        <td>2019</td>\n",
       "        <td>Spring</td>\n",
       "        <td>1</td>\n",
       "    </tr>\n",
       "    <tr>\n",
       "        <td>2019</td>\n",
       "        <td>Spring</td>\n",
       "        <td>1</td>\n",
       "    </tr>\n",
       "    <tr>\n",
       "        <td>2019</td>\n",
       "        <td>Spring</td>\n",
       "        <td>1</td>\n",
       "    </tr>\n",
       "    <tr>\n",
       "        <td>2019</td>\n",
       "        <td>Spring</td>\n",
       "        <td>1</td>\n",
       "    </tr>\n",
       "</table>"
      ],
      "text/plain": [
       "[(2019, 'Spring', 1),\n",
       " (2019, 'Spring', 1),\n",
       " (2019, 'Spring', 1),\n",
       " (2019, 'Spring', 1),\n",
       " (2019, 'Spring', 1),\n",
       " (2019, 'Spring', 1),\n",
       " (2019, 'Spring', 1),\n",
       " (2019, 'Spring', 1),\n",
       " (2019, 'Spring', 1)]"
      ]
     },
     "execution_count": 27,
     "metadata": {},
     "output_type": "execute_result"
    }
   ],
   "source": [
    "%%sql\n",
    "SELECT CLASS_MEETINGS.YEAR ,CLASS_MEETINGS.SEMESTER,COUNT(COID) \n",
    "FROM COURSE_OFFERING JOIN CLASS_MEETINGS USING (COID)\n",
    "where CLASS_MEETINGS.YEAR = 2019 and CLASS_MEETINGS.SEMESTER == \"Spring\" and CLASS_MEETINGS.CRN = 39006\n",
    "GROUP BY CMID"
   ]
  },
  {
   "cell_type": "code",
   "execution_count": 28,
   "metadata": {},
   "outputs": [
    {
     "name": "stdout",
     "output_type": "stream",
     "text": [
      " * sqlite:///CourseData.db\n",
      "Done.\n"
     ]
    },
    {
     "data": {
      "text/html": [
       "<table>\n",
       "    <tr>\n",
       "        <th>catalog_ID</th>\n",
       "        <th>program_code</th>\n",
       "        <th>program_name</th>\n",
       "    </tr>\n",
       "    <tr>\n",
       "        <td>AN 0301</td>\n",
       "        <td>AN</td>\n",
       "        <td>Asian Studies</td>\n",
       "    </tr>\n",
       "    <tr>\n",
       "        <td>AN 0310</td>\n",
       "        <td>AN</td>\n",
       "        <td>Asian Studies</td>\n",
       "    </tr>\n",
       "    <tr>\n",
       "        <td>BU 0211</td>\n",
       "        <td>BU</td>\n",
       "        <td>Business</td>\n",
       "    </tr>\n",
       "    <tr>\n",
       "        <td>BU 0220</td>\n",
       "        <td>BU</td>\n",
       "        <td>Business</td>\n",
       "    </tr>\n",
       "    <tr>\n",
       "        <td>BU 0311</td>\n",
       "        <td>BU</td>\n",
       "        <td>Business</td>\n",
       "    </tr>\n",
       "</table>"
      ],
      "text/plain": [
       "[('AN 0301', 'AN', 'Asian Studies'),\n",
       " ('AN 0310', 'AN', 'Asian Studies'),\n",
       " ('BU 0211', 'BU', 'Business'),\n",
       " ('BU 0220', 'BU', 'Business'),\n",
       " ('BU 0311', 'BU', 'Business')]"
      ]
     },
     "execution_count": 28,
     "metadata": {},
     "output_type": "execute_result"
    }
   ],
   "source": [
    "%%sql\n",
    "SELECT catalog_ID,program_code,program_name\n",
    "FROM COURSE\n",
    "    JOIN PROGRAMS USING (PID)\n",
    "LIMIT 5;"
   ]
  },
  {
   "cell_type": "code",
   "execution_count": 29,
   "metadata": {},
   "outputs": [
    {
     "name": "stdout",
     "output_type": "stream",
     "text": [
      " * sqlite:///CourseData.db\n",
      "Done.\n"
     ]
    },
    {
     "data": {
      "text/html": [
       "<table>\n",
       "    <tr>\n",
       "        <th>CRN</th>\n",
       "        <th>DAY</th>\n",
       "        <th>START</th>\n",
       "        <th>END</th>\n",
       "        <th>CATALOG_ID</th>\n",
       "        <th>SECTION</th>\n",
       "        <th>MEETINGS</th>\n",
       "        <th>BuildingName</th>\n",
       "        <th>Room</th>\n",
       "    </tr>\n",
       "    <tr>\n",
       "        <td>70384</td>\n",
       "        <td>T</td>\n",
       "        <td>2014-09-02T08:00:00</td>\n",
       "        <td>2014-09-02T09:15:00</td>\n",
       "        <td>AC 0011</td>\n",
       "        <td>C01</td>\n",
       "        <td>[{&#x27;days&#x27;: &#x27;TF&#x27;, &#x27;times&#x27;: &#x27;0800am-0915am&#x27;, &#x27;dates&#x27;: &#x27;09/02-12/08&#x27;, &#x27;location&#x27;: &#x27;DSB 105&#x27;}]</td>\n",
       "        <td>Dolan School of Business</td>\n",
       "        <td>DSB 105</td>\n",
       "    </tr>\n",
       "    <tr>\n",
       "        <td>70384</td>\n",
       "        <td>F</td>\n",
       "        <td>2014-09-05T08:00:00</td>\n",
       "        <td>2014-09-05T09:15:00</td>\n",
       "        <td>AC 0011</td>\n",
       "        <td>C01</td>\n",
       "        <td>[{&#x27;days&#x27;: &#x27;TF&#x27;, &#x27;times&#x27;: &#x27;0800am-0915am&#x27;, &#x27;dates&#x27;: &#x27;09/02-12/08&#x27;, &#x27;location&#x27;: &#x27;DSB 105&#x27;}]</td>\n",
       "        <td>Dolan School of Business</td>\n",
       "        <td>DSB 105</td>\n",
       "    </tr>\n",
       "    <tr>\n",
       "        <td>70384</td>\n",
       "        <td>T</td>\n",
       "        <td>2014-09-09T08:00:00</td>\n",
       "        <td>2014-09-09T09:15:00</td>\n",
       "        <td>AC 0011</td>\n",
       "        <td>C01</td>\n",
       "        <td>[{&#x27;days&#x27;: &#x27;TF&#x27;, &#x27;times&#x27;: &#x27;0800am-0915am&#x27;, &#x27;dates&#x27;: &#x27;09/02-12/08&#x27;, &#x27;location&#x27;: &#x27;DSB 105&#x27;}]</td>\n",
       "        <td>Dolan School of Business</td>\n",
       "        <td>DSB 105</td>\n",
       "    </tr>\n",
       "    <tr>\n",
       "        <td>70384</td>\n",
       "        <td>F</td>\n",
       "        <td>2014-09-12T08:00:00</td>\n",
       "        <td>2014-09-12T09:15:00</td>\n",
       "        <td>AC 0011</td>\n",
       "        <td>C01</td>\n",
       "        <td>[{&#x27;days&#x27;: &#x27;TF&#x27;, &#x27;times&#x27;: &#x27;0800am-0915am&#x27;, &#x27;dates&#x27;: &#x27;09/02-12/08&#x27;, &#x27;location&#x27;: &#x27;DSB 105&#x27;}]</td>\n",
       "        <td>Dolan School of Business</td>\n",
       "        <td>DSB 105</td>\n",
       "    </tr>\n",
       "    <tr>\n",
       "        <td>70384</td>\n",
       "        <td>T</td>\n",
       "        <td>2014-09-16T08:00:00</td>\n",
       "        <td>2014-09-16T09:15:00</td>\n",
       "        <td>AC 0011</td>\n",
       "        <td>C01</td>\n",
       "        <td>[{&#x27;days&#x27;: &#x27;TF&#x27;, &#x27;times&#x27;: &#x27;0800am-0915am&#x27;, &#x27;dates&#x27;: &#x27;09/02-12/08&#x27;, &#x27;location&#x27;: &#x27;DSB 105&#x27;}]</td>\n",
       "        <td>Dolan School of Business</td>\n",
       "        <td>DSB 105</td>\n",
       "    </tr>\n",
       "</table>"
      ],
      "text/plain": [
       "[('70384', 'T', '2014-09-02T08:00:00', '2014-09-02T09:15:00', 'AC 0011', 'C01', \"[{'days': 'TF', 'times': '0800am-0915am', 'dates': '09/02-12/08', 'location': 'DSB 105'}]\", 'Dolan School of Business', 'DSB 105'),\n",
       " ('70384', 'F', '2014-09-05T08:00:00', '2014-09-05T09:15:00', 'AC 0011', 'C01', \"[{'days': 'TF', 'times': '0800am-0915am', 'dates': '09/02-12/08', 'location': 'DSB 105'}]\", 'Dolan School of Business', 'DSB 105'),\n",
       " ('70384', 'T', '2014-09-09T08:00:00', '2014-09-09T09:15:00', 'AC 0011', 'C01', \"[{'days': 'TF', 'times': '0800am-0915am', 'dates': '09/02-12/08', 'location': 'DSB 105'}]\", 'Dolan School of Business', 'DSB 105'),\n",
       " ('70384', 'F', '2014-09-12T08:00:00', '2014-09-12T09:15:00', 'AC 0011', 'C01', \"[{'days': 'TF', 'times': '0800am-0915am', 'dates': '09/02-12/08', 'location': 'DSB 105'}]\", 'Dolan School of Business', 'DSB 105'),\n",
       " ('70384', 'T', '2014-09-16T08:00:00', '2014-09-16T09:15:00', 'AC 0011', 'C01', \"[{'days': 'TF', 'times': '0800am-0915am', 'dates': '09/02-12/08', 'location': 'DSB 105'}]\", 'Dolan School of Business', 'DSB 105')]"
      ]
     },
     "execution_count": 29,
     "metadata": {},
     "output_type": "execute_result"
    }
   ],
   "source": [
    "%%sql\n",
    "SELECT CLASS_MEETINGS.CRN,Day,Start,End,Catalog_id,Section,Meetings ,BuildingName ,Location as Room\n",
    "FROM CLASS_MEETINGS\n",
    "    JOIN COURSE_OFFERING USING (COID)\n",
    "    JOIN LOCATION USING (LID)\n",
    "LIMIT 5;"
   ]
  },
  {
   "cell_type": "code",
   "execution_count": 27,
   "metadata": {},
   "outputs": [
    {
     "name": "stdout",
     "output_type": "stream",
     "text": [
      "------------------------------------------------------------\n",
      "------------------------------------------------------------\n",
      "              tables shape : (5, 3)\n",
      "------------------------------------------------------------\n",
      "------------------------------------------------------------\n"
     ]
    },
    {
     "data": {
      "text/html": [
       "<div>\n",
       "<style scoped>\n",
       "    .dataframe tbody tr th:only-of-type {\n",
       "        vertical-align: middle;\n",
       "    }\n",
       "\n",
       "    .dataframe tbody tr th {\n",
       "        vertical-align: top;\n",
       "    }\n",
       "\n",
       "    .dataframe thead th {\n",
       "        text-align: right;\n",
       "    }\n",
       "</style>\n",
       "<table border=\"1\" class=\"dataframe\">\n",
       "  <thead>\n",
       "    <tr style=\"text-align: right;\">\n",
       "      <th></th>\n",
       "      <th>PID</th>\n",
       "      <th>program_code</th>\n",
       "      <th>program_name</th>\n",
       "    </tr>\n",
       "  </thead>\n",
       "  <tbody>\n",
       "    <tr>\n",
       "      <th>0</th>\n",
       "      <td>1</td>\n",
       "      <td>AN</td>\n",
       "      <td>Asian Studies</td>\n",
       "    </tr>\n",
       "    <tr>\n",
       "      <th>1</th>\n",
       "      <td>2</td>\n",
       "      <td>BU</td>\n",
       "      <td>Business</td>\n",
       "    </tr>\n",
       "  </tbody>\n",
       "</table>\n",
       "</div>"
      ],
      "text/plain": [
       "   PID program_code   program_name\n",
       "0  1    AN           Asian Studies\n",
       "1  2    BU           Business     "
      ]
     },
     "metadata": {},
     "output_type": "display_data"
    },
    {
     "name": "stdout",
     "output_type": "stream",
     "text": [
      "------------------------------------------------------------\n",
      "------------------------------------------------------------\n",
      "               tables_all shape:  (83, 3)\n",
      "------------------------------------------------------------\n",
      "------------------------------------------------------------\n"
     ]
    },
    {
     "data": {
      "text/html": [
       "<div>\n",
       "<style scoped>\n",
       "    .dataframe tbody tr th:only-of-type {\n",
       "        vertical-align: middle;\n",
       "    }\n",
       "\n",
       "    .dataframe tbody tr th {\n",
       "        vertical-align: top;\n",
       "    }\n",
       "\n",
       "    .dataframe thead th {\n",
       "        text-align: right;\n",
       "    }\n",
       "</style>\n",
       "<table border=\"1\" class=\"dataframe\">\n",
       "  <thead>\n",
       "    <tr style=\"text-align: right;\">\n",
       "      <th></th>\n",
       "      <th>PID</th>\n",
       "      <th>program_code</th>\n",
       "      <th>program_name</th>\n",
       "    </tr>\n",
       "  </thead>\n",
       "  <tbody>\n",
       "    <tr>\n",
       "      <th>0</th>\n",
       "      <td>1</td>\n",
       "      <td>AN</td>\n",
       "      <td>Asian Studies</td>\n",
       "    </tr>\n",
       "    <tr>\n",
       "      <th>1</th>\n",
       "      <td>2</td>\n",
       "      <td>BU</td>\n",
       "      <td>Business</td>\n",
       "    </tr>\n",
       "  </tbody>\n",
       "</table>\n",
       "</div>"
      ],
      "text/plain": [
       "   PID program_code   program_name\n",
       "0  1    AN           Asian Studies\n",
       "1  2    BU           Business     "
      ]
     },
     "execution_count": 27,
     "metadata": {},
     "output_type": "execute_result"
    }
   ],
   "source": [
    "engine = create_engine(\"sqlite:///CourseData.db\")\n",
    "\n",
    "#pick a table to load into a df\n",
    "table = 'PROGRAMS'\n",
    "#load the table into a df  and give a condition( where, join)\n",
    "query = '''SELECT * FROM {} LIMIT 5'''.format(table)\n",
    "tables = pd.read_sql_query(query,engine)\n",
    "print(\"------------------------------------------------------------\")\n",
    "print(\"------------------------------------------------------------\")\n",
    "print(\"              tables shape :\",tables.shape)\n",
    "print(\"------------------------------------------------------------\")\n",
    "print(\"------------------------------------------------------------\")\n",
    "display(tables.head(2))\n",
    "#load the whole table into a df\n",
    "tables_all = pd.read_sql_table (table ,engine)\n",
    "print(\"------------------------------------------------------------\")\n",
    "print(\"------------------------------------------------------------\")\n",
    "print(\"               tables_all shape: \",tables_all.shape)\n",
    "print(\"------------------------------------------------------------\")\n",
    "print(\"------------------------------------------------------------\")\n",
    "tables_all.head(2)"
   ]
  },
  {
   "cell_type": "markdown",
   "metadata": {},
   "source": [
    "- <b> Show the Tables with corresponding columns, datatypes, constraints and primary key"
   ]
  },
  {
   "cell_type": "code",
   "execution_count": 28,
   "metadata": {},
   "outputs": [
    {
     "data": {
      "text/html": [
       "<div>\n",
       "<style scoped>\n",
       "    .dataframe tbody tr th:only-of-type {\n",
       "        vertical-align: middle;\n",
       "    }\n",
       "\n",
       "    .dataframe tbody tr th {\n",
       "        vertical-align: top;\n",
       "    }\n",
       "\n",
       "    .dataframe thead th {\n",
       "        text-align: right;\n",
       "    }\n",
       "</style>\n",
       "<table border=\"1\" class=\"dataframe\">\n",
       "  <thead>\n",
       "    <tr style=\"text-align: right;\">\n",
       "      <th></th>\n",
       "      <th>type</th>\n",
       "      <th>DatabaseTables</th>\n",
       "      <th>tbl_name</th>\n",
       "      <th>rootpage</th>\n",
       "      <th>sql</th>\n",
       "    </tr>\n",
       "  </thead>\n",
       "  <tbody>\n",
       "    <tr>\n",
       "      <th>0</th>\n",
       "      <td>table</td>\n",
       "      <td>PROGRAMS</td>\n",
       "      <td>PROGRAMS</td>\n",
       "      <td>2</td>\n",
       "      <td>CREATE TABLE PROGRAMS ( \\n    [PID] INTEGER PRIMARY KEY,\\n    [program_code] TEXT NOT NULL,\\n    [program_name] TEXT NOT NULL)</td>\n",
       "    </tr>\n",
       "    <tr>\n",
       "      <th>1</th>\n",
       "      <td>table</td>\n",
       "      <td>FACULTY</td>\n",
       "      <td>FACULTY</td>\n",
       "      <td>3</td>\n",
       "      <td>CREATE TABLE FACULTY ( \\n    [FID] INTEGER PRIMARY KEY,\\n    [instructor_fname] TEXT NOT NULL,\\n    [instructor_lname] TEXT NOT NULL)</td>\n",
       "    </tr>\n",
       "    <tr>\n",
       "      <th>2</th>\n",
       "      <td>table</td>\n",
       "      <td>LOCATION</td>\n",
       "      <td>LOCATION</td>\n",
       "      <td>4</td>\n",
       "      <td>CREATE TABLE LOCATION ( \\n    [LID] INTEGER PRIMARY KEY,\\n    [BuildingName] TEXT,\\n    [BuildingCode] TEXT,\\n    [location] TEXT)</td>\n",
       "    </tr>\n",
       "    <tr>\n",
       "      <th>3</th>\n",
       "      <td>table</td>\n",
       "      <td>COURSE</td>\n",
       "      <td>COURSE</td>\n",
       "      <td>5</td>\n",
       "      <td>CREATE TABLE COURSE ( \\n    [CID] INTEGER PRIMARY KEY,\\n    [PID] INTEGER NOT NULL,\\n    [CatalogYear] TEXT NOT NULL,\\n    [catalog_ID] TEXT NOT NULL,\\n    [course_title] TEXT NOT NULL,\\n    [credits] TEXT NOT NULL,\\n    [prereqs] TEXT,\\n    [coreqs] TEXT,\\n    [fees] text,\\n    [attributes] TEXT,\\n    [description] TEXT,\\n    FOREIGN KEY (PID) REFERENCES PROGRAMS (PID)\\n)</td>\n",
       "    </tr>\n",
       "    <tr>\n",
       "      <th>4</th>\n",
       "      <td>table</td>\n",
       "      <td>COURSE_OFFERING</td>\n",
       "      <td>COURSE_OFFERING</td>\n",
       "      <td>6</td>\n",
       "      <td>CREATE TABLE COURSE_OFFERING ( \\n    [COID] INTEGER PRIMARY KEY,\\n    [CID] INTEGER,\\n    [FID] INTEGER NOT NULL,\\n    [CRN] TEXT NOT NULL,\\n    [SEMESTER] TEXT NOT NULL,\\n    [YEAR] INTEGER NOT NULL,\\n    [TITLE] TEXT NOT NULL,\\n    [CATALOG_ID] TEXT,\\n    [CatalogYear] TEXT,\\n    [MEETINGS] TEXT,\\n    [TIMECODES] TEXT,\\n    [SECTION] TEXT NOT NULL,\\n    [CAP] INTEGER NOT NULL,\\n    [ACT] INTEGER NOT NULL,\\n    [REM] INTEGER NOT NULL,\\n    [instructor_lname] TEXT,\\n    [instructor_fname] TEXT,\\n    FOREIGN KEY (CID) REFERENCES COURSE (CID)\\n    FOREIGN KEY (FID) REFERENCES FACULTY (FID)\\n)</td>\n",
       "    </tr>\n",
       "    <tr>\n",
       "      <th>5</th>\n",
       "      <td>table</td>\n",
       "      <td>CLASS_MEETINGS</td>\n",
       "      <td>CLASS_MEETINGS</td>\n",
       "      <td>7</td>\n",
       "      <td>CREATE TABLE CLASS_MEETINGS ( \\n    [CMID] INTEGER PRIMARY KEY,\\n    [COID] INTEGER,\\n    [LID] INTEGER,\\n    [DAY] TEXT,\\n    [START] TEXT,\\n    [END] TEXT,\\n    [CRN] TEXT,\\n    [SEMESTER] TEXT NOT NULL,\\n    [YEAR] INTEGER NOT NULL,\\n    FOREIGN KEY (LID) REFERENCES LOCATION (LID)\\n    FOREIGN KEY (COID) REFERENCES COURSE_OFFERING (COID)\\n)</td>\n",
       "    </tr>\n",
       "    <tr>\n",
       "      <th>6</th>\n",
       "      <td>table</td>\n",
       "      <td>CATALOG_YEAR</td>\n",
       "      <td>CATALOG_YEAR</td>\n",
       "      <td>8</td>\n",
       "      <td>CREATE TABLE CATALOG_YEAR (\\n    [CatalogYear] TEXT,\\n    [YEAR] INTERGER ,\\n    [SEMESTER] TEXT\\n)</td>\n",
       "    </tr>\n",
       "  </tbody>\n",
       "</table>\n",
       "</div>"
      ],
      "text/plain": [
       "    type   DatabaseTables         tbl_name  rootpage  \\\n",
       "0  table  PROGRAMS         PROGRAMS         2          \n",
       "1  table  FACULTY          FACULTY          3          \n",
       "2  table  LOCATION         LOCATION         4          \n",
       "3  table  COURSE           COURSE           5          \n",
       "4  table  COURSE_OFFERING  COURSE_OFFERING  6          \n",
       "5  table  CLASS_MEETINGS   CLASS_MEETINGS   7          \n",
       "6  table  CATALOG_YEAR     CATALOG_YEAR     8          \n",
       "\n",
       "                                                                                                                                                                                                                                                                                                                                                                                                                                                                                                                                                                                                                     sql  \n",
       "0  CREATE TABLE PROGRAMS ( \\n    [PID] INTEGER PRIMARY KEY,\\n    [program_code] TEXT NOT NULL,\\n    [program_name] TEXT NOT NULL)                                                                                                                                                                                                                                                                                                                                                                                                                                                                                         \n",
       "1  CREATE TABLE FACULTY ( \\n    [FID] INTEGER PRIMARY KEY,\\n    [instructor_fname] TEXT NOT NULL,\\n    [instructor_lname] TEXT NOT NULL)                                                                                                                                                                                                                                                                                                                                                                                                                                                                                  \n",
       "2  CREATE TABLE LOCATION ( \\n    [LID] INTEGER PRIMARY KEY,\\n    [BuildingName] TEXT,\\n    [BuildingCode] TEXT,\\n    [location] TEXT)                                                                                                                                                                                                                                                                                                                                                                                                                                                                                     \n",
       "3  CREATE TABLE COURSE ( \\n    [CID] INTEGER PRIMARY KEY,\\n    [PID] INTEGER NOT NULL,\\n    [CatalogYear] TEXT NOT NULL,\\n    [catalog_ID] TEXT NOT NULL,\\n    [course_title] TEXT NOT NULL,\\n    [credits] TEXT NOT NULL,\\n    [prereqs] TEXT,\\n    [coreqs] TEXT,\\n    [fees] text,\\n    [attributes] TEXT,\\n    [description] TEXT,\\n    FOREIGN KEY (PID) REFERENCES PROGRAMS (PID)\\n)                                                                                                                                                                                                                                \n",
       "4  CREATE TABLE COURSE_OFFERING ( \\n    [COID] INTEGER PRIMARY KEY,\\n    [CID] INTEGER,\\n    [FID] INTEGER NOT NULL,\\n    [CRN] TEXT NOT NULL,\\n    [SEMESTER] TEXT NOT NULL,\\n    [YEAR] INTEGER NOT NULL,\\n    [TITLE] TEXT NOT NULL,\\n    [CATALOG_ID] TEXT,\\n    [CatalogYear] TEXT,\\n    [MEETINGS] TEXT,\\n    [TIMECODES] TEXT,\\n    [SECTION] TEXT NOT NULL,\\n    [CAP] INTEGER NOT NULL,\\n    [ACT] INTEGER NOT NULL,\\n    [REM] INTEGER NOT NULL,\\n    [instructor_lname] TEXT,\\n    [instructor_fname] TEXT,\\n    FOREIGN KEY (CID) REFERENCES COURSE (CID)\\n    FOREIGN KEY (FID) REFERENCES FACULTY (FID)\\n)  \n",
       "5  CREATE TABLE CLASS_MEETINGS ( \\n    [CMID] INTEGER PRIMARY KEY,\\n    [COID] INTEGER,\\n    [LID] INTEGER,\\n    [DAY] TEXT,\\n    [START] TEXT,\\n    [END] TEXT,\\n    [CRN] TEXT,\\n    [SEMESTER] TEXT NOT NULL,\\n    [YEAR] INTEGER NOT NULL,\\n    FOREIGN KEY (LID) REFERENCES LOCATION (LID)\\n    FOREIGN KEY (COID) REFERENCES COURSE_OFFERING (COID)\\n)                                                                                                                                                                                                                                                              \n",
       "6  CREATE TABLE CATALOG_YEAR (\\n    [CatalogYear] TEXT,\\n    [YEAR] INTERGER ,\\n    [SEMESTER] TEXT\\n)                                                                                                                                                                                                                                                                                                                                                                                                                                                                                                                    "
      ]
     },
     "execution_count": 28,
     "metadata": {},
     "output_type": "execute_result"
    }
   ],
   "source": [
    "# show non-truncated long strings in pandas columns\n",
    "pd.set_option('display.max_colwidth', -1)\n",
    "\n",
    "#checking the db tables after dropping the import tables.\n",
    "query = 'SELECT * from sqlite_master where type= \"table\"'\n",
    "engine = create_engine(\"sqlite:///CourseData.db\")\n",
    "\n",
    "tables = pd.read_sql_query(query,engine)\n",
    "tables = tables.rename(columns={\"name\": \"DatabaseTables\"})\n",
    "tables"
   ]
  },
  {
   "cell_type": "code",
   "execution_count": 30,
   "metadata": {},
   "outputs": [
    {
     "name": "stdout",
     "output_type": "stream",
     "text": [
      " * sqlite:///CourseData.db\n",
      "Done.\n"
     ]
    },
    {
     "data": {
      "text/plain": [
       "[]"
      ]
     },
     "execution_count": 30,
     "metadata": {},
     "output_type": "execute_result"
    }
   ],
   "source": [
    "%%sql\n",
    "-- Force SQLite to rebuild the database file to minimize file size\n",
    "vacuum;"
   ]
  },
  {
   "cell_type": "code",
   "execution_count": null,
   "metadata": {},
   "outputs": [],
   "source": []
  }
 ],
 "metadata": {
  "kernelspec": {
   "display_name": "Python 3",
   "language": "python",
   "name": "python3"
  },
  "language_info": {
   "codemirror_mode": {
    "name": "ipython",
    "version": 3
   },
   "file_extension": ".py",
   "mimetype": "text/x-python",
   "name": "python",
   "nbconvert_exporter": "python",
   "pygments_lexer": "ipython3",
   "version": "3.7.7"
  }
 },
 "nbformat": 4,
 "nbformat_minor": 4
}
