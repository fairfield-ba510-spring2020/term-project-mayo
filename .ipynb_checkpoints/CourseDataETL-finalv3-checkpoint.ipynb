{
 "cells": [
  {
   "cell_type": "markdown",
   "metadata": {},
   "source": [
    "<img src=\"https://i.imgur.com/SsfgzAq.png\" width=50%/>"
   ]
  },
  {
   "cell_type": "markdown",
   "metadata": {},
   "source": [
    "# <b> Extract, Transform and Load for CourseData.db </b>\n",
    "___"
   ]
  },
  {
   "cell_type": "markdown",
   "metadata": {},
   "source": [
    "## Table of Content:\n",
    "[1. Create Import Tables](#1)\n",
    "<br> [2. Extract data from CSV files, Transform, Load into Import Tables](#2)\n",
    "<br> [3. Create Tables from ERD](#3)\n",
    "<br> [4. Populate the ERD Tables from The Imported Data Tables](#4)\n",
    "<br> [5. Empty out the Import Tables to reclaim storage space](#5)"
   ]
  },
  {
   "cell_type": "markdown",
   "metadata": {},
   "source": [
    "## Preliminaries: Extensions, Imports, and Database Connections"
   ]
  },
  {
   "cell_type": "markdown",
   "metadata": {},
   "source": [
    "For more information about the following module and syntax, see the following sources:\n",
    "- [sqlite3](https://docs.python.org/2/library/sqlite3.html)\n",
    "- [create a database python using sqlite3](https://datatofish.com/create-database-python-using-sqlite3/)"
   ]
  },
  {
   "cell_type": "code",
   "execution_count": 37,
   "metadata": {},
   "outputs": [],
   "source": [
    "# import sqlite3\n",
    "import sqlite3\n",
    "\n",
    "# to use the module, you must first create a Connection object that represents the database\n",
    "# Note: You can create a new database by changing the name within the quotes\n",
    "conn = sqlite3.connect('CourseData.db')  \n",
    "\n",
    "# Once you have a Connection, you can create a Cursor object and call its execute() method to perform SQL commands:\n",
    "c = conn.cursor() "
   ]
  },
  {
   "cell_type": "markdown",
   "metadata": {},
   "source": [
    "<a id = \"1\"> <h2> 1. Create Import Tables </h2> </a>\n",
    "___\n",
    "Create three tables where we can load the data into:\n",
    "* IMPORT_COURSES\n",
    "* IMPORT_COURSE_MEETINGS\n",
    "* IMPORT_COURSE_CATALOG\n",
    "\n",
    "To be able to import raw source data from .CSV files into in step 2:\n",
    "* course_Meetings.csv\n",
    "* courses.csv\n",
    "* CourseCatalog2017_2018.csv \n",
    "* CourseCatalog2018_2019.csv"
   ]
  },
  {
   "cell_type": "code",
   "execution_count": 38,
   "metadata": {},
   "outputs": [],
   "source": [
    "conn = sqlite3.connect('CourseData.db')\n",
    "c = conn.cursor() \n",
    "\n",
    "# Create table - IMPORT_Courses\n",
    "c.execute('''DROP TABLE IF EXISTS IMPORT_COURSES''')\n",
    "c.execute('''CREATE TABLE IMPORT_COURSES(\n",
    "    [term] TEXT,\n",
    "    [crn] TEXT,\n",
    "    [catalog_id] TEXT,\n",
    "    [section] TEXT,\n",
    "    [credits] TEXT,\n",
    "    [title] TEXT,\n",
    "    [meetings] TEXT,\n",
    "    [timecodes] TEXT,\n",
    "    [primary_instructor] TEXT,\n",
    "    [cap] INT,\n",
    "    [act] INT, \n",
    "    [rem] INT,\n",
    "    [instructor_fname] TEXT,\n",
    "    [instructor_lname] TEXT,\n",
    "    [semester] TEXT,\n",
    "    [year] TEXT)'''\n",
    "         )\n",
    "          \n",
    "# Create table - IMPORT_COURSE_MEETINGS\n",
    "c.execute('''DROP TABLE IF EXISTS IMPORT_COURSE_MEETINGS''')\n",
    "c.execute('''CREATE TABLE IMPORT_COURSE_MEETINGS (\n",
    "    [crn] TEXT,\n",
    "    [location] TEXT,\n",
    "    [day] TEXT,\n",
    "    [start] TEXT,\n",
    "    [end] TEXT,\n",
    "    [term] TEXT,\n",
    "    [semester] TEXT,\n",
    "    [year] TEXT,\n",
    "    [BuildingName]    TEXT , \n",
    "    [BuildingCode] TEXT )'''\n",
    "         )\n",
    "        \n",
    "# Create table - IMPORT_COURSE_CATALOG\n",
    "c.execute('''DROP TABLE IF EXISTS IMPORT_COURSE_CATALOG''')\n",
    "c.execute('''CREATE TABLE IMPORT_COURSE_CATALOG (\n",
    "    [program_code] TEXT,\n",
    "    [program_name] TEXT,\n",
    "    [catalog_ID] TEXT,\n",
    "    [course_title] TEXT,\n",
    "    [credits] TEXT,\n",
    "    [prereqs] TEXT,\n",
    "    [coreqs] TEXT,\n",
    "    [fees] TEXT,\n",
    "    [attributes] TEXT,\n",
    "    [description] TEXT,\n",
    "    [CatalogYear] TEXT)'''\n",
    "         )\n",
    "\n",
    "# Save (commit) the changes\n",
    "conn.commit()\n",
    "\n",
    "# We can also close the connection if we are done with it.\n",
    "# Just be sure any changes have been committed or they will be lost.\n",
    "conn.close()"
   ]
  },
  {
   "cell_type": "markdown",
   "metadata": {},
   "source": [
    "<b> 1.2 Test if the IMPORT Tables Are Created </b>\n",
    "<br> by printing out the columns for each created import table."
   ]
  },
  {
   "cell_type": "markdown",
   "metadata": {},
   "source": [
    "For more information about the following modules, click on the link:\n",
    "* [pandas](https://pandas.pydata.org/pandas-docs/stable/getting_started/overview.html)\n",
    "* [sqlalchemy](https://www.sqlalchemy.org/)"
   ]
  },
  {
   "cell_type": "code",
   "execution_count": 39,
   "metadata": {},
   "outputs": [],
   "source": [
    "from IPython.display import display, Markdown, Latex\n",
    "# import pandas - providing fast, flexible, and expressive data structures designed to make working with “relational” or “labeled” data\n",
    "import pandas as pd\n",
    "\n",
    "# import sqlalchemy - Python SQL toolkit and Object Relational Mapper that gives application developers the full power and flexibility of SQL\n",
    "from sqlalchemy import create_engine"
   ]
  },
  {
   "cell_type": "code",
   "execution_count": 40,
   "metadata": {},
   "outputs": [
    {
     "data": {
      "text/markdown": [
       "**Table :IMPORT_COURSES**"
      ],
      "text/plain": [
       "<IPython.core.display.Markdown object>"
      ]
     },
     "metadata": {},
     "output_type": "display_data"
    },
    {
     "data": {
      "text/html": [
       "<div>\n",
       "<style scoped>\n",
       "    .dataframe tbody tr th:only-of-type {\n",
       "        vertical-align: middle;\n",
       "    }\n",
       "\n",
       "    .dataframe tbody tr th {\n",
       "        vertical-align: top;\n",
       "    }\n",
       "\n",
       "    .dataframe thead th {\n",
       "        text-align: right;\n",
       "    }\n",
       "</style>\n",
       "<table border=\"1\" class=\"dataframe\">\n",
       "  <thead>\n",
       "    <tr style=\"text-align: right;\">\n",
       "      <th></th>\n",
       "      <th>term</th>\n",
       "      <th>crn</th>\n",
       "      <th>catalog_id</th>\n",
       "      <th>section</th>\n",
       "      <th>credits</th>\n",
       "      <th>title</th>\n",
       "      <th>meetings</th>\n",
       "      <th>timecodes</th>\n",
       "      <th>primary_instructor</th>\n",
       "      <th>cap</th>\n",
       "      <th>act</th>\n",
       "      <th>rem</th>\n",
       "      <th>instructor_fname</th>\n",
       "      <th>instructor_lname</th>\n",
       "      <th>semester</th>\n",
       "      <th>year</th>\n",
       "    </tr>\n",
       "  </thead>\n",
       "  <tbody>\n",
       "  </tbody>\n",
       "</table>\n",
       "</div>"
      ],
      "text/plain": [
       "Empty DataFrame\n",
       "Columns: [term, crn, catalog_id, section, credits, title, meetings, timecodes, primary_instructor, cap, act, rem, instructor_fname, instructor_lname, semester, year]\n",
       "Index: []"
      ]
     },
     "metadata": {},
     "output_type": "display_data"
    },
    {
     "data": {
      "text/markdown": [
       "**Table :IMPORT_COURSE_CATALOG**"
      ],
      "text/plain": [
       "<IPython.core.display.Markdown object>"
      ]
     },
     "metadata": {},
     "output_type": "display_data"
    },
    {
     "data": {
      "text/html": [
       "<div>\n",
       "<style scoped>\n",
       "    .dataframe tbody tr th:only-of-type {\n",
       "        vertical-align: middle;\n",
       "    }\n",
       "\n",
       "    .dataframe tbody tr th {\n",
       "        vertical-align: top;\n",
       "    }\n",
       "\n",
       "    .dataframe thead th {\n",
       "        text-align: right;\n",
       "    }\n",
       "</style>\n",
       "<table border=\"1\" class=\"dataframe\">\n",
       "  <thead>\n",
       "    <tr style=\"text-align: right;\">\n",
       "      <th></th>\n",
       "      <th>program_code</th>\n",
       "      <th>program_name</th>\n",
       "      <th>catalog_ID</th>\n",
       "      <th>course_title</th>\n",
       "      <th>credits</th>\n",
       "      <th>prereqs</th>\n",
       "      <th>coreqs</th>\n",
       "      <th>fees</th>\n",
       "      <th>attributes</th>\n",
       "      <th>description</th>\n",
       "      <th>CatalogYear</th>\n",
       "    </tr>\n",
       "  </thead>\n",
       "  <tbody>\n",
       "  </tbody>\n",
       "</table>\n",
       "</div>"
      ],
      "text/plain": [
       "Empty DataFrame\n",
       "Columns: [program_code, program_name, catalog_ID, course_title, credits, prereqs, coreqs, fees, attributes, description, CatalogYear]\n",
       "Index: []"
      ]
     },
     "metadata": {},
     "output_type": "display_data"
    },
    {
     "data": {
      "text/markdown": [
       "**Table :IMPORT_COURSE_MEETINGS**"
      ],
      "text/plain": [
       "<IPython.core.display.Markdown object>"
      ]
     },
     "metadata": {},
     "output_type": "display_data"
    },
    {
     "data": {
      "text/html": [
       "<div>\n",
       "<style scoped>\n",
       "    .dataframe tbody tr th:only-of-type {\n",
       "        vertical-align: middle;\n",
       "    }\n",
       "\n",
       "    .dataframe tbody tr th {\n",
       "        vertical-align: top;\n",
       "    }\n",
       "\n",
       "    .dataframe thead th {\n",
       "        text-align: right;\n",
       "    }\n",
       "</style>\n",
       "<table border=\"1\" class=\"dataframe\">\n",
       "  <thead>\n",
       "    <tr style=\"text-align: right;\">\n",
       "      <th></th>\n",
       "      <th>crn</th>\n",
       "      <th>location</th>\n",
       "      <th>day</th>\n",
       "      <th>start</th>\n",
       "      <th>end</th>\n",
       "      <th>term</th>\n",
       "      <th>semester</th>\n",
       "      <th>year</th>\n",
       "      <th>BuildingName</th>\n",
       "      <th>BuildingCode</th>\n",
       "    </tr>\n",
       "  </thead>\n",
       "  <tbody>\n",
       "  </tbody>\n",
       "</table>\n",
       "</div>"
      ],
      "text/plain": [
       "Empty DataFrame\n",
       "Columns: [crn, location, day, start, end, term, semester, year, BuildingName, BuildingCode]\n",
       "Index: []"
      ]
     },
     "metadata": {},
     "output_type": "display_data"
    }
   ],
   "source": [
    "# Create a new Engine instance - create an in-memory-only SQLite database\n",
    "engine = create_engine(\"sqlite:///CourseData.db\")\n",
    "\n",
    "# Create a list of the IMPORT Tables\n",
    "dbtable = ['IMPORT_COURSES',\n",
    "           'IMPORT_COURSE_CATALOG' , \n",
    "           'IMPORT_COURSE_MEETINGS']\n",
    "\n",
    "# Iterate through the list of tables and print out each column within every table\n",
    "for i in dbtable :\n",
    "    display(Markdown('**Table :{}**'.format( i)))\n",
    "    tables = pd.read_sql_table(i,engine)\n",
    "    display(tables.head())"
   ]
  },
  {
   "cell_type": "markdown",
   "metadata": {},
   "source": [
    "<a id = \"2\"> <h2> 2. Extract data from CSV files, Transform, Load into Import Tables </h2> </a>\n",
    "___\n",
    "Located in the subfolders of the folder 'SourceData' are the following CSV files: \n",
    "* courses.csv*\n",
    "* course_meetings.csv*\n",
    "* CourseCatalog2017_2018.csv \n",
    "* CourseCatalog2018_2019.csv\n",
    "<br> <em> *whereby courses.csv and course_meetings.csv are 2 files per semester (for 19 semesters, between the years: 2014-2018) </em>\n",
    "\n",
    "Steps:\n",
    "1. First we extract the data from each CSV file and convert it to a pandas dataframe (for easier manipulation using Python syntax)\n",
    "2. Then we impute 'missing'/incorrect data for each dataframe\n",
    "3. Lastly we put the cleaned data from the imputed dataframe into the corresponding IMPORT tables:\n",
    "    * courses.csv -> df_courses -> IMPORT_COURSES\n",
    "    * course_meetings.csv** -> df_course_meetings_buildings -> IMPORT_COURSE_CATALOG\n",
    "    * CourseCatalog2017_2018.csv -> data -> IMPORT_COURSE_MEETINGS\n",
    "    * CourseCatalog2018_2019.csv -> data -> IMPORT_COURSE_MEETINGS\n",
    "    \n",
    "<em> **Note: we add external data for the buildings based on 'Location', namely the 'BuildingName' and 'BuildingCode' </em>"
   ]
  },
  {
   "cell_type": "markdown",
   "metadata": {},
   "source": [
    "<b> 2.1 Create a Dataframe for courses.csv files combined from all subfolders </b>\n",
    "<br> for the syntax the following source was used: [link](https://stackoverflow.com/questions/20906474/import-multiple-csv-files-into-pandas-and-concatenate-into-one-dataframe)"
   ]
  },
  {
   "cell_type": "code",
   "execution_count": 41,
   "metadata": {},
   "outputs": [
    {
     "data": {
      "text/markdown": [
       "**Number of rows: 15937 <br> Number of columns: 12**"
      ],
      "text/plain": [
       "<IPython.core.display.Markdown object>"
      ]
     },
     "metadata": {},
     "output_type": "display_data"
    }
   ],
   "source": [
    "# create a list of subfolder names located in the 'SourceData' folder for the semesters \n",
    "semester_folders = ['Fall2014',\n",
    "                    'Fall2015',\n",
    "                    'Fall2016',\n",
    "                    'Fall2017',\n",
    "                    'Fall2018',\n",
    "                    'Spring2015', \n",
    "                    'Spring2016',\n",
    "                    'Spring2017',\n",
    "                    'Spring2018',\n",
    "                    'Spring2019',\n",
    "                    'SpringBreak2017',\n",
    "                    'Summer2015',\n",
    "                    'Summer2016',\n",
    "                    'Summer2017',\n",
    "                    'Summer2018',\n",
    "                    'Winter2015',\n",
    "                    'Winter2016', \n",
    "                    'Winter2017',\n",
    "                    'Winter2018']\n",
    "\n",
    "# --------------------------------------------------\n",
    "# loop through the files and read them in with pandas\n",
    "# --------------------------------------------------\n",
    "# create an empty list to hold all the individual pandas dataframes\n",
    "dataframes = []  \n",
    "\n",
    "# Iterate through the list of semester_folders \n",
    "for semester in semester_folders:\n",
    "    # the path to your csv file directory\n",
    "    fixing_catalog_years\n",
    "    mycsvdir = 'SourceData/{}/courses.csv'.format(semester)\n",
    "    # read all the csv files in that directory (assuming they have the extension courses.csv)\n",
    "    df = pd.read_csv(mycsvdir)\n",
    "    #  append rows for each dataframe to the end of the given list\n",
    "    dataframes.append(df)\n",
    "\n",
    "# concatenate them all together\n",
    "result = pd.concat(dataframes, ignore_index=True)\n",
    "# print out to a new csv file\n",
    "result.to_csv('courses_all.csv')\n",
    "display(Markdown('**Number of rows: {0} <br> Number of columns: {1}**'.format(result.shape[0],result.shape[1])))"
   ]
  },
  {
   "cell_type": "markdown",
   "metadata": {},
   "source": [
    "<b> 2.2 Impute the dataframe representing the combined courses files: 'courses_all.csv' </b>\n",
    "- trim whitespaces for all columns\n",
    "- split strings and create new columns for:\n",
    "    * column 'primary_instructor' into two columns: first name, last name\n",
    "    * column 'term' into: semester, year\n",
    "- replace empty brackets [] for the 'meetings' column\n",
    "- replace empty brackets [] for the 'timecodes' column\n",
    "- replace 'missing' values for the primary instructor (which are dates) with 'TBA' (which stands for: To Be Announced)\n",
    "- replace 'instructor_lname' column's NaN's with 'TBA'"
   ]
  },
  {
   "cell_type": "markdown",
   "metadata": {},
   "source": [
    "<b> Load in the CSV file of the combined courses.csv files as a pandas dataframe"
   ]
  },
  {
   "cell_type": "code",
   "execution_count": 42,
   "metadata": {},
   "outputs": [],
   "source": [
    "df_courses = pd.read_csv('courses_all.csv', header=0, index_col=0)"
   ]
  },
  {
   "cell_type": "markdown",
   "metadata": {},
   "source": [
    "* <b> Primary Instructor: </b> find the unique values for primary instructor that don't have names but dates in them\n",
    "<br> _Note:_ originally found wrong values by checking a 'courses_all.csv' file CSV file in Excel"
   ]
  },
  {
   "cell_type": "code",
   "execution_count": 43,
   "metadata": {},
   "outputs": [
    {
     "data": {
      "text/markdown": [
       "**Unique values to replace:** 8"
      ],
      "text/plain": [
       "<IPython.core.display.Markdown object>"
      ]
     },
     "metadata": {},
     "output_type": "display_data"
    },
    {
     "data": {
      "text/markdown": [
       "09/15-10/31"
      ],
      "text/plain": [
       "<IPython.core.display.Markdown object>"
      ]
     },
     "metadata": {},
     "output_type": "display_data"
    },
    {
     "data": {
      "text/markdown": [
       "09/02-12/30"
      ],
      "text/plain": [
       "<IPython.core.display.Markdown object>"
      ]
     },
     "metadata": {},
     "output_type": "display_data"
    },
    {
     "data": {
      "text/markdown": [
       "08/15-01/15"
      ],
      "text/plain": [
       "<IPython.core.display.Markdown object>"
      ]
     },
     "metadata": {},
     "output_type": "display_data"
    },
    {
     "data": {
      "text/markdown": [
       "09/02-12/19"
      ],
      "text/plain": [
       "<IPython.core.display.Markdown object>"
      ]
     },
     "metadata": {},
     "output_type": "display_data"
    },
    {
     "data": {
      "text/markdown": [
       "09/01-12/07"
      ],
      "text/plain": [
       "<IPython.core.display.Markdown object>"
      ]
     },
     "metadata": {},
     "output_type": "display_data"
    },
    {
     "data": {
      "text/markdown": [
       "01/20-05/08"
      ],
      "text/plain": [
       "<IPython.core.display.Markdown object>"
      ]
     },
     "metadata": {},
     "output_type": "display_data"
    },
    {
     "data": {
      "text/markdown": [
       "01/20-04/30"
      ],
      "text/plain": [
       "<IPython.core.display.Markdown object>"
      ]
     },
     "metadata": {},
     "output_type": "display_data"
    },
    {
     "data": {
      "text/markdown": [
       "05/21-08/17"
      ],
      "text/plain": [
       "<IPython.core.display.Markdown object>"
      ]
     },
     "metadata": {},
     "output_type": "display_data"
    }
   ],
   "source": [
    "# import python package re - for regular expression operations\n",
    "import re \n",
    "\n",
    "# define a list of unique values that start with a integer between 0 and 9 in the column 'primary_instructor'\n",
    "primary_instructor_values = list(df_courses[df_courses['primary_instructor'].str.contains(r'[0-9]+') == True]['primary_instructor'].unique())\n",
    "\n",
    "# show the list of wrong unique values to replace\n",
    "display(Markdown('**Unique values to replace:** {}'.format( len(primary_instructor_values))))\n",
    "for i in primary_instructor_values:\n",
    "    display(Markdown(i))"
   ]
  },
  {
   "cell_type": "markdown",
   "metadata": {},
   "source": [
    "* <b> Meetings: </b> find the number of values that have brackets [] instead of actual meetings that are needed to replace\n",
    "<br> _Note:_ originally found wrong values by checking a 'courses_all.csv' file CSV file in Excel"
   ]
  },
  {
   "cell_type": "code",
   "execution_count": 44,
   "metadata": {},
   "outputs": [
    {
     "data": {
      "text/markdown": [
       "Number of values that have `[]` in the `meetings` column: **2491**"
      ],
      "text/plain": [
       "<IPython.core.display.Markdown object>"
      ]
     },
     "metadata": {},
     "output_type": "display_data"
    },
    {
     "data": {
      "text/markdown": [
       "**% Meetings missing that need to be replaced: 15.63%**"
      ],
      "text/plain": [
       "<IPython.core.display.Markdown object>"
      ]
     },
     "metadata": {},
     "output_type": "display_data"
    }
   ],
   "source": [
    "\n",
    "\n",
    "len_col_meetings_miss = df_courses['meetings'].value_counts()[0]\n",
    "len_col_meetings =  df_courses['meetings'].size\n",
    "display(Markdown(\"Number of values that have `[]` in the `meetings` column: **{0}**\".format(len_col_meetings_miss)))\n",
    "display(Markdown('**% Meetings missing that need to be replaced: {:0.2f}%**'.format(len_col_meetings_miss/len_col_meetings*100)  ))\n"
   ]
  },
  {
   "cell_type": "markdown",
   "metadata": {},
   "source": [
    "* <b> Timecodes: </b> find the number of values that have brackets [] instead of actual timecodes that are needed to replace\n",
    "<br> _Note:_ originally found wrong values by checking a 'courses_all.csv' file CSV file in Excel"
   ]
  },
  {
   "cell_type": "code",
   "execution_count": 45,
   "metadata": {},
   "outputs": [
    {
     "data": {
      "text/markdown": [
       "Number of values that have `[]` in the `timecodes` column: **2491**"
      ],
      "text/plain": [
       "<IPython.core.display.Markdown object>"
      ]
     },
     "metadata": {},
     "output_type": "display_data"
    },
    {
     "data": {
      "text/markdown": [
       "**% Timecodes missing that need to be replaced: 15.63 %**"
      ],
      "text/plain": [
       "<IPython.core.display.Markdown object>"
      ]
     },
     "metadata": {},
     "output_type": "display_data"
    }
   ],
   "source": [
    "len_col_timecodes_miss = df_courses[df_courses['timecodes'] == '[]']['timecodes'].size\n",
    "len_col_timecodes = df_courses['timecodes'].size\n",
    "\n",
    "\n",
    "display(Markdown(\"Number of values that have `[]` in the `timecodes` column: **{}**\".format(len_col_timecodes_miss)))\n",
    "display(Markdown(\"**% Timecodes missing that need to be replaced: {:0.2f} %**\".format(len_col_timecodes_miss/len_col_timecodes*100)   ))"
   ]
  },
  {
   "cell_type": "markdown",
   "metadata": {},
   "source": [
    "---"
   ]
  },
  {
   "cell_type": "markdown",
   "metadata": {},
   "source": [
    "<b> Define two functions for: </b>\n",
    "- trim whitespaces (beginning/end)\n",
    "- remove spaces \n",
    "<br> For the syntax the following source was used, see [link](https://stackoverflow.com/questions/40950310/strip-trim-all-strings-of-a-dataframe)"
   ]
  },
  {
   "cell_type": "code",
   "execution_count": 46,
   "metadata": {},
   "outputs": [],
   "source": [
    "def trim_all_columns(df):\n",
    "    \"\"\"\n",
    "    Trim whitespace from ends of each value across all series in dataframe\n",
    "    \"\"\"\n",
    "    trim_strings = lambda x: x.strip() if isinstance(x, str) else x\n",
    "    return df.applymap(trim_strings)\n",
    "\n",
    "import pandas as pd\n",
    "\n",
    "def remove_whitespace(x):\n",
    "    try:\n",
    "        # remove spaces inside and outside of string\n",
    "        x = \"\".join(x.split())\n",
    "\n",
    "    except:\n",
    "        pass\n",
    "    return x"
   ]
  },
  {
   "cell_type": "markdown",
   "metadata": {},
   "source": [
    "* Impute values in 'df_courses' pandas dataframe"
   ]
  },
  {
   "cell_type": "code",
   "execution_count": 47,
   "metadata": {},
   "outputs": [],
   "source": [
    "# --------------------------------------------------------------------------------------------\n",
    "# Apply to remove_whitespace to entire Dataframe\n",
    "# --------------------------------------------------------------------------------------------\n",
    "# apply the function to trim whitespaces\n",
    "df_courses = trim_all_columns(df_courses)\n",
    "\n",
    "# --------------------------------------------------------------------------------------------\n",
    "# split the first and last name of the instructor from the 'primary_instructor' column \n",
    "# by the pattern: 2 spaces '  ', example 'John J.  Doe' would become 'John J.' and 'Doe'\n",
    "# --------------------------------------------------------------------------------------------\n",
    "df_courses[['instructor_fname','instructor_lname']] = df_courses['primary_instructor'].str.split('  ',expand=True,)\n",
    "\n",
    "# --------------------------------------------------------------------------------------------\n",
    "# split the semester and year form the 'term' column by the first integer '2', \n",
    "# example: Fall2014 will be split into 'Fall' and '2014'\n",
    "# --------------------------------------------------------------------------------------------\n",
    "df_courses[['semester','year']] = df_courses['term'].str.split('2',expand=True,)\n",
    "# for column 'year' just created, add back the integer 2 to to year for each row (this 2 was used to split on and was subtracted)\n",
    "df_courses['year'] = '2'+df_courses['year']\n",
    "\n",
    "# --------------------------------------------------------------------------------------------\n",
    "# impute meetings and timecodes columns\n",
    "# --------------------------------------------------------------------------------------------\n",
    "df_courses['meetings'].loc[df_courses.meetings == '[]'] = 'No meetings'\n",
    "df_courses['timecodes'].loc[df_courses.timecodes == '[]']= 'No time codes'\n",
    "# --------------------------------------------------------------------------------------------\n",
    "\n",
    "# cleaning the missing values in primary_instructor\n",
    "# --------------------------------------------------------------------------------------------\n",
    "for i in primary_instructor_values :\n",
    "    #print(df_courses.primary_instructor.loc[df_courses.primary_instructor == i].count())# = 'No meetings'\n",
    "    df_courses['primary_instructor'].loc[df_courses.primary_instructor == i] = 'TBA'\n",
    "    \n",
    "# --------------------------------------------------------------------------------------------\n",
    "# replace all the NaN's for the column 'instructor_lname' to 'TBA'    \n",
    "# --------------------------------------------------------------------------------------------    \n",
    "df_courses[\"instructor_lname\"] = df_courses[\"instructor_lname\"].fillna(\"TBA\")"
   ]
  },
  {
   "cell_type": "markdown",
   "metadata": {},
   "source": [
    "<b> 2.3 Test if the following new columns were created correctly:\n",
    "- 'instructor_fname' \n",
    "- 'instructor_lname'"
   ]
  },
  {
   "cell_type": "code",
   "execution_count": 48,
   "metadata": {},
   "outputs": [
    {
     "data": {
      "text/html": [
       "<div>\n",
       "<style scoped>\n",
       "    .dataframe tbody tr th:only-of-type {\n",
       "        vertical-align: middle;\n",
       "    }\n",
       "\n",
       "    .dataframe tbody tr th {\n",
       "        vertical-align: top;\n",
       "    }\n",
       "\n",
       "    .dataframe thead th {\n",
       "        text-align: right;\n",
       "    }\n",
       "</style>\n",
       "<table border=\"1\" class=\"dataframe\">\n",
       "  <thead>\n",
       "    <tr style=\"text-align: right;\">\n",
       "      <th></th>\n",
       "      <th>0</th>\n",
       "      <th>1</th>\n",
       "    </tr>\n",
       "  </thead>\n",
       "  <tbody>\n",
       "    <tr>\n",
       "      <th>term</th>\n",
       "      <td>Fall2014</td>\n",
       "      <td>Fall2014</td>\n",
       "    </tr>\n",
       "    <tr>\n",
       "      <th>crn</th>\n",
       "      <td>70384</td>\n",
       "      <td>70385</td>\n",
       "    </tr>\n",
       "    <tr>\n",
       "      <th>catalog_id</th>\n",
       "      <td>AC 0011</td>\n",
       "      <td>AC 0011</td>\n",
       "    </tr>\n",
       "    <tr>\n",
       "      <th>section</th>\n",
       "      <td>C01</td>\n",
       "      <td>C02</td>\n",
       "    </tr>\n",
       "    <tr>\n",
       "      <th>credits</th>\n",
       "      <td>3.000</td>\n",
       "      <td>3.000</td>\n",
       "    </tr>\n",
       "    <tr>\n",
       "      <th>title</th>\n",
       "      <td>Introduction to Financial Accounting</td>\n",
       "      <td>Introduction to Financial Accounting</td>\n",
       "    </tr>\n",
       "    <tr>\n",
       "      <th>meetings</th>\n",
       "      <td>[{'days': 'TF', 'times': '0800am-0915am', 'dat...</td>\n",
       "      <td>[{'days': 'TF', 'times': '0930am-1045am', 'dat...</td>\n",
       "    </tr>\n",
       "    <tr>\n",
       "      <th>timecodes</th>\n",
       "      <td>['TF 0800am-0915am 09/02-12/08 DSB 105']</td>\n",
       "      <td>['TF 0930am-1045am 09/02-12/08 DSB 105']</td>\n",
       "    </tr>\n",
       "    <tr>\n",
       "      <th>primary_instructor</th>\n",
       "      <td>Michael P.  Coyne</td>\n",
       "      <td>Michael P.  Coyne</td>\n",
       "    </tr>\n",
       "    <tr>\n",
       "      <th>cap</th>\n",
       "      <td>0</td>\n",
       "      <td>0</td>\n",
       "    </tr>\n",
       "    <tr>\n",
       "      <th>act</th>\n",
       "      <td>31</td>\n",
       "      <td>31</td>\n",
       "    </tr>\n",
       "    <tr>\n",
       "      <th>rem</th>\n",
       "      <td>-31</td>\n",
       "      <td>-31</td>\n",
       "    </tr>\n",
       "    <tr>\n",
       "      <th>instructor_fname</th>\n",
       "      <td>Michael P.</td>\n",
       "      <td>Michael P.</td>\n",
       "    </tr>\n",
       "    <tr>\n",
       "      <th>instructor_lname</th>\n",
       "      <td>Coyne</td>\n",
       "      <td>Coyne</td>\n",
       "    </tr>\n",
       "    <tr>\n",
       "      <th>semester</th>\n",
       "      <td>Fall</td>\n",
       "      <td>Fall</td>\n",
       "    </tr>\n",
       "    <tr>\n",
       "      <th>year</th>\n",
       "      <td>2014</td>\n",
       "      <td>2014</td>\n",
       "    </tr>\n",
       "  </tbody>\n",
       "</table>\n",
       "</div>"
      ],
      "text/plain": [
       "                                                                    0  \\\n",
       "term                                                         Fall2014   \n",
       "crn                                                             70384   \n",
       "catalog_id                                                    AC 0011   \n",
       "section                                                           C01   \n",
       "credits                                                         3.000   \n",
       "title                            Introduction to Financial Accounting   \n",
       "meetings            [{'days': 'TF', 'times': '0800am-0915am', 'dat...   \n",
       "timecodes                    ['TF 0800am-0915am 09/02-12/08 DSB 105']   \n",
       "primary_instructor                                  Michael P.  Coyne   \n",
       "cap                                                                 0   \n",
       "act                                                                31   \n",
       "rem                                                               -31   \n",
       "instructor_fname                                           Michael P.   \n",
       "instructor_lname                                                Coyne   \n",
       "semester                                                         Fall   \n",
       "year                                                             2014   \n",
       "\n",
       "                                                                    1  \n",
       "term                                                         Fall2014  \n",
       "crn                                                             70385  \n",
       "catalog_id                                                    AC 0011  \n",
       "section                                                           C02  \n",
       "credits                                                         3.000  \n",
       "title                            Introduction to Financial Accounting  \n",
       "meetings            [{'days': 'TF', 'times': '0930am-1045am', 'dat...  \n",
       "timecodes                    ['TF 0930am-1045am 09/02-12/08 DSB 105']  \n",
       "primary_instructor                                  Michael P.  Coyne  \n",
       "cap                                                                 0  \n",
       "act                                                                31  \n",
       "rem                                                               -31  \n",
       "instructor_fname                                           Michael P.  \n",
       "instructor_lname                                                Coyne  \n",
       "semester                                                         Fall  \n",
       "year                                                             2014  "
      ]
     },
     "metadata": {},
     "output_type": "display_data"
    },
    {
     "data": {
      "text/html": [
       "<div>\n",
       "<style scoped>\n",
       "    .dataframe tbody tr th:only-of-type {\n",
       "        vertical-align: middle;\n",
       "    }\n",
       "\n",
       "    .dataframe tbody tr th {\n",
       "        vertical-align: top;\n",
       "    }\n",
       "\n",
       "    .dataframe thead th {\n",
       "        text-align: right;\n",
       "    }\n",
       "</style>\n",
       "<table border=\"1\" class=\"dataframe\">\n",
       "  <thead>\n",
       "    <tr style=\"text-align: right;\">\n",
       "      <th></th>\n",
       "      <th>count</th>\n",
       "      <th>mean</th>\n",
       "      <th>std</th>\n",
       "      <th>min</th>\n",
       "      <th>25%</th>\n",
       "      <th>50%</th>\n",
       "      <th>75%</th>\n",
       "      <th>max</th>\n",
       "    </tr>\n",
       "  </thead>\n",
       "  <tbody>\n",
       "    <tr>\n",
       "      <th>crn</th>\n",
       "      <td>15937.0</td>\n",
       "      <td>55172.299178</td>\n",
       "      <td>19308.879968</td>\n",
       "      <td>10893.0</td>\n",
       "      <td>35426.0</td>\n",
       "      <td>57145.0</td>\n",
       "      <td>74541.0</td>\n",
       "      <td>79215.0</td>\n",
       "    </tr>\n",
       "    <tr>\n",
       "      <th>cap</th>\n",
       "      <td>15937.0</td>\n",
       "      <td>17.992784</td>\n",
       "      <td>12.671906</td>\n",
       "      <td>0.0</td>\n",
       "      <td>10.0</td>\n",
       "      <td>19.0</td>\n",
       "      <td>25.0</td>\n",
       "      <td>500.0</td>\n",
       "    </tr>\n",
       "    <tr>\n",
       "      <th>act</th>\n",
       "      <td>15937.0</td>\n",
       "      <td>15.578591</td>\n",
       "      <td>10.107690</td>\n",
       "      <td>-1.0</td>\n",
       "      <td>7.0</td>\n",
       "      <td>15.0</td>\n",
       "      <td>23.0</td>\n",
       "      <td>90.0</td>\n",
       "    </tr>\n",
       "    <tr>\n",
       "      <th>rem</th>\n",
       "      <td>15937.0</td>\n",
       "      <td>2.477317</td>\n",
       "      <td>12.709781</td>\n",
       "      <td>-75.0</td>\n",
       "      <td>0.0</td>\n",
       "      <td>1.0</td>\n",
       "      <td>5.0</td>\n",
       "      <td>999.0</td>\n",
       "    </tr>\n",
       "  </tbody>\n",
       "</table>\n",
       "</div>"
      ],
      "text/plain": [
       "       count          mean           std      min      25%      50%      75%  \\\n",
       "crn  15937.0  55172.299178  19308.879968  10893.0  35426.0  57145.0  74541.0   \n",
       "cap  15937.0     17.992784     12.671906      0.0     10.0     19.0     25.0   \n",
       "act  15937.0     15.578591     10.107690     -1.0      7.0     15.0     23.0   \n",
       "rem  15937.0      2.477317     12.709781    -75.0      0.0      1.0      5.0   \n",
       "\n",
       "         max  \n",
       "crn  79215.0  \n",
       "cap    500.0  \n",
       "act     90.0  \n",
       "rem    999.0  "
      ]
     },
     "metadata": {},
     "output_type": "display_data"
    }
   ],
   "source": [
    "# show the first 2 rows of the dataframe (transposed)\n",
    "display(df_courses.head(2).T)\n",
    "\n",
    "# show the descriptives of the numeric columns of the dataframe (transposed)\n",
    "display(df_courses.describe().T)"
   ]
  },
  {
   "cell_type": "markdown",
   "metadata": {},
   "source": [
    "<b> 2.4 Test if there are any remaining NaN's in 'df_courses'"
   ]
  },
  {
   "cell_type": "code",
   "execution_count": 49,
   "metadata": {},
   "outputs": [
    {
     "data": {
      "text/plain": [
       "term                  0\n",
       "crn                   0\n",
       "catalog_id            0\n",
       "section               0\n",
       "credits               0\n",
       "title                 0\n",
       "meetings              0\n",
       "timecodes             0\n",
       "primary_instructor    0\n",
       "cap                   0\n",
       "act                   0\n",
       "rem                   0\n",
       "instructor_fname      0\n",
       "instructor_lname      0\n",
       "semester              0\n",
       "year                  0\n",
       "dtype: int64"
      ]
     },
     "execution_count": 49,
     "metadata": {},
     "output_type": "execute_result"
    }
   ],
   "source": [
    "df_courses.isna().sum()"
   ]
  },
  {
   "cell_type": "markdown",
   "metadata": {},
   "source": [
    "<b> 2.5 Add the imputed dataframe 'df_courses' to the SQLITE IMPORT table: 'IMPORT_COURSES' </b>"
   ]
  },
  {
   "cell_type": "code",
   "execution_count": 50,
   "metadata": {},
   "outputs": [],
   "source": [
    "# create a Connection object that represents the database\n",
    "# You can create a new database by changing the name within the quotes\n",
    "conn = sqlite3.connect('CourseData.db')  \n",
    "\n",
    "# Once you have a Connection, you can create a Cursor object and call its execute() method to perform SQL commands:\n",
    "c = conn.cursor()\n",
    "\n",
    "# append the pandas dataframe 'df_courses' to the IMPORT_COURSES SQLITE Table\n",
    "df_courses.to_sql('IMPORT_COURSES', conn, if_exists='append', index=False)\n",
    "\n",
    "# We can also close the connection if we are done with it.\n",
    "# Just be sure any changes have been committed or they will be lost.\n",
    "conn.close()"
   ]
  },
  {
   "cell_type": "markdown",
   "metadata": {},
   "source": [
    "<b> 2.6 Create a Dataframe for course_meetings.csv files combined from all subfolders </b>\n",
    "<br> the following source was used as a reference for the syntax: [link](https://stackoverflow.com/questions/20906474/import-multiple-csv-files-into-pandas-and-concatenate-into-one-dataframe)"
   ]
  },
  {
   "cell_type": "code",
   "execution_count": 51,
   "metadata": {},
   "outputs": [],
   "source": [
    "# define the names of the subfolders, where to extract course_meetings.csv from:\n",
    "semester_folders = ['Fall2014', \n",
    "                    'Fall2015',\n",
    "                    'Fall2016',\n",
    "                    'Fall2017',\n",
    "                    'Fall2018',\n",
    "                    'Spring2015', \n",
    "                    'Spring2016',\n",
    "                    'Spring2017',\n",
    "                    'Spring2018',\n",
    "                    'Spring2019',\n",
    "                    'SpringBreak2017',\n",
    "                    'Summer2015',\n",
    "                    'Summer2016',\n",
    "                    'Summer2017',\n",
    "                    'Summer2018',\n",
    "                    'Winter2015',\n",
    "                    'Winter2016', \n",
    "                    'Winter2017',\n",
    "                    'Winter2018']\n",
    "\n",
    "# loop through the files and read them in with pandas\n",
    "# a list to hold all the individual pandas DataFrames\n",
    "dataframes = []  \n",
    "for semester in semester_folders:\n",
    "    # the path to your csv file directory\n",
    "    mycsvdir = 'SourceData/{}/course_meetings.csv'.format(semester)\n",
    "    # read all the csv files in that directory (assuming they have the extension course_meetings.csv)\n",
    "    df = pd.read_csv(mycsvdir)\n",
    "    dataframes.append(df)\n",
    "\n",
    "# concatenate the dataframes all together\n",
    "result = pd.concat(dataframes, ignore_index=True)\n",
    "\n",
    "# save the combined dataframes of course_meetings to a new csv file called: 'course_meetings_all'\n",
    "result.to_csv('course_meetings_all.csv')"
   ]
  },
  {
   "cell_type": "code",
   "execution_count": 52,
   "metadata": {},
   "outputs": [
    {
     "name": "stdout",
     "output_type": "stream",
     "text": [
      "(284907, 8)\n",
      "(284907, 10)\n"
     ]
    }
   ],
   "source": [
    "# create a dataframe for the course_meetings_all CSV file\n",
    "df_course_meetings = pd.read_csv('course_meetings_all.csv' ,header=0, index_col=0)\n",
    "\n",
    "# apply function to trim all columns\n",
    "df_course_meetings = trim_all_columns(df_course_meetings)\n",
    "\n",
    "# split the 'term' into two new columns 'semester' and 'year' and split on the '2' \n",
    "df_course_meetings[['semester','year']] = df_course_meetings['term'].str.split('2',expand=True,)\n",
    "\n",
    "# add back the 2 in the year, which was the integer which was split on\n",
    "df_course_meetings['year'] = '2'+df_course_meetings['year']\n",
    "\n",
    "# print the shape of the dataframe (rows, columns)\n",
    "print(df_course_meetings.shape)\n",
    "\n",
    "# read in the 'buildings2.csv' file with the columns: location, BuildingName, BuildingCode\n",
    "df_b = pd.read_csv('buildings2.csv' ,header=0, index_col=0)\n",
    "\n",
    "# apply function to trim the columns of the buildings2.csv file\n",
    "df_b = trim_all_columns(df_b)\n",
    "\n",
    "# combine the two dataframes: df_course_meetings and df_b which contains the: location, BuildinName and BuildingCode\n",
    "df_course_meetings_buildings = df_course_meetings.merge(df_b  ,left_on='location', right_on='location')\n",
    "\n",
    "# show the shape of the new combined dataframe, to see if the two columns where added based on the 'location' column\n",
    "print(df_course_meetings_buildings.shape)"
   ]
  },
  {
   "cell_type": "code",
   "execution_count": 53,
   "metadata": {},
   "outputs": [
    {
     "data": {
      "text/html": [
       "<div>\n",
       "<style scoped>\n",
       "    .dataframe tbody tr th:only-of-type {\n",
       "        vertical-align: middle;\n",
       "    }\n",
       "\n",
       "    .dataframe tbody tr th {\n",
       "        vertical-align: top;\n",
       "    }\n",
       "\n",
       "    .dataframe thead th {\n",
       "        text-align: right;\n",
       "    }\n",
       "</style>\n",
       "<table border=\"1\" class=\"dataframe\">\n",
       "  <thead>\n",
       "    <tr style=\"text-align: right;\">\n",
       "      <th></th>\n",
       "      <th>term</th>\n",
       "      <th>crn</th>\n",
       "      <th>location</th>\n",
       "      <th>day</th>\n",
       "      <th>start</th>\n",
       "      <th>end</th>\n",
       "      <th>semester</th>\n",
       "      <th>year</th>\n",
       "      <th>BuildingName</th>\n",
       "      <th>BuildingCode</th>\n",
       "    </tr>\n",
       "  </thead>\n",
       "  <tbody>\n",
       "    <tr>\n",
       "      <th>0</th>\n",
       "      <td>Fall2014</td>\n",
       "      <td>70384</td>\n",
       "      <td>DSB 105</td>\n",
       "      <td>T</td>\n",
       "      <td>2014-09-02T08:00:00</td>\n",
       "      <td>2014-09-02T09:15:00</td>\n",
       "      <td>Fall</td>\n",
       "      <td>2014</td>\n",
       "      <td>Dolan School of Business</td>\n",
       "      <td>DSB</td>\n",
       "    </tr>\n",
       "    <tr>\n",
       "      <th>1</th>\n",
       "      <td>Fall2014</td>\n",
       "      <td>70384</td>\n",
       "      <td>DSB 105</td>\n",
       "      <td>F</td>\n",
       "      <td>2014-09-05T08:00:00</td>\n",
       "      <td>2014-09-05T09:15:00</td>\n",
       "      <td>Fall</td>\n",
       "      <td>2014</td>\n",
       "      <td>Dolan School of Business</td>\n",
       "      <td>DSB</td>\n",
       "    </tr>\n",
       "    <tr>\n",
       "      <th>2</th>\n",
       "      <td>Fall2014</td>\n",
       "      <td>70384</td>\n",
       "      <td>DSB 105</td>\n",
       "      <td>T</td>\n",
       "      <td>2014-09-09T08:00:00</td>\n",
       "      <td>2014-09-09T09:15:00</td>\n",
       "      <td>Fall</td>\n",
       "      <td>2014</td>\n",
       "      <td>Dolan School of Business</td>\n",
       "      <td>DSB</td>\n",
       "    </tr>\n",
       "    <tr>\n",
       "      <th>3</th>\n",
       "      <td>Fall2014</td>\n",
       "      <td>70384</td>\n",
       "      <td>DSB 105</td>\n",
       "      <td>F</td>\n",
       "      <td>2014-09-12T08:00:00</td>\n",
       "      <td>2014-09-12T09:15:00</td>\n",
       "      <td>Fall</td>\n",
       "      <td>2014</td>\n",
       "      <td>Dolan School of Business</td>\n",
       "      <td>DSB</td>\n",
       "    </tr>\n",
       "    <tr>\n",
       "      <th>4</th>\n",
       "      <td>Fall2014</td>\n",
       "      <td>70384</td>\n",
       "      <td>DSB 105</td>\n",
       "      <td>T</td>\n",
       "      <td>2014-09-16T08:00:00</td>\n",
       "      <td>2014-09-16T09:15:00</td>\n",
       "      <td>Fall</td>\n",
       "      <td>2014</td>\n",
       "      <td>Dolan School of Business</td>\n",
       "      <td>DSB</td>\n",
       "    </tr>\n",
       "  </tbody>\n",
       "</table>\n",
       "</div>"
      ],
      "text/plain": [
       "       term    crn location day                start                  end  \\\n",
       "0  Fall2014  70384  DSB 105   T  2014-09-02T08:00:00  2014-09-02T09:15:00   \n",
       "1  Fall2014  70384  DSB 105   F  2014-09-05T08:00:00  2014-09-05T09:15:00   \n",
       "2  Fall2014  70384  DSB 105   T  2014-09-09T08:00:00  2014-09-09T09:15:00   \n",
       "3  Fall2014  70384  DSB 105   F  2014-09-12T08:00:00  2014-09-12T09:15:00   \n",
       "4  Fall2014  70384  DSB 105   T  2014-09-16T08:00:00  2014-09-16T09:15:00   \n",
       "\n",
       "  semester  year              BuildingName BuildingCode  \n",
       "0     Fall  2014  Dolan School of Business          DSB  \n",
       "1     Fall  2014  Dolan School of Business          DSB  \n",
       "2     Fall  2014  Dolan School of Business          DSB  \n",
       "3     Fall  2014  Dolan School of Business          DSB  \n",
       "4     Fall  2014  Dolan School of Business          DSB  "
      ]
     },
     "execution_count": 53,
     "metadata": {},
     "output_type": "execute_result"
    }
   ],
   "source": [
    "# show the first 5 rows of the combined dataframe to visually inspect if the BuildingName and BuildingCode were added\n",
    "df_course_meetings_buildings.head()"
   ]
  },
  {
   "cell_type": "markdown",
   "metadata": {},
   "source": [
    "<b> 2.7 Add the imputed dataframe 'df_course_meetings_buildings' to the SQLITE IMPORT table: 'IMPORT_COURSES' </b>"
   ]
  },
  {
   "cell_type": "code",
   "execution_count": 54,
   "metadata": {},
   "outputs": [],
   "source": [
    "# create a Connection object that represents the database\n",
    "# You can create a new database by changing the name within the quotes\n",
    "conn = sqlite3.connect('CourseData.db')\n",
    "\n",
    "# Once you have a Connection, you can create a Cursor object and call its execute() method to perform SQL commands:\n",
    "c = conn.cursor() \n",
    "\n",
    "# append the pandas dataframe 'df_course_meetings_buildings' to the 'IMPORT_COURSE_MEETINGS' SQLITE Table\n",
    "df_course_meetings_buildings.to_sql('IMPORT_COURSE_MEETINGS', conn, if_exists='append', index=False)\n",
    "\n",
    "# We can also close the connection if we are done with it.\n",
    "# Just be sure any changes have been committed or they will be lost.\n",
    "conn.close()"
   ]
  },
  {
   "cell_type": "markdown",
   "metadata": {},
   "source": [
    "<b> 2.8 Add the two CSV files of the Catalogs for 2018-2019 and 2017-2018 to the IMPORT table: 'IMPORT_COURSE_CATALOG' </b>\n",
    "<br> The syntax was based on the code provided by Prof. Christopher Huntley, see [link](https://github.com/christopherhuntley/ba510-course-data-project/blob/example/ETL_CourseData.ipynb)"
   ]
  },
  {
   "cell_type": "code",
   "execution_count": 55,
   "metadata": {},
   "outputs": [],
   "source": [
    "# create a Connection object that represents the database\n",
    "# You can create a new database by changing the name within the quotes\n",
    "conn = sqlite3.connect('CourseData.db')  # You can create a new database by changing the name within the quotes\n",
    "\n",
    "# Once you have a Connection, you can create a Cursor object and call its execute() method to perform SQL commands:\n",
    "c = conn.cursor()\n",
    "\n",
    "# define the suffix of the CSV files for: 'CourseCatalog2018_2019.csv' and CourseCatalog2017_2018.csv\n",
    "catalog_years = ['2017_2018', '2018_2019']\n",
    "\n",
    "# ----------------------------------------------------------------\n",
    "# iterate through list 'catalog_years' and do the following:\n",
    "# ----------------------------------------------------------------\n",
    "# 1. define the filepath\n",
    "# 2. read in the csv file as a pandas dataframe\n",
    "# 3. trim all columns in the dataframe\n",
    "# 4. remove whitespaces in the dataframe\n",
    "# 5. add a new column CatalogYear in the dataframe\n",
    "# 6. Add the dataframe to the sqlite table 'IMPORT_COURSE_CATALOG'\n",
    "# ----------------------------------------------------------------\n",
    "for cat_year in catalog_years:\n",
    "    # define the dynamic filepath which will be loaded with an element from the list 'catalog_years'\n",
    "    filepath = 'SourceData/Catalogs/CourseCatalog{}.csv'.format(cat_year)\n",
    "    # convert the csv file to a pandas dataframe\n",
    "    data = pd.read_csv(filepath)\n",
    "    # apply fucntion to trim all the columns\n",
    "    data = trim_all_columns(data)\n",
    "    # apply function to remove whitespaces for the column 'program_code'\n",
    "    data['program_code'] = data['program_code'].apply(remove_whitespace)\n",
    "    data['CatalogYear'] = cat_year\n",
    "    data.to_sql('IMPORT_COURSE_CATALOG',conn,if_exists='append',index=False)\n",
    "\n",
    "# We close the connection of the 'CourseData.db' file when we are done with it.\n",
    "conn.close()\n",
    "\n",
    "\n",
    "# create a Connection object that represents the database\n",
    "# You can create a new database by changing the name within the quotes\n",
    "conn = sqlite3.connect('CourseData.db')  # You can create a new database by changing the name within the quotes\n",
    "\n",
    "# Once you have a Connection, you can create a Cursor object and call its execute() method to perform SQL commands:\n",
    "c = conn.cursor()\n",
    "\n",
    "# define the suffix of the CSV files for: 'CourseCatalog2018_2019_clean2.csv' and CourseCatalog2017_2018,etc..\n",
    "\n",
    "catalog_years = ['2015_2016' ,'2016_2017' ,'2017_2018' ,\"2018_2019\"]\n",
    "\n",
    "for cat_year in catalog_years:\n",
    "     # define the dynamic filepath which will be loaded with an element from the list 'catalog_years'\n",
    "\n",
    "    filepath = 'fixing_catalog_years/CourseCatalog{}_clean2.csv'.format(cat_year)\n",
    "    \n",
    "    # convert the csv file to a pandas dataframe\n",
    "\n",
    "    data = pd.read_csv(filepath , skipinitialspace=True,encoding = 'unicode_escape')\n",
    "   \n",
    "    data= data.drop(['Unnamed: 0.1.1','Unnamed: 0','Unnamed: 0.1' ,'YEAR' , \"SEMESTER\" ,\"term\"], axis=1, errors='ignore')\n",
    "    data.rename(columns = { 'Title' : 'course_title' }, inplace = True)\n",
    "    data.rename(columns = { 'catalog_id' : 'catalog_ID' }, inplace = True)\n",
    "    # apply fucntion to trim all the columns\n",
    "    data = trim_all_columns(data)\n",
    "    \n",
    "    data['CatalogYear'] = cat_year\n",
    "    data.to_sql('IMPORT_COURSE_CATALOG',conn,if_exists='append',index=False)\n",
    "    \n",
    "    \n",
    "\n",
    "   \n",
    "conn.close()"
   ]
  },
  {
   "cell_type": "markdown",
   "metadata": {},
   "source": [
    "<b> 2.9 Test if the data from the CSV files is loaded into the following IMPORT tables: </b>\n",
    "* IMPORT_COURSES\n",
    "* IMPORT_COURSE_CATALOG\n",
    "* IMPORT_COURSE_MEETINGS"
   ]
  },
  {
   "cell_type": "code",
   "execution_count": 56,
   "metadata": {},
   "outputs": [
    {
     "data": {
      "text/markdown": [
       "**Table :IMPORT_COURSES**"
      ],
      "text/plain": [
       "<IPython.core.display.Markdown object>"
      ]
     },
     "metadata": {},
     "output_type": "display_data"
    },
    {
     "data": {
      "text/html": [
       "<div>\n",
       "<style scoped>\n",
       "    .dataframe tbody tr th:only-of-type {\n",
       "        vertical-align: middle;\n",
       "    }\n",
       "\n",
       "    .dataframe tbody tr th {\n",
       "        vertical-align: top;\n",
       "    }\n",
       "\n",
       "    .dataframe thead th {\n",
       "        text-align: right;\n",
       "    }\n",
       "</style>\n",
       "<table border=\"1\" class=\"dataframe\">\n",
       "  <thead>\n",
       "    <tr style=\"text-align: right;\">\n",
       "      <th></th>\n",
       "      <th>term</th>\n",
       "      <th>crn</th>\n",
       "      <th>catalog_id</th>\n",
       "      <th>section</th>\n",
       "      <th>credits</th>\n",
       "      <th>title</th>\n",
       "      <th>meetings</th>\n",
       "      <th>timecodes</th>\n",
       "      <th>primary_instructor</th>\n",
       "      <th>cap</th>\n",
       "      <th>act</th>\n",
       "      <th>rem</th>\n",
       "      <th>instructor_fname</th>\n",
       "      <th>instructor_lname</th>\n",
       "      <th>semester</th>\n",
       "      <th>year</th>\n",
       "    </tr>\n",
       "  </thead>\n",
       "  <tbody>\n",
       "    <tr>\n",
       "      <th>0</th>\n",
       "      <td>Fall2014</td>\n",
       "      <td>70384</td>\n",
       "      <td>AC 0011</td>\n",
       "      <td>C01</td>\n",
       "      <td>3.000</td>\n",
       "      <td>Introduction to Financial Accounting</td>\n",
       "      <td>[{'days': 'TF', 'times': '0800am-0915am', 'dat...</td>\n",
       "      <td>['TF 0800am-0915am 09/02-12/08 DSB 105']</td>\n",
       "      <td>Michael P.  Coyne</td>\n",
       "      <td>0</td>\n",
       "      <td>31</td>\n",
       "      <td>-31</td>\n",
       "      <td>Michael P.</td>\n",
       "      <td>Coyne</td>\n",
       "      <td>Fall</td>\n",
       "      <td>2014</td>\n",
       "    </tr>\n",
       "    <tr>\n",
       "      <th>1</th>\n",
       "      <td>Fall2014</td>\n",
       "      <td>70385</td>\n",
       "      <td>AC 0011</td>\n",
       "      <td>C02</td>\n",
       "      <td>3.000</td>\n",
       "      <td>Introduction to Financial Accounting</td>\n",
       "      <td>[{'days': 'TF', 'times': '0930am-1045am', 'dat...</td>\n",
       "      <td>['TF 0930am-1045am 09/02-12/08 DSB 105']</td>\n",
       "      <td>Michael P.  Coyne</td>\n",
       "      <td>0</td>\n",
       "      <td>31</td>\n",
       "      <td>-31</td>\n",
       "      <td>Michael P.</td>\n",
       "      <td>Coyne</td>\n",
       "      <td>Fall</td>\n",
       "      <td>2014</td>\n",
       "    </tr>\n",
       "    <tr>\n",
       "      <th>2</th>\n",
       "      <td>Fall2014</td>\n",
       "      <td>70382</td>\n",
       "      <td>AC 0011</td>\n",
       "      <td>C03</td>\n",
       "      <td>3.000</td>\n",
       "      <td>Introduction to Financial Accounting</td>\n",
       "      <td>[{'days': 'TF', 'times': '1230pm-0145pm', 'dat...</td>\n",
       "      <td>['TF 1230pm-0145pm 09/02-12/08 DSB 105']</td>\n",
       "      <td>Michael P.  Coyne</td>\n",
       "      <td>0</td>\n",
       "      <td>31</td>\n",
       "      <td>-31</td>\n",
       "      <td>Michael P.</td>\n",
       "      <td>Coyne</td>\n",
       "      <td>Fall</td>\n",
       "      <td>2014</td>\n",
       "    </tr>\n",
       "    <tr>\n",
       "      <th>3</th>\n",
       "      <td>Fall2014</td>\n",
       "      <td>70291</td>\n",
       "      <td>AC 0011</td>\n",
       "      <td>C04</td>\n",
       "      <td>3.000</td>\n",
       "      <td>Introduction to Financial Accounting</td>\n",
       "      <td>[{'days': 'MR', 'times': '1100am-1215pm', 'dat...</td>\n",
       "      <td>['MR 1100am-1215pm 09/02-12/08 DSB 111']</td>\n",
       "      <td>Rebecca I.  Bloch</td>\n",
       "      <td>0</td>\n",
       "      <td>29</td>\n",
       "      <td>-29</td>\n",
       "      <td>Rebecca I.</td>\n",
       "      <td>Bloch</td>\n",
       "      <td>Fall</td>\n",
       "      <td>2014</td>\n",
       "    </tr>\n",
       "    <tr>\n",
       "      <th>4</th>\n",
       "      <td>Fall2014</td>\n",
       "      <td>70350</td>\n",
       "      <td>AC 0011</td>\n",
       "      <td>C05</td>\n",
       "      <td>3.000</td>\n",
       "      <td>Introduction to Financial Accounting</td>\n",
       "      <td>[{'days': 'MR', 'times': '1230pm-0145pm', 'dat...</td>\n",
       "      <td>['MR 1230pm-0145pm 09/02-12/08 DSB 111']</td>\n",
       "      <td>Rebecca I.  Bloch</td>\n",
       "      <td>0</td>\n",
       "      <td>30</td>\n",
       "      <td>-30</td>\n",
       "      <td>Rebecca I.</td>\n",
       "      <td>Bloch</td>\n",
       "      <td>Fall</td>\n",
       "      <td>2014</td>\n",
       "    </tr>\n",
       "  </tbody>\n",
       "</table>\n",
       "</div>"
      ],
      "text/plain": [
       "       term    crn catalog_id section credits  \\\n",
       "0  Fall2014  70384    AC 0011     C01   3.000   \n",
       "1  Fall2014  70385    AC 0011     C02   3.000   \n",
       "2  Fall2014  70382    AC 0011     C03   3.000   \n",
       "3  Fall2014  70291    AC 0011     C04   3.000   \n",
       "4  Fall2014  70350    AC 0011     C05   3.000   \n",
       "\n",
       "                                  title  \\\n",
       "0  Introduction to Financial Accounting   \n",
       "1  Introduction to Financial Accounting   \n",
       "2  Introduction to Financial Accounting   \n",
       "3  Introduction to Financial Accounting   \n",
       "4  Introduction to Financial Accounting   \n",
       "\n",
       "                                            meetings  \\\n",
       "0  [{'days': 'TF', 'times': '0800am-0915am', 'dat...   \n",
       "1  [{'days': 'TF', 'times': '0930am-1045am', 'dat...   \n",
       "2  [{'days': 'TF', 'times': '1230pm-0145pm', 'dat...   \n",
       "3  [{'days': 'MR', 'times': '1100am-1215pm', 'dat...   \n",
       "4  [{'days': 'MR', 'times': '1230pm-0145pm', 'dat...   \n",
       "\n",
       "                                  timecodes primary_instructor  cap  act  rem  \\\n",
       "0  ['TF 0800am-0915am 09/02-12/08 DSB 105']  Michael P.  Coyne    0   31  -31   \n",
       "1  ['TF 0930am-1045am 09/02-12/08 DSB 105']  Michael P.  Coyne    0   31  -31   \n",
       "2  ['TF 1230pm-0145pm 09/02-12/08 DSB 105']  Michael P.  Coyne    0   31  -31   \n",
       "3  ['MR 1100am-1215pm 09/02-12/08 DSB 111']  Rebecca I.  Bloch    0   29  -29   \n",
       "4  ['MR 1230pm-0145pm 09/02-12/08 DSB 111']  Rebecca I.  Bloch    0   30  -30   \n",
       "\n",
       "  instructor_fname instructor_lname semester  year  \n",
       "0       Michael P.            Coyne     Fall  2014  \n",
       "1       Michael P.            Coyne     Fall  2014  \n",
       "2       Michael P.            Coyne     Fall  2014  \n",
       "3       Rebecca I.            Bloch     Fall  2014  \n",
       "4       Rebecca I.            Bloch     Fall  2014  "
      ]
     },
     "metadata": {},
     "output_type": "display_data"
    },
    {
     "data": {
      "text/markdown": [
       "---"
      ],
      "text/plain": [
       "<IPython.core.display.Markdown object>"
      ]
     },
     "metadata": {},
     "output_type": "display_data"
    },
    {
     "data": {
      "text/markdown": [
       "**Table :IMPORT_COURSE_CATALOG**"
      ],
      "text/plain": [
       "<IPython.core.display.Markdown object>"
      ]
     },
     "metadata": {},
     "output_type": "display_data"
    },
    {
     "data": {
      "text/html": [
       "<div>\n",
       "<style scoped>\n",
       "    .dataframe tbody tr th:only-of-type {\n",
       "        vertical-align: middle;\n",
       "    }\n",
       "\n",
       "    .dataframe tbody tr th {\n",
       "        vertical-align: top;\n",
       "    }\n",
       "\n",
       "    .dataframe thead th {\n",
       "        text-align: right;\n",
       "    }\n",
       "</style>\n",
       "<table border=\"1\" class=\"dataframe\">\n",
       "  <thead>\n",
       "    <tr style=\"text-align: right;\">\n",
       "      <th></th>\n",
       "      <th>program_code</th>\n",
       "      <th>program_name</th>\n",
       "      <th>catalog_ID</th>\n",
       "      <th>course_title</th>\n",
       "      <th>credits</th>\n",
       "      <th>prereqs</th>\n",
       "      <th>coreqs</th>\n",
       "      <th>fees</th>\n",
       "      <th>attributes</th>\n",
       "      <th>description</th>\n",
       "      <th>CatalogYear</th>\n",
       "    </tr>\n",
       "  </thead>\n",
       "  <tbody>\n",
       "    <tr>\n",
       "      <th>0</th>\n",
       "      <td>AN</td>\n",
       "      <td>Asian Studies</td>\n",
       "      <td>AN 0301</td>\n",
       "      <td>Independent Study</td>\n",
       "      <td>1-3 Credits</td>\n",
       "      <td>None</td>\n",
       "      <td>None</td>\n",
       "      <td>None</td>\n",
       "      <td>None</td>\n",
       "      <td>Students undertake an individualized program o...</td>\n",
       "      <td>2017_2018</td>\n",
       "    </tr>\n",
       "    <tr>\n",
       "      <th>1</th>\n",
       "      <td>AN</td>\n",
       "      <td>Asian Studies</td>\n",
       "      <td>AN 0310</td>\n",
       "      <td>Asian Studies Seminar</td>\n",
       "      <td>3 Credits</td>\n",
       "      <td>None</td>\n",
       "      <td>None</td>\n",
       "      <td>None</td>\n",
       "      <td>None</td>\n",
       "      <td>This seminar examines selected topics concerni...</td>\n",
       "      <td>2017_2018</td>\n",
       "    </tr>\n",
       "    <tr>\n",
       "      <th>2</th>\n",
       "      <td>BU</td>\n",
       "      <td>Business</td>\n",
       "      <td>BU 0211</td>\n",
       "      <td>Legal Environment of Business</td>\n",
       "      <td>3 Credits</td>\n",
       "      <td>Junior standing.</td>\n",
       "      <td>None</td>\n",
       "      <td>None</td>\n",
       "      <td>None</td>\n",
       "      <td>This course examines the broad philosophical a...</td>\n",
       "      <td>2017_2018</td>\n",
       "    </tr>\n",
       "    <tr>\n",
       "      <th>3</th>\n",
       "      <td>BU</td>\n",
       "      <td>Business</td>\n",
       "      <td>BU 0220</td>\n",
       "      <td>Environmental Law and Policy</td>\n",
       "      <td>3 Credits</td>\n",
       "      <td>None</td>\n",
       "      <td>None</td>\n",
       "      <td>None</td>\n",
       "      <td>EVME Environmental Studies Major Elective, EVP...</td>\n",
       "      <td>This course surveys issues arising out of fede...</td>\n",
       "      <td>2017_2018</td>\n",
       "    </tr>\n",
       "    <tr>\n",
       "      <th>4</th>\n",
       "      <td>BU</td>\n",
       "      <td>Business</td>\n",
       "      <td>BU 0311</td>\n",
       "      <td>The Law of Contracts, Sales, and Property</td>\n",
       "      <td>3 Credits</td>\n",
       "      <td>BU 0211.</td>\n",
       "      <td>None</td>\n",
       "      <td>None</td>\n",
       "      <td>None</td>\n",
       "      <td>This course examines the components of common ...</td>\n",
       "      <td>2017_2018</td>\n",
       "    </tr>\n",
       "  </tbody>\n",
       "</table>\n",
       "</div>"
      ],
      "text/plain": [
       "  program_code   program_name catalog_ID  \\\n",
       "0           AN  Asian Studies    AN 0301   \n",
       "1           AN  Asian Studies    AN 0310   \n",
       "2           BU       Business    BU 0211   \n",
       "3           BU       Business    BU 0220   \n",
       "4           BU       Business    BU 0311   \n",
       "\n",
       "                                course_title      credits           prereqs  \\\n",
       "0                          Independent Study  1-3 Credits              None   \n",
       "1                      Asian Studies Seminar    3 Credits              None   \n",
       "2              Legal Environment of Business    3 Credits  Junior standing.   \n",
       "3               Environmental Law and Policy    3 Credits              None   \n",
       "4  The Law of Contracts, Sales, and Property    3 Credits          BU 0211.   \n",
       "\n",
       "  coreqs  fees                                         attributes  \\\n",
       "0   None  None                                               None   \n",
       "1   None  None                                               None   \n",
       "2   None  None                                               None   \n",
       "3   None  None  EVME Environmental Studies Major Elective, EVP...   \n",
       "4   None  None                                               None   \n",
       "\n",
       "                                         description CatalogYear  \n",
       "0  Students undertake an individualized program o...   2017_2018  \n",
       "1  This seminar examines selected topics concerni...   2017_2018  \n",
       "2  This course examines the broad philosophical a...   2017_2018  \n",
       "3  This course surveys issues arising out of fede...   2017_2018  \n",
       "4  This course examines the components of common ...   2017_2018  "
      ]
     },
     "metadata": {},
     "output_type": "display_data"
    },
    {
     "data": {
      "text/markdown": [
       "---"
      ],
      "text/plain": [
       "<IPython.core.display.Markdown object>"
      ]
     },
     "metadata": {},
     "output_type": "display_data"
    },
    {
     "data": {
      "text/markdown": [
       "**Table :IMPORT_COURSE_MEETINGS**"
      ],
      "text/plain": [
       "<IPython.core.display.Markdown object>"
      ]
     },
     "metadata": {},
     "output_type": "display_data"
    },
    {
     "data": {
      "text/html": [
       "<div>\n",
       "<style scoped>\n",
       "    .dataframe tbody tr th:only-of-type {\n",
       "        vertical-align: middle;\n",
       "    }\n",
       "\n",
       "    .dataframe tbody tr th {\n",
       "        vertical-align: top;\n",
       "    }\n",
       "\n",
       "    .dataframe thead th {\n",
       "        text-align: right;\n",
       "    }\n",
       "</style>\n",
       "<table border=\"1\" class=\"dataframe\">\n",
       "  <thead>\n",
       "    <tr style=\"text-align: right;\">\n",
       "      <th></th>\n",
       "      <th>crn</th>\n",
       "      <th>location</th>\n",
       "      <th>day</th>\n",
       "      <th>start</th>\n",
       "      <th>end</th>\n",
       "      <th>term</th>\n",
       "      <th>semester</th>\n",
       "      <th>year</th>\n",
       "      <th>BuildingName</th>\n",
       "      <th>BuildingCode</th>\n",
       "    </tr>\n",
       "  </thead>\n",
       "  <tbody>\n",
       "    <tr>\n",
       "      <th>0</th>\n",
       "      <td>70384</td>\n",
       "      <td>DSB 105</td>\n",
       "      <td>T</td>\n",
       "      <td>2014-09-02T08:00:00</td>\n",
       "      <td>2014-09-02T09:15:00</td>\n",
       "      <td>Fall2014</td>\n",
       "      <td>Fall</td>\n",
       "      <td>2014</td>\n",
       "      <td>Dolan School of Business</td>\n",
       "      <td>DSB</td>\n",
       "    </tr>\n",
       "    <tr>\n",
       "      <th>1</th>\n",
       "      <td>70384</td>\n",
       "      <td>DSB 105</td>\n",
       "      <td>F</td>\n",
       "      <td>2014-09-05T08:00:00</td>\n",
       "      <td>2014-09-05T09:15:00</td>\n",
       "      <td>Fall2014</td>\n",
       "      <td>Fall</td>\n",
       "      <td>2014</td>\n",
       "      <td>Dolan School of Business</td>\n",
       "      <td>DSB</td>\n",
       "    </tr>\n",
       "    <tr>\n",
       "      <th>2</th>\n",
       "      <td>70384</td>\n",
       "      <td>DSB 105</td>\n",
       "      <td>T</td>\n",
       "      <td>2014-09-09T08:00:00</td>\n",
       "      <td>2014-09-09T09:15:00</td>\n",
       "      <td>Fall2014</td>\n",
       "      <td>Fall</td>\n",
       "      <td>2014</td>\n",
       "      <td>Dolan School of Business</td>\n",
       "      <td>DSB</td>\n",
       "    </tr>\n",
       "    <tr>\n",
       "      <th>3</th>\n",
       "      <td>70384</td>\n",
       "      <td>DSB 105</td>\n",
       "      <td>F</td>\n",
       "      <td>2014-09-12T08:00:00</td>\n",
       "      <td>2014-09-12T09:15:00</td>\n",
       "      <td>Fall2014</td>\n",
       "      <td>Fall</td>\n",
       "      <td>2014</td>\n",
       "      <td>Dolan School of Business</td>\n",
       "      <td>DSB</td>\n",
       "    </tr>\n",
       "    <tr>\n",
       "      <th>4</th>\n",
       "      <td>70384</td>\n",
       "      <td>DSB 105</td>\n",
       "      <td>T</td>\n",
       "      <td>2014-09-16T08:00:00</td>\n",
       "      <td>2014-09-16T09:15:00</td>\n",
       "      <td>Fall2014</td>\n",
       "      <td>Fall</td>\n",
       "      <td>2014</td>\n",
       "      <td>Dolan School of Business</td>\n",
       "      <td>DSB</td>\n",
       "    </tr>\n",
       "  </tbody>\n",
       "</table>\n",
       "</div>"
      ],
      "text/plain": [
       "     crn location day                start                  end      term  \\\n",
       "0  70384  DSB 105   T  2014-09-02T08:00:00  2014-09-02T09:15:00  Fall2014   \n",
       "1  70384  DSB 105   F  2014-09-05T08:00:00  2014-09-05T09:15:00  Fall2014   \n",
       "2  70384  DSB 105   T  2014-09-09T08:00:00  2014-09-09T09:15:00  Fall2014   \n",
       "3  70384  DSB 105   F  2014-09-12T08:00:00  2014-09-12T09:15:00  Fall2014   \n",
       "4  70384  DSB 105   T  2014-09-16T08:00:00  2014-09-16T09:15:00  Fall2014   \n",
       "\n",
       "  semester  year              BuildingName BuildingCode  \n",
       "0     Fall  2014  Dolan School of Business          DSB  \n",
       "1     Fall  2014  Dolan School of Business          DSB  \n",
       "2     Fall  2014  Dolan School of Business          DSB  \n",
       "3     Fall  2014  Dolan School of Business          DSB  \n",
       "4     Fall  2014  Dolan School of Business          DSB  "
      ]
     },
     "metadata": {},
     "output_type": "display_data"
    },
    {
     "data": {
      "text/markdown": [
       "---"
      ],
      "text/plain": [
       "<IPython.core.display.Markdown object>"
      ]
     },
     "metadata": {},
     "output_type": "display_data"
    }
   ],
   "source": [
    "# create a Connection object that represents the database\n",
    "engine = create_engine(\"sqlite:///CourseData.db\")\n",
    "\n",
    "# define the list with the names of the SQL IMPORT tables\n",
    "dbtable = ['IMPORT_COURSES' ,'IMPORT_COURSE_CATALOG' , 'IMPORT_COURSE_MEETINGS']\n",
    "\n",
    "# Iterate through the list of tables and display the first 5 rows for each IMPORT table\n",
    "for i in dbtable :\n",
    "    # print out the Table name as a reference to the user above the dataframe\n",
    "    display(Markdown('**Table :{}**'.format( i)))\n",
    "    # convert the SQL tables to a pandas dataframe\n",
    "    tables = pd.read_sql_table(i,engine)\n",
    "    # display the first 5 rows of the IMPORT TABLE\n",
    "    display(tables.head())\n",
    "    display(Markdown(\"---\"))"
   ]
  },
  {
   "cell_type": "markdown",
   "metadata": {},
   "source": [
    "<a id = \"3\"> <h2> 3. Create Tables from ERD </h2> </a>\n",
    "___\n",
    "To reference the ERD, please click this [link](docs/CourseDataERDv1.pdf)"
   ]
  },
  {
   "cell_type": "markdown",
   "metadata": {},
   "source": [
    "Create the following SQLITE tables:\n",
    "* PROGRAMS\n",
    "* FACULTY\n",
    "* LOCATION\n",
    "* COURSE\n",
    "* COURSE_OFFERING\n",
    "* CLASS_MEETINGS\n",
    "* CATALOG_YEAR"
   ]
  },
  {
   "cell_type": "code",
   "execution_count": 57,
   "metadata": {},
   "outputs": [],
   "source": [
    "# Create a new Engine instance - create an in-memory-only SQLite database\n",
    "# You can create a new database by changing the name within the quotes\n",
    "conn = sqlite3.connect('CourseData.db')  \n",
    "\n",
    "# Once you have a Connection, you can create a Cursor object and call its execute() method to perform SQL commands:\n",
    "c = conn.cursor()\n",
    "\n",
    "# Create table - PROGRAMS\n",
    "c.execute('''DROP TABLE IF EXISTS PROGRAMS''')\n",
    "c.execute('''CREATE TABLE PROGRAMS ( \n",
    "    [PID] INTEGER PRIMARY KEY,\n",
    "    [program_code] TEXT NOT NULL,\n",
    "    [program_name] TEXT NOT NULL)''')\n",
    "\n",
    "# Create table - FACULTY\n",
    "c.execute('''DROP TABLE IF EXISTS FACULTY''')\n",
    "c.execute('''CREATE TABLE FACULTY ( \n",
    "    [FID] INTEGER PRIMARY KEY,\n",
    "    [instructor_fname] TEXT NOT NULL,\n",
    "    [instructor_lname] TEXT NOT NULL)''')\n",
    "\n",
    "# Create table - LOCATION\n",
    "c.execute('''DROP TABLE IF EXISTS LOCATION''')\n",
    "c.execute('''CREATE TABLE LOCATION ( \n",
    "    [LID] INTEGER PRIMARY KEY,\n",
    "    [BuildingName] TEXT,\n",
    "    [BuildingCode] TEXT,\n",
    "    [location] TEXT)''')\n",
    "\n",
    "# Create table - COURSE\n",
    "c.execute('''DROP TABLE IF EXISTS COURSE''')\n",
    "c.execute('''CREATE TABLE COURSE ( \n",
    "    [CID] INTEGER PRIMARY KEY,\n",
    "    [PID] INTEGER NOT NULL,\n",
    "    [CatalogYear] TEXT NOT NULL,\n",
    "    [catalog_ID] TEXT NOT NULL,\n",
    "    [course_title] TEXT NOT NULL,\n",
    "    [credits] TEXT NOT NULL,\n",
    "    [prereqs] TEXT,\n",
    "    [coreqs] TEXT,\n",
    "    [fees] TEXT,\n",
    "    [attributes] TEXT,\n",
    "    [description] TEXT,\n",
    "    FOREIGN KEY (PID) REFERENCES PROGRAMS (PID)\n",
    ")''')\n",
    "\n",
    "# Create table - COURSE_OFFERING\n",
    "c.execute('''DROP TABLE IF EXISTS COURSE_OFFERING''')\n",
    "c.execute('''CREATE TABLE COURSE_OFFERING ( \n",
    "    [COID] INTEGER PRIMARY KEY,\n",
    "    [CID] INTEGER,\n",
    "    [FID] INTEGER NOT NULL,\n",
    "    [CRN] TEXT NOT NULL,\n",
    "    [SEMESTER] TEXT NOT NULL,\n",
    "    [YEAR] INTEGER NOT NULL,\n",
    "    [TITLE] TEXT NOT NULL,\n",
    "    [CATALOG_ID] TEXT,\n",
    "    [CatalogYear] TEXT,\n",
    "    [MEETINGS] TEXT,\n",
    "    [TIMECODES] TEXT,\n",
    "    [SECTION] TEXT NOT NULL,\n",
    "    [CAP] INTEGER NOT NULL,\n",
    "    [ACT] INTEGER NOT NULL,\n",
    "    [REM] INTEGER NOT NULL,\n",
    "    [instructor_lname] TEXT,\n",
    "    [instructor_fname] TEXT,\n",
    "    FOREIGN KEY (CID) REFERENCES COURSE (CID)\n",
    "    FOREIGN KEY (FID) REFERENCES FACULTY (FID)\n",
    ")''')\n",
    "\n",
    "# Create table - CLASS_MEETINGS\n",
    "c.execute('''DROP TABLE IF EXISTS CLASS_MEETINGS''')\n",
    "c.execute('''CREATE TABLE CLASS_MEETINGS ( \n",
    "    [CMID] INTEGER PRIMARY KEY,\n",
    "    [COID] INTEGER,\n",
    "    [LID] INTEGER,\n",
    "    [DAY] TEXT,\n",
    "    [START] TEXT,\n",
    "    [END] TEXT,\n",
    "    [CRN] TEXT,\n",
    "    [SEMESTER] TEXT NOT NULL,\n",
    "    [YEAR] INTEGER NOT NULL,\n",
    "    FOREIGN KEY (LID) REFERENCES LOCATION (LID)\n",
    "    FOREIGN KEY (COID) REFERENCES COURSE_OFFERING (COID)\n",
    ")''')\n",
    "\n",
    "# Create table - CATALOG_YEAR\n",
    "c.execute('''DROP TABLE IF EXISTS CATALOG_YEAR''')\n",
    "c.execute('''CREATE TABLE CATALOG_YEAR (\n",
    "    [CatalogYear] TEXT,\n",
    "    [YEAR] INTERGER ,\n",
    "    [SEMESTER] TEXT\n",
    ")''')\n",
    "         \n",
    "# Save (commit) the changes    \n",
    "conn.commit()\n",
    "\n",
    "# We can also close the connection if we are done with it.\n",
    "# Just be sure any changes have been committed or they will be lost.\n",
    "conn.close()"
   ]
  },
  {
   "cell_type": "markdown",
   "metadata": {},
   "source": [
    "<a id = \"4\"> <h2> 4. Populate the ERD Tables from The Imported Data Tables </h2> </a>\n",
    "___"
   ]
  },
  {
   "cell_type": "markdown",
   "metadata": {},
   "source": [
    "Populate the following SQLITE tables in this order:\n",
    "1. CATALOG_YEAR\n",
    "2. PROGRAMS\n",
    "3. FACULTY\n",
    "4. LOCATION\n",
    "5. COURSE\n",
    "6. COURSE_OFFERING\n",
    "7. CLASS_MEETINGS"
   ]
  },
  {
   "cell_type": "code",
   "execution_count": 58,
   "metadata": {},
   "outputs": [],
   "source": [
    "# Connect to the database 'CourseData'\n",
    "conn = sqlite3.connect('CourseData.db')\n",
    "\n",
    "# Once you have a Connection, you can create a Cursor object and call its execute() method to perform SQL commands:\n",
    "c = conn.cursor()\n",
    "\n",
    "#  INSERT Data Into Table: 'CATALOG_YEAR' for 3 columns: Semester,Year and CatalogYear \n",
    "c.execute('''INSERT INTO CATALOG_YEAR (Semester,Year,CatalogYear) VALUES \n",
    "('Fall','2014','2014_2015'),('Winter','2015','2014_2015'),\n",
    "('Spring','2015','2014_2015'),('Summer','2015','2014_2015'),\n",
    "('Fall','2015','2015_2016'),('Winter','2016','2015_2016'),\n",
    "('Spring','2016','2015_2016'),('Summer','2016','2015_2016'),\n",
    "('Fall','2016','2016_2017'),('Winter','2017','2016_2017'),\n",
    "('Spring','2017','2016_2017'),('SpringBreak','2017','2016_2017'),\n",
    "('Summer','2017','2016_2017'),('Fall','2017','2017_2018'),\n",
    "('Winter','2018','2017_2018'),('Spring','2018','2017_2018'),\n",
    "('Summer','2018','2017_2018'),('Fall','2018','2018_2019'),\n",
    "('Winter','2019','2018_2019'),('Spring','2019','2018_2019')'''\n",
    "         )\n",
    "\n",
    "# INSERT Data into Table: 'PROGRAMS' FROM 'IMPORT_COURSE_CATALOG'\n",
    "c.execute('''INSERT INTO PROGRAMS (program_code,program_name) \n",
    "SELECT DISTINCT program_code,program_name\n",
    "FROM IMPORT_COURSE_CATALOG''')\n",
    "\n",
    "# INSERT Data into Table: 'FACULTY' for 2 columns: first names and last names of instructors FROM table 'IMPORT_COURSES'\n",
    "c.execute('''INSERT INTO FACULTY (instructor_lname, instructor_fname)\n",
    "SELECT DISTINCT instructor_lname, instructor_fname\n",
    "FROM IMPORT_COURSES''')\n",
    "\n",
    "# INSERT Data into Table: 'LOCATION' FROM 'IMPORT_COURSE_MEETINGS'\n",
    "c.execute('''INSERT INTO LOCATION (BuildingName, BuildingCode, Location) \n",
    "SELECT DISTINCT BuildingName,BuildingCode,location\n",
    "FROM IMPORT_COURSE_MEETINGS''')\n",
    "\n",
    "# INSERT Data into Table: 'COURSE' FROM 'IMPORT_COURSE_CATALOG'\n",
    "c.execute('''INSERT INTO COURSE (PID, CatalogYear, Catalog_ID, Course_Title, Credits, Prereqs, Coreqs, Fees, Attributes, Description)\n",
    "SELECT DISTINCT PID,CatalogYear,Catalog_ID,Course_Title,Credits,Prereqs,Coreqs,Fees,Attributes,Description\n",
    "FROM IMPORT_COURSE_CATALOG\n",
    "     JOIN PROGRAMS ON (PROGRAMS.program_code=IMPORT_COURSE_CATALOG.program_code)''')\n",
    "\n",
    "# INSERT Data into Table: 'COURSE_OFFERING'\n",
    "c.execute('''INSERT INTO COURSE_OFFERING (CID, FID, CRN, Semester, Year, Title, Catalog_ID, CatalogYear, Meetings, Timecodes, Section, Cap, Act, Rem, instructor_lname, instructor_fname)\n",
    "SELECT DISTINCT CID, FID, CRN, Semester, Year, Title, catalog_ID, CatalogYear, Meetings, Timecodes, Section, Cap, Act, Rem, instructor_lname, instructor_fname\n",
    "FROM IMPORT_COURSES\n",
    "    LEFT JOIN CATALOG_YEAR using(semester, year)\n",
    "    LEFT JOIN COURSE using( CatalogYear, catalog_ID)\n",
    "    LEFT JOIN FACULTY using (instructor_lname, instructor_fname)''')\n",
    "\n",
    "# INSERT Data into Table: 'CLASS_MEETINGS'\n",
    "c.execute('''INSERT INTO CLASS_MEETINGS (COID, LID, CRN, Day, Start, End, SEMESTER, YEAR)\n",
    "SELECT DISTINCT COURSE_OFFERING.COID, LOCATION.LID, COURSE_OFFERING.CRN, Day, Start, End, COURSE_OFFERING.SEMESTER, COURSE_OFFERING.YEAR\n",
    "FROM IMPORT_COURSE_MEETINGS\n",
    "    JOIN COURSE_OFFERING USING (SEMESTER, YEAR, CRN)\n",
    "    LEFT JOIN LOCATION ON (IMPORT_COURSE_MEETINGS.Location = LOCATION.location)''')\n",
    "\n",
    "# Save (commit) the changes              \n",
    "conn.commit()\n",
    "\n",
    "# Close the connection\n",
    "# Just be sure any changes have been committed or they will be lost.\n",
    "conn.close()"
   ]
  },
  {
   "cell_type": "markdown",
   "metadata": {},
   "source": [
    "<a id = \"5\"> <h2> 5. Empty out the IMPORT Tables to reclaim storage space </h2> </a>\n",
    "___    "
   ]
  },
  {
   "cell_type": "markdown",
   "metadata": {},
   "source": [
    "<b> 6.1 Drop IMPORT tables in the database: </b>\n",
    "- IMPORT_COURSE_MEETINGS\n",
    "- IMPORT_COURSES\n",
    "- IMPORT_COURSE_CATALOG\n",
    "<br> _Note:_ We no longer need these tables, because the data is already imported into our ERD Tables."
   ]
  },
  {
   "cell_type": "code",
   "execution_count": 59,
   "metadata": {},
   "outputs": [
    {
     "data": {
      "text/plain": [
       "'Connected: @CourseData.db'"
      ]
     },
     "execution_count": 59,
     "metadata": {},
     "output_type": "execute_result"
    }
   ],
   "source": [
    "#%load_ext sql\n",
    "%reload_ext sql\n",
    "\n",
    "# initialize a database connection\n",
    "%sql sqlite:///CourseData.db"
   ]
  },
  {
   "cell_type": "code",
   "execution_count": 60,
   "metadata": {},
   "outputs": [
    {
     "name": "stdout",
     "output_type": "stream",
     "text": [
      " * sqlite:///CourseData.db\n",
      "Done.\n",
      "15937 rows affected.\n",
      "6775 rows affected.\n"
     ]
    },
    {
     "data": {
      "text/plain": [
       "[]"
      ]
     },
     "execution_count": 60,
     "metadata": {},
     "output_type": "execute_result"
    }
   ],
   "source": [
    "%%sql\n",
    "-- Delete all data\n",
    "DELETE FROM IMPORT_COURSE_MEETINGS;\n",
    "DELETE FROM IMPORT_COURSES;\n",
    "DELETE FROM IMPORT_COURSE_CATALOG;"
   ]
  },
  {
   "cell_type": "code",
   "execution_count": 61,
   "metadata": {},
   "outputs": [
    {
     "name": "stdout",
     "output_type": "stream",
     "text": [
      " * sqlite:///CourseData.db\n",
      "Done.\n",
      "Done.\n",
      "Done.\n"
     ]
    },
    {
     "data": {
      "text/plain": [
       "[]"
      ]
     },
     "execution_count": 61,
     "metadata": {},
     "output_type": "execute_result"
    }
   ],
   "source": [
    "%%sql\n",
    "-- Drop the tables\n",
    "DROP TABLE IMPORT_COURSE_MEETINGS;\n",
    "DROP TABLE IMPORT_COURSES;\n",
    "DROP TABLE IMPORT_COURSE_CATALOG;"
   ]
  },
  {
   "cell_type": "code",
   "execution_count": 62,
   "metadata": {},
   "outputs": [
    {
     "data": {
      "text/html": [
       "<div>\n",
       "<style scoped>\n",
       "    .dataframe tbody tr th:only-of-type {\n",
       "        vertical-align: middle;\n",
       "    }\n",
       "\n",
       "    .dataframe tbody tr th {\n",
       "        vertical-align: top;\n",
       "    }\n",
       "\n",
       "    .dataframe thead th {\n",
       "        text-align: right;\n",
       "    }\n",
       "</style>\n",
       "<table border=\"1\" class=\"dataframe\">\n",
       "  <thead>\n",
       "    <tr style=\"text-align: right;\">\n",
       "      <th></th>\n",
       "      <th>type</th>\n",
       "      <th>DatabaseTables</th>\n",
       "      <th>tbl_name</th>\n",
       "      <th>rootpage</th>\n",
       "      <th>sql</th>\n",
       "    </tr>\n",
       "  </thead>\n",
       "  <tbody>\n",
       "    <tr>\n",
       "      <th>0</th>\n",
       "      <td>table</td>\n",
       "      <td>PROGRAMS</td>\n",
       "      <td>PROGRAMS</td>\n",
       "      <td>2</td>\n",
       "      <td>CREATE TABLE PROGRAMS ( \\n    [PID] INTEGER PRIMARY KEY,\\n    [program_code] TEXT NOT NULL,\\n    [program_name] TEXT NOT NULL)</td>\n",
       "    </tr>\n",
       "    <tr>\n",
       "      <th>1</th>\n",
       "      <td>table</td>\n",
       "      <td>FACULTY</td>\n",
       "      <td>FACULTY</td>\n",
       "      <td>3</td>\n",
       "      <td>CREATE TABLE FACULTY ( \\n    [FID] INTEGER PRIMARY KEY,\\n    [instructor_fname] TEXT NOT NULL,\\n    [instructor_lname] TEXT NOT NULL)</td>\n",
       "    </tr>\n",
       "    <tr>\n",
       "      <th>2</th>\n",
       "      <td>table</td>\n",
       "      <td>LOCATION</td>\n",
       "      <td>LOCATION</td>\n",
       "      <td>4</td>\n",
       "      <td>CREATE TABLE LOCATION ( \\n    [LID] INTEGER PRIMARY KEY,\\n    [BuildingName] TEXT,\\n    [BuildingCode] TEXT,\\n    [location] TEXT)</td>\n",
       "    </tr>\n",
       "    <tr>\n",
       "      <th>3</th>\n",
       "      <td>table</td>\n",
       "      <td>COURSE</td>\n",
       "      <td>COURSE</td>\n",
       "      <td>5</td>\n",
       "      <td>CREATE TABLE COURSE ( \\n    [CID] INTEGER PRIMARY KEY,\\n    [PID] INTEGER NOT NULL,\\n    [CatalogYear] TEXT NOT NULL,\\n    [catalog_ID] TEXT NOT NULL,\\n    [course_title] TEXT NOT NULL,\\n    [credits] TEXT NOT NULL,\\n    [prereqs] TEXT,\\n    [coreqs] TEXT,\\n    [fees] TEXT,\\n    [attributes] TEXT,\\n    [description] TEXT,\\n    FOREIGN KEY (PID) REFERENCES PROGRAMS (PID)\\n)</td>\n",
       "    </tr>\n",
       "    <tr>\n",
       "      <th>4</th>\n",
       "      <td>table</td>\n",
       "      <td>COURSE_OFFERING</td>\n",
       "      <td>COURSE_OFFERING</td>\n",
       "      <td>6</td>\n",
       "      <td>CREATE TABLE COURSE_OFFERING ( \\n    [COID] INTEGER PRIMARY KEY,\\n    [CID] INTEGER,\\n    [FID] INTEGER NOT NULL,\\n    [CRN] TEXT NOT NULL,\\n    [SEMESTER] TEXT NOT NULL,\\n    [YEAR] INTEGER NOT NULL,\\n    [TITLE] TEXT NOT NULL,\\n    [CATALOG_ID] TEXT,\\n    [CatalogYear] TEXT,\\n    [MEETINGS] TEXT,\\n    [TIMECODES] TEXT,\\n    [SECTION] TEXT NOT NULL,\\n    [CAP] INTEGER NOT NULL,\\n    [ACT] INTEGER NOT NULL,\\n    [REM] INTEGER NOT NULL,\\n    [instructor_lname] TEXT,\\n    [instructor_fname] TEXT,\\n    FOREIGN KEY (CID) REFERENCES COURSE (CID)\\n    FOREIGN KEY (FID) REFERENCES FACULTY (FID)\\n)</td>\n",
       "    </tr>\n",
       "    <tr>\n",
       "      <th>5</th>\n",
       "      <td>table</td>\n",
       "      <td>CLASS_MEETINGS</td>\n",
       "      <td>CLASS_MEETINGS</td>\n",
       "      <td>7</td>\n",
       "      <td>CREATE TABLE CLASS_MEETINGS ( \\n    [CMID] INTEGER PRIMARY KEY,\\n    [COID] INTEGER,\\n    [LID] INTEGER,\\n    [DAY] TEXT,\\n    [START] TEXT,\\n    [END] TEXT,\\n    [CRN] TEXT,\\n    [SEMESTER] TEXT NOT NULL,\\n    [YEAR] INTEGER NOT NULL,\\n    FOREIGN KEY (LID) REFERENCES LOCATION (LID)\\n    FOREIGN KEY (COID) REFERENCES COURSE_OFFERING (COID)\\n)</td>\n",
       "    </tr>\n",
       "    <tr>\n",
       "      <th>6</th>\n",
       "      <td>table</td>\n",
       "      <td>CATALOG_YEAR</td>\n",
       "      <td>CATALOG_YEAR</td>\n",
       "      <td>8</td>\n",
       "      <td>CREATE TABLE CATALOG_YEAR (\\n    [CatalogYear] TEXT,\\n    [YEAR] INTERGER ,\\n    [SEMESTER] TEXT\\n)</td>\n",
       "    </tr>\n",
       "  </tbody>\n",
       "</table>\n",
       "</div>"
      ],
      "text/plain": [
       "    type   DatabaseTables         tbl_name  rootpage  \\\n",
       "0  table  PROGRAMS         PROGRAMS         2          \n",
       "1  table  FACULTY          FACULTY          3          \n",
       "2  table  LOCATION         LOCATION         4          \n",
       "3  table  COURSE           COURSE           5          \n",
       "4  table  COURSE_OFFERING  COURSE_OFFERING  6          \n",
       "5  table  CLASS_MEETINGS   CLASS_MEETINGS   7          \n",
       "6  table  CATALOG_YEAR     CATALOG_YEAR     8          \n",
       "\n",
       "                                                                                                                                                                                                                                                                                                                                                                                                                                                                                                                                                                                                                     sql  \n",
       "0  CREATE TABLE PROGRAMS ( \\n    [PID] INTEGER PRIMARY KEY,\\n    [program_code] TEXT NOT NULL,\\n    [program_name] TEXT NOT NULL)                                                                                                                                                                                                                                                                                                                                                                                                                                                                                         \n",
       "1  CREATE TABLE FACULTY ( \\n    [FID] INTEGER PRIMARY KEY,\\n    [instructor_fname] TEXT NOT NULL,\\n    [instructor_lname] TEXT NOT NULL)                                                                                                                                                                                                                                                                                                                                                                                                                                                                                  \n",
       "2  CREATE TABLE LOCATION ( \\n    [LID] INTEGER PRIMARY KEY,\\n    [BuildingName] TEXT,\\n    [BuildingCode] TEXT,\\n    [location] TEXT)                                                                                                                                                                                                                                                                                                                                                                                                                                                                                     \n",
       "3  CREATE TABLE COURSE ( \\n    [CID] INTEGER PRIMARY KEY,\\n    [PID] INTEGER NOT NULL,\\n    [CatalogYear] TEXT NOT NULL,\\n    [catalog_ID] TEXT NOT NULL,\\n    [course_title] TEXT NOT NULL,\\n    [credits] TEXT NOT NULL,\\n    [prereqs] TEXT,\\n    [coreqs] TEXT,\\n    [fees] TEXT,\\n    [attributes] TEXT,\\n    [description] TEXT,\\n    FOREIGN KEY (PID) REFERENCES PROGRAMS (PID)\\n)                                                                                                                                                                                                                                \n",
       "4  CREATE TABLE COURSE_OFFERING ( \\n    [COID] INTEGER PRIMARY KEY,\\n    [CID] INTEGER,\\n    [FID] INTEGER NOT NULL,\\n    [CRN] TEXT NOT NULL,\\n    [SEMESTER] TEXT NOT NULL,\\n    [YEAR] INTEGER NOT NULL,\\n    [TITLE] TEXT NOT NULL,\\n    [CATALOG_ID] TEXT,\\n    [CatalogYear] TEXT,\\n    [MEETINGS] TEXT,\\n    [TIMECODES] TEXT,\\n    [SECTION] TEXT NOT NULL,\\n    [CAP] INTEGER NOT NULL,\\n    [ACT] INTEGER NOT NULL,\\n    [REM] INTEGER NOT NULL,\\n    [instructor_lname] TEXT,\\n    [instructor_fname] TEXT,\\n    FOREIGN KEY (CID) REFERENCES COURSE (CID)\\n    FOREIGN KEY (FID) REFERENCES FACULTY (FID)\\n)  \n",
       "5  CREATE TABLE CLASS_MEETINGS ( \\n    [CMID] INTEGER PRIMARY KEY,\\n    [COID] INTEGER,\\n    [LID] INTEGER,\\n    [DAY] TEXT,\\n    [START] TEXT,\\n    [END] TEXT,\\n    [CRN] TEXT,\\n    [SEMESTER] TEXT NOT NULL,\\n    [YEAR] INTEGER NOT NULL,\\n    FOREIGN KEY (LID) REFERENCES LOCATION (LID)\\n    FOREIGN KEY (COID) REFERENCES COURSE_OFFERING (COID)\\n)                                                                                                                                                                                                                                                              \n",
       "6  CREATE TABLE CATALOG_YEAR (\\n    [CatalogYear] TEXT,\\n    [YEAR] INTERGER ,\\n    [SEMESTER] TEXT\\n)                                                                                                                                                                                                                                                                                                                                                                                                                                                                                                                    "
      ]
     },
     "execution_count": 62,
     "metadata": {},
     "output_type": "execute_result"
    }
   ],
   "source": [
    "# show non-truncated long strings in pandas columns\n",
    "pd.set_option('display.max_colwidth', -1)\n",
    "\n",
    "#checking the db tables after dropping the import tables.\n",
    "query = 'SELECT * from sqlite_master where type= \"table\"'\n",
    "engine = create_engine(\"sqlite:///CourseData.db\")\n",
    "\n",
    "tables = pd.read_sql_query(query,engine)\n",
    "tables = tables.rename(columns={\"name\": \"DatabaseTables\"})\n",
    "tables"
   ]
  },
  {
   "cell_type": "code",
   "execution_count": 63,
   "metadata": {},
   "outputs": [
    {
     "name": "stdout",
     "output_type": "stream",
     "text": [
      " * sqlite:///CourseData.db\n",
      "Done.\n"
     ]
    },
    {
     "data": {
      "text/plain": [
       "[]"
      ]
     },
     "execution_count": 63,
     "metadata": {},
     "output_type": "execute_result"
    }
   ],
   "source": [
    "%%sql\n",
    "-- Force SQLite to rebuild the database file to minimize file size\n",
    "vacuum;"
   ]
  },
  {
   "cell_type": "code",
   "execution_count": null,
   "metadata": {},
   "outputs": [],
   "source": []
  }
 ],
 "metadata": {
  "kernelspec": {
   "display_name": "Python 3",
   "language": "python",
   "name": "python3"
  },
  "language_info": {
   "codemirror_mode": {
    "name": "ipython",
    "version": 3
   },
   "file_extension": ".py",
   "mimetype": "text/x-python",
   "name": "python",
   "nbconvert_exporter": "python",
   "pygments_lexer": "ipython3",
   "version": "3.6.7"
  }
 },
 "nbformat": 4,
 "nbformat_minor": 4
}
