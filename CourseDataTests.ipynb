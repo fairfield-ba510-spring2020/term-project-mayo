{
 "cells": [
  {
   "cell_type": "code",
   "execution_count": 1,
   "metadata": {},
   "outputs": [],
   "source": [
    "import sqlite3\n",
    "import pandas as pd\n",
    "from sqlalchemy import create_engine"
   ]
  },
  {
   "cell_type": "code",
   "execution_count": 16,
   "metadata": {},
   "outputs": [
    {
     "name": "stdout",
     "output_type": "stream",
     "text": [
      "                         instructor lookup\n"
     ]
    },
    {
     "name": "stdin",
     "output_type": "stream",
     "text": [
      "Enter the instructor's last name tao\n",
      "Enter the year you wish to see or type in No to see all the years: 2018\n",
      "Enter the semseter you wish to see or type in No to see all the courses that the instructor is teaching in 2018 : spring\n"
     ]
    },
    {
     "data": {
      "text/html": [
       "<div>\n",
       "<style scoped>\n",
       "    .dataframe tbody tr th:only-of-type {\n",
       "        vertical-align: middle;\n",
       "    }\n",
       "\n",
       "    .dataframe tbody tr th {\n",
       "        vertical-align: top;\n",
       "    }\n",
       "\n",
       "    .dataframe thead th {\n",
       "        text-align: right;\n",
       "    }\n",
       "</style>\n",
       "<table border=\"1\" class=\"dataframe\">\n",
       "  <thead>\n",
       "    <tr style=\"text-align: right;\">\n",
       "      <th></th>\n",
       "      <th>instructor_fname</th>\n",
       "      <th>instructor_lname</th>\n",
       "      <th>TITLE</th>\n",
       "      <th>CATALOG_ID</th>\n",
       "      <th>SECTION</th>\n",
       "      <th>SEMESTER</th>\n",
       "      <th>YEAR</th>\n",
       "    </tr>\n",
       "  </thead>\n",
       "  <tbody>\n",
       "    <tr>\n",
       "      <th>0</th>\n",
       "      <td>Jie</td>\n",
       "      <td>Tao</td>\n",
       "      <td>Introduction to Information Systems</td>\n",
       "      <td>IS 0100</td>\n",
       "      <td>06</td>\n",
       "      <td>Spring</td>\n",
       "      <td>2018</td>\n",
       "    </tr>\n",
       "    <tr>\n",
       "      <th>1</th>\n",
       "      <td>Jie</td>\n",
       "      <td>Tao</td>\n",
       "      <td>Introduction to Information Systems</td>\n",
       "      <td>IS 0100</td>\n",
       "      <td>08</td>\n",
       "      <td>Spring</td>\n",
       "      <td>2018</td>\n",
       "    </tr>\n",
       "    <tr>\n",
       "      <th>2</th>\n",
       "      <td>Jie</td>\n",
       "      <td>Tao</td>\n",
       "      <td>Data Mining and Business Intelligence</td>\n",
       "      <td>IS 0540</td>\n",
       "      <td>01</td>\n",
       "      <td>Spring</td>\n",
       "      <td>2018</td>\n",
       "    </tr>\n",
       "    <tr>\n",
       "      <th>3</th>\n",
       "      <td>Jie</td>\n",
       "      <td>Tao</td>\n",
       "      <td>Independent Study: Business Analytics and Big ...</td>\n",
       "      <td>IS 0598</td>\n",
       "      <td>JT</td>\n",
       "      <td>Spring</td>\n",
       "      <td>2018</td>\n",
       "    </tr>\n",
       "  </tbody>\n",
       "</table>\n",
       "</div>"
      ],
      "text/plain": [
       "  instructor_fname instructor_lname  \\\n",
       "0              Jie              Tao   \n",
       "1              Jie              Tao   \n",
       "2              Jie              Tao   \n",
       "3              Jie              Tao   \n",
       "\n",
       "                                               TITLE CATALOG_ID SECTION  \\\n",
       "0                Introduction to Information Systems    IS 0100      06   \n",
       "1                Introduction to Information Systems    IS 0100      08   \n",
       "2              Data Mining and Business Intelligence    IS 0540      01   \n",
       "3  Independent Study: Business Analytics and Big ...    IS 0598      JT   \n",
       "\n",
       "  SEMESTER  YEAR  \n",
       "0   Spring  2018  \n",
       "1   Spring  2018  \n",
       "2   Spring  2018  \n",
       "3   Spring  2018  "
      ]
     },
     "execution_count": 16,
     "metadata": {},
     "output_type": "execute_result"
    }
   ],
   "source": [
    "print(\"                         instructor lookup\")\n",
    "engine = create_engine(\"sqlite:///TestDB.db\")\n",
    "input_instructor = input(\"Enter the instructor's last name\")\n",
    "\n",
    "input_year = input(\"Enter the year you wish to see or type in No to see all the years:\").lower()\n",
    "if input_year == \"no\" or  input_year == \"n\" or  input_year == \"nah\" :\n",
    "    \n",
    "    quiry = '''SELECT FACULTY.instructor_fname,FACULTY.instructor_lname,Title,Catalog_id,Section,Semester,Year\n",
    "        FROM FACULTY\n",
    "            JOIN COURSE_OFFERING USING(FID)\n",
    "        WHERE FACULTY.instructor_lname like '%{}'\n",
    "        ORDER BY Year, Semester\n",
    "        LIMIT 20'''.format(input_instructor)\n",
    "    tables = pd.read_sql_query(quiry,engine)\n",
    "\n",
    "else :\n",
    "    input_semester = input(\"Enter the semseter you wish to see or type in No to see all the courses that the instructor is teaching in {0} :\".format(input_year)).capitalize()\n",
    "    if input_semester == \"no\" or  input_semester == \"n\" or  input_semester == \"nah\" :\n",
    "        quiry = '''SELECT FACULTY.instructor_fname,FACULTY.instructor_lname,Title,Catalog_id,Section,Semester,Year\n",
    "        FROM FACULTY\n",
    "        JOIN COURSE_OFFERING USING(FID)\n",
    "        WHERE FACULTY.instructor_lname like '%{0}' and year = {1}\n",
    "        ORDER BY Year, Semester\n",
    "        LIMIT 20'''.format(input_instructor , input_year )\n",
    "        tables = pd.read_sql_query(quiry,engine)\n",
    "    else:\n",
    "        quiry = '''SELECT FACULTY.instructor_fname,FACULTY.instructor_lname,Title,Catalog_id,Section,Semester,Year\n",
    "        FROM FACULTY\n",
    "        JOIN COURSE_OFFERING USING(FID)\n",
    "        WHERE FACULTY.instructor_lname like '%{0}' \n",
    "        AND year = {1}\n",
    "        AND SEMESTER == '{2}'\n",
    "        ORDER BY Year, Semester\n",
    "        LIMIT 20'''.format(input_instructor ,\n",
    "                           input_year , \n",
    "                           input_semester )\n",
    "        tables = pd.read_sql_query(quiry,engine)\n",
    "    \n",
    "\n",
    "\n",
    "    \n",
    "\n",
    "tables    \n"
   ]
  },
  {
   "cell_type": "code",
   "execution_count": null,
   "metadata": {},
   "outputs": [],
   "source": []
  },
  {
   "cell_type": "code",
   "execution_count": null,
   "metadata": {},
   "outputs": [],
   "source": []
  }
 ],
 "metadata": {
  "kernelspec": {
   "display_name": "Python 3",
   "language": "python",
   "name": "python3"
  },
  "language_info": {
   "codemirror_mode": {
    "name": "ipython",
    "version": 3
   },
   "file_extension": ".py",
   "mimetype": "text/x-python",
   "name": "python",
   "nbconvert_exporter": "python",
   "pygments_lexer": "ipython3",
   "version": "3.6.7"
  }
 },
 "nbformat": 4,
 "nbformat_minor": 4
}
