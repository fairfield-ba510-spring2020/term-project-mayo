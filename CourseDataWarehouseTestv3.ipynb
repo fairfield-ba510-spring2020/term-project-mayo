{
 "cells": [
  {
   "cell_type": "code",
   "execution_count": 1,
   "metadata": {},
   "outputs": [
    {
     "data": {
      "text/plain": [
       "'Connected: @CourseDataWarehouse.db'"
      ]
     },
     "execution_count": 1,
     "metadata": {},
     "output_type": "execute_result"
    }
   ],
   "source": [
    "%load_ext sql\n",
    "%sql sqlite:///CourseDataWarehouse.db"
   ]
  },
  {
   "cell_type": "code",
   "execution_count": 2,
   "metadata": {},
   "outputs": [
    {
     "name": "stdout",
     "output_type": "stream",
     "text": [
      " * sqlite:///CourseDataWarehouse.db\n",
      "Done.\n"
     ]
    },
    {
     "data": {
      "text/plain": [
       "[]"
      ]
     },
     "execution_count": 2,
     "metadata": {},
     "output_type": "execute_result"
    }
   ],
   "source": [
    "%%sql\n",
    "ATTACH 'CourseData.db' AS CDDB"
   ]
  },
  {
   "cell_type": "code",
   "execution_count": 3,
   "metadata": {},
   "outputs": [
    {
     "name": "stdout",
     "output_type": "stream",
     "text": [
      " * sqlite:///CourseDataWarehouse.db\n",
      "Done.\n"
     ]
    },
    {
     "data": {
      "text/html": [
       "<table>\n",
       "    <tr>\n",
       "        <th>PID</th>\n",
       "        <th>program_code</th>\n",
       "        <th>program_name</th>\n",
       "    </tr>\n",
       "    <tr>\n",
       "        <td>1</td>\n",
       "        <td>AN</td>\n",
       "        <td>Asian Studies</td>\n",
       "    </tr>\n",
       "</table>"
      ],
      "text/plain": [
       "[(1, 'AN', 'Asian Studies')]"
      ]
     },
     "execution_count": 3,
     "metadata": {},
     "output_type": "execute_result"
    }
   ],
   "source": [
    "%%sql\n",
    "select * from CDDB.PROGRAMS LIMIT 1"
   ]
  },
  {
   "cell_type": "code",
   "execution_count": 4,
   "metadata": {},
   "outputs": [
    {
     "name": "stdout",
     "output_type": "stream",
     "text": [
      " * sqlite:///CourseDataWarehouse.db\n",
      "Done.\n",
      "Done.\n",
      "Done.\n",
      "Done.\n",
      "Done.\n",
      "Done.\n",
      "Done.\n",
      "Done.\n",
      "Done.\n",
      "Done.\n",
      "Done.\n",
      "Done.\n"
     ]
    },
    {
     "data": {
      "text/plain": [
       "[]"
      ]
     },
     "execution_count": 4,
     "metadata": {},
     "output_type": "execute_result"
    }
   ],
   "source": [
    "%%sql\n",
    "\n",
    "DROP TABLE IF EXISTS PROGRAMS_DIM;\n",
    "DROP TABLE IF EXISTS LOCATIONS_DIM;\n",
    "DROP TABLE IF EXISTS TIMES_DIM;\n",
    "DROP TABLE IF EXISTS FACULTY_DIM;\n",
    "DROP TABLE IF EXISTS COURSE_CATALOGS_DIM;\n",
    "DROP TABLE IF EXISTS COURSES_FACT;\n",
    "\n",
    "\n",
    "\n",
    "\n",
    "\n",
    "vacuum; \n",
    "\n",
    "CREATE TABLE PROGRAMS_DIM (\n",
    "    PID INTEGER NOT NULL PRIMARY KEY,\n",
    "    program_code TEXT NOT NULL,\n",
    "    program_name TEXT NOT NULL\n",
    ");\n",
    "\n",
    "\n",
    "CREATE TABLE LOCATIONS_DIM (\n",
    "    LID INTEGER PRIMARY KEY,\n",
    "    location TEXT ,\n",
    "    BuildingName TEXT\n",
    "\n",
    ");\n",
    "\n",
    "\n",
    "CREATE TABLE FACULTY_DIM (\n",
    "    FID  INTEGER NOT NULL PRIMARY KEY,\n",
    "    instructor_fname TEXT NOT NULL,\n",
    "    instructor_lname TEXT NOT NULL\n",
    ");\n",
    "\n",
    "\n",
    "CREATE TABLE COURSE_CATALOGS_DIM (\n",
    "    CID INTEGER PRIMARY KEY,\n",
    "\n",
    "    CatalogYear TEXT NULL,\n",
    "    Credits TEXT  NULL,\n",
    "    Prereqs TEXT,\n",
    "    Coreqs TEXT,\n",
    "    Fees INTEGER,\n",
    "    Description TEXT,\n",
    "    Attributes TEXT\n",
    ");\n",
    "\n",
    "\n",
    "\n",
    "CREATE TABLE COURSES_FACT (\n",
    "    CID INTEGER NULL ,\n",
    "    CRN INTEGER NOT NULL,\n",
    "    SEMESTER TEXT NOT NULL ,\n",
    "    YEAR INTEGER NOT NULL,\n",
    "    Title TEXT  NULL,\n",
    "    SECTION TEXT NOT NULL,\n",
    "    Act INTEGER,\n",
    "    Cap INTEGER,\n",
    "    Rem INTEGER, \n",
    "    timecodes TEXT,\n",
    "    PID INTEGER  NULL,\n",
    "    LID INTEGER  NULL,\n",
    "    FID INTEGER  NULL,\n",
    "   Catalog_ID  TEXT NULL ,\n",
    "    FOREIGN KEY (PID) REFERENCES PROGRAMS_DIM (PID),\n",
    "    FOREIGN KEY (LID) REFERENCES LOCATIONS_DIM (LID),\n",
    "    FOREIGN KEY (FID) REFERENCES FACULTY_DIM (FID),\n",
    "    FOREIGN KEY (CID) REFERENCES COURSE_CATALOGS_DIM (CID)\n",
    ");"
   ]
  },
  {
   "cell_type": "code",
   "execution_count": 6,
   "metadata": {},
   "outputs": [
    {
     "name": "stdout",
     "output_type": "stream",
     "text": [
      " * sqlite:///CourseDataWarehouse.db\n",
      "92 rows affected.\n",
      "207 rows affected.\n",
      "1104 rows affected.\n",
      "6696 rows affected.\n",
      "13756 rows affected.\n"
     ]
    },
    {
     "data": {
      "text/plain": [
       "[]"
      ]
     },
     "execution_count": 6,
     "metadata": {},
     "output_type": "execute_result"
    }
   ],
   "source": [
    "%%sql \n",
    "\n",
    "\n",
    "INSERT INTO PROGRAMS_DIM ( program_name, program_code)\n",
    "SELECT DISTINCT  program_name, program_code\n",
    "FROM CDDB.PROGRAMS;\n",
    "\n",
    "\n",
    "INSERT INTO LOCATIONS_DIM (location ,BuildingName )\n",
    "SELECT  location , BuildingName\n",
    "FROM CDDB.LOCATION;\n",
    "\n",
    "\n",
    "INSERT INTO FACULTY_DIM (instructor_fname , instructor_lname)\n",
    "SELECT  DISTINCT instructor_fname , instructor_lname\n",
    "FROM CDDB.FACULTY;\n",
    "\n",
    "\n",
    "INSERT INTO COURSE_CATALOGS_DIM (CatalogYear, credits, Prereqs, Coreqs, Fees, Description, Attributes)\n",
    "SELECT CDDB.COURSE.CatalogYear , credits, prereqs, coreqs, fees, description, attributes\n",
    "FROM CDDB.COURSE;\n",
    "\n",
    "\n",
    "\n",
    "INSERT INTO COURSES_FACT (Catalog_ID , CRN, SEMESTER , YEAR , TITLE, SECTION, ACT, CAP,REM, TIMECODES, PID, LID, FID, CID)\n",
    "SELECT DISTINCT CDDB.COURSE_OFFERING.Catalog_ID, CDDB.CLASS_MEETINGS.CRN, CDDB.CLASS_MEETINGS.SEMESTER , CDDB.CLASS_MEETINGS.YEAR, CDDB.COURSE_OFFERING.title, CDDB.COURSE_OFFERING.SECTION, act, cap, rem, timecodes, PROGRAMS_DIM.PID, LOCATIONS_DIM.LID, FID,CDDB.COURSE.CID\n",
    "FROM CDDB.COURSE_OFFERING\n",
    "     JOIN CDDB.CLASS_MEETINGS USING  (COID)\n",
    "    left JOIN LOCATIONS_DIM USING (LID)\n",
    "     left JOIN CDDB.COURSE USING (CID)\n",
    "    left JOIN PROGRAMS_DIM USING (PID)\n",
    "    left JOIN FACULTY_DIM USING (FID)\n",
    "    left JOIN COURSE_CATALOGS_DIM USING (CID);\n",
    "    \n",
    "    \n",
    "\n",
    "    \n",
    "   "
   ]
  },
  {
   "cell_type": "code",
   "execution_count": null,
   "metadata": {},
   "outputs": [],
   "source": []
  }
 ],
 "metadata": {
  "kernelspec": {
   "display_name": "Python 3",
   "language": "python",
   "name": "python3"
  },
  "language_info": {
   "codemirror_mode": {
    "name": "ipython",
    "version": 3
   },
   "file_extension": ".py",
   "mimetype": "text/x-python",
   "name": "python",
   "nbconvert_exporter": "python",
   "pygments_lexer": "ipython3",
   "version": "3.6.7"
  }
 },
 "nbformat": 4,
 "nbformat_minor": 4
}
